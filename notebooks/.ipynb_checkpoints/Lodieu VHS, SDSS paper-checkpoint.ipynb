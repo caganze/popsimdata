{
 "cells": [
  {
   "cell_type": "code",
   "execution_count": 1,
   "metadata": {},
   "outputs": [
    {
     "name": "stdout",
     "output_type": "stream",
     "text": [
      "\n",
      "\n",
      "Welcome to the Spex Prism Library Analysis Toolkit (SPLAT)!\n",
      "If you make use of any features of this toolkit for your research, please remember to cite the SPLAT paper:\n",
      "\n",
      "Burgasser et al. (2017, Astro. Soc. India Conf. Series 14, p. 7); Bibcode: 2017ASInC..14....7B\n",
      "\n",
      "If you make use of any spectra or models in this toolkit, please remember to cite the original source.\n",
      "Please report any errors are feature requests to our github page, https://github.com/aburgasser/splat/\n",
      "\n",
      "\n"
     ]
    }
   ],
   "source": [
    "#test the model class on JSWT simulations \n",
    "import numpy as np\n",
    "import pandas as pd\n",
    "#import splat\n",
    "#import popsims\n",
    "from astropy.coordinates import SkyCoord, Galactic\n",
    "#from popsims.galaxy import Pointing, volume_calc, create_pop\n",
    "import matplotlib.pyplot as plt\n",
    "import seaborn as sns\n",
    "import scipy\n",
    "#sns.set_style(\"darkgrid\", {\"axes.facecolor\": \".95\"})\n",
    "\n",
    "#plt.style.use('fivethirtyeight')\n",
    "#plt.style.use('dark_background')\n",
    "\n",
    "from  matplotlib.colors import Normalize\n",
    "import astropy.units as u\n",
    "import popsims\n",
    "import matplotlib\n",
    "from tqdm import tqdm\n",
    "from tqdm import tqdm\n",
    "import matplotlib as mpl \n",
    "\n",
    "\n",
    "from popsims.simulator import Population\n",
    "from popsims.galaxy import Disk, Halo\n",
    "from popsims.relations import polynomial_relation\n",
    "import splat.empirical as spe"
   ]
  },
  {
   "cell_type": "code",
   "execution_count": 2,
   "metadata": {},
   "outputs": [],
   "source": [
    "#SDSS \n",
    "SDSS={'FOV': 2.5*u.degree*2.5*u.degree,\\\n",
    "      'l':((np.array([0, 360]))*u.degree.to(u.radian)),\\\n",
    "            'b': ((np.array([-90, 90]))*u.degree.to(u.radian))}\n",
    "\n",
    "SDSS_discrete={'FOV': 2.5*u.degree*2.5*u.degree,\\\n",
    "      'l':((np.array([0, 360]))*u.degree.to(u.radian)),\\\n",
    "            'b': ((np.array([-90, 90]))*u.degree.to(u.radian))}"
   ]
  },
  {
   "cell_type": "code",
   "execution_count": 3,
   "metadata": {},
   "outputs": [],
   "source": [
    "DATA_FOLDER='/volumes/Lacie/popsimsdata//'"
   ]
  },
  {
   "cell_type": "code",
   "execution_count": 4,
   "metadata": {},
   "outputs": [],
   "source": [
    "import astropy.table as astrotable\n",
    "from astropy.io.votable import parse_single_table"
   ]
  },
  {
   "cell_type": "code",
   "execution_count": 5,
   "metadata": {},
   "outputs": [],
   "source": [
    "t1    = astrotable.Table.read(DATA_FOLDER+'Stripe_Defs6_ctheissen.fit') # open an FITS file\n",
    "t2    = astrotable.Table.read(DATA_FOLDER+'FieldNums_ctheissen.fit') # open an FITS file\n",
    "t3    = astrotable.join(t1, t2, keys='fieldid').to_pandas()"
   ]
  },
  {
   "cell_type": "code",
   "execution_count": 6,
   "metadata": {},
   "outputs": [],
   "source": [
    "import glob"
   ]
  },
  {
   "cell_type": "code",
   "execution_count": null,
   "metadata": {},
   "outputs": [],
   "source": []
  },
  {
   "cell_type": "code",
   "execution_count": 7,
   "metadata": {},
   "outputs": [
    {
     "name": "stdout",
     "output_type": "stream",
     "text": [
      "Number of candidates 130\n",
      "Number of candidates 4\n",
      "Number of candidates 114\n",
      "Number of candidates 59\n",
      "Number of candidates 52\n",
      "Number of candidates 174\n",
      "Number of candidates 17\n",
      "Number of candidates 115\n",
      "Number of candidates 13\n",
      "Number of candidates 445\n",
      "Number of candidates 2\n",
      "Number of candidates 253\n"
     ]
    }
   ],
   "source": [
    "#forget about sdss use\n",
    "ffolder='/volumes/LaCie/lodieu/*.xml'\n",
    "lodieu_dfs=[]\n",
    "for f in glob.glob(ffolder):\n",
    "    tbl = parse_single_table(f).to_table()\n",
    "    print('Number of candidates',len(tbl))\n",
    "    lodieu_dfs.append(tbl.to_pandas())\n",
    "dfl_conct=pd.concat(lodieu_dfs)"
   ]
  },
  {
   "cell_type": "code",
   "execution_count": 8,
   "metadata": {},
   "outputs": [],
   "source": [
    "#combine \n",
    "ras0=np.nanmedian([dfl_conct['RAJ2000_VHS'].values, dfl_conct['RAJ2000_LAS'].values], axis=0)\n",
    "decs0=np.nanmedian([dfl_conct['DEJ2000_VHS'].values, dfl_conct['DEJ2000_LAS'].values], axis=0)"
   ]
  },
  {
   "cell_type": "code",
   "execution_count": 9,
   "metadata": {},
   "outputs": [],
   "source": [
    "assert len(popsims.dropnans(ras0)) == len(dfl_conct)\n",
    "assert len(popsims.dropnans(decs0)) == len(dfl_conct)"
   ]
  },
  {
   "cell_type": "code",
   "execution_count": 10,
   "metadata": {},
   "outputs": [],
   "source": [
    "footprint=SkyCoord(ra=ras0*u.degree, dec=decs0*u.degree)"
   ]
  },
  {
   "cell_type": "markdown",
   "metadata": {},
   "source": [
    "#### fig, ax=plt.subplots()\n",
    "ax.scatter(ras0, decs0)"
   ]
  },
  {
   "cell_type": "code",
   "execution_count": 11,
   "metadata": {},
   "outputs": [],
   "source": [
    "def compute_mags_from_reference(spt, mag_key, ref):\n",
    "    vals, unc= polynomial_relation(spt, 'spt', mag_key, ref, nsample=1, xerr=0.0)\n",
    "    return np.random.normal(vals, unc)\n",
    "\n",
    "def get_best2018_relation(spt, flt):\n",
    "    return spe.typeToMag(spt, flt, ref='best2018')\n",
    "\n",
    "def get_ps1_mags(df):\n",
    "    gs= get_best2018_relation(df.spt, 'PANSTARRS_G')\n",
    "    rs=compute_mags_from_reference(df.spt, 'r_ps1', 'freeser2022')\n",
    "    imags=compute_mags_from_reference(df.spt, 'i_ps1', 'freeser2022')\n",
    "    zs=compute_mags_from_reference(df.spt, 'z_ps1', 'freeser2022')\n",
    "    ys=compute_mags_from_reference(df.spt, 'y_ps1', 'freeser2022')\n",
    "    \n",
    "    #use beset et al for <16\n",
    "    best_gs= get_best2018_relation(df.spt, 'PANSTARRS_G')\n",
    "    best_rs= get_best2018_relation(df.spt, 'PANSTARRS_R')\n",
    "    best_is= get_best2018_relation(df.spt, 'PANSTARRS_I')\n",
    "    best_zs= get_best2018_relation(df.spt, 'PANSTARRS_Z')\n",
    "    best_ys= get_best2018_relation(df.spt, 'PANSTARRS_Y')\n",
    "\n",
    "    #mask\n",
    "    mask= df['spt']<=20\n",
    "\n",
    "    for m, ml in zip([gs, rs, imags, zs, ys], ['G', 'R', 'I', 'Z', 'Y']):\n",
    "        df['abs_PANSTARRS_{}'.format(ml)]=np.random.normal(m[0], m[1])\n",
    "        df['PANSTARRS_{}'.format(ml)]=   df['abs_PANSTARRS_{}'.format(ml)]+5*np.log10(df.distance/10.0)\n",
    "       \n",
    "    for m, ml in zip([best_gs, best_rs, best_is, best_zs, best_ys], ['G', 'R', 'I', 'Z', 'Y']):\n",
    "        df['abs_PANSTARRS_{}'.format(ml)]=np.random.normal(m[0], m[1])\n",
    "        df['PANSTARRS_{}'.format(ml)]=   df['abs_PANSTARRS_{}'.format(ml)]+5*np.log10(df.distance/10.0)\n",
    "        \n",
    "    return df"
   ]
  },
  {
   "cell_type": "code",
   "execution_count": 12,
   "metadata": {},
   "outputs": [
    {
     "data": {
      "text/plain": [
       "<module 'popsims' from '/Users/caganze/opt/anaconda3/lib/python3.9/site-packages/popsims/__init__.py'>"
      ]
     },
     "execution_count": 12,
     "metadata": {},
     "output_type": "execute_result"
    }
   ],
   "source": [
    "popsims"
   ]
  },
  {
   "cell_type": "code",
   "execution_count": 13,
   "metadata": {},
   "outputs": [],
   "source": [
    "def simulate_survey(keys, maglimit, ps1=False):\n",
    "    #use the brighest magnitude cut\n",
    "    #k= [k for k in maglimit.keys()][0]\n",
    "    #absmag= np.poly1d(popsims.simulator.POLYNOMIALS['absmags_spt']['dwarfs'][k]['fit'])(15)\n",
    "    #mag_cut= maglimit[k]\n",
    "    #dmax=10.**(-(absmag-mag_cut)/5. + 1.)\n",
    "    #--> to be more precise, can simulate within volume for given spt\n",
    "    #samples=pd.DataFrame()\n",
    "    \n",
    "    #special case for thin disk panstarrs, use the mag relations from freeser\n",
    "    \n",
    "    #thin disk\n",
    "    \n",
    "    dfs=[]\n",
    "    \n",
    "    for dmax in [1000, 10_000]:\n",
    "\n",
    "        p1=Population(evolmodel= 'burrows1997',\n",
    "                      imf_power=-0.6,\n",
    "                      binary_fraction=0.2,\n",
    "                      age_range=[0, 8],\n",
    "                      mass_range=[0.01, .1],\n",
    "                     nsample=1e4)\n",
    "\n",
    "        p1.simulate()\n",
    "\n",
    "        p1.add_distances( Disk(H=300, L=2600), footprint.galactic.l.radian,footprint.galactic.b.radian, 0.1,  dmax, dsteps=1000)\n",
    "\n",
    "        #add magnitudes from pre-defined filters or pre-define polynomial cofficients\n",
    "        p1.add_magnitudes(keys, get_from='spt',object_type='dwarfs')\n",
    "\n",
    "        p2=Population(evolmodel= 'burrows1997',\n",
    "                      imf_power=-0.6,\n",
    "                      binary_fraction=0.2,\n",
    "                      age_range=[8, 14],\n",
    "                      mass_range=[0.01, .1],\n",
    "                     nsample=1e4)\n",
    "\n",
    "        p2.simulate()\n",
    "\n",
    "        p2.add_distances( Disk(H=900, L=3600), footprint.galactic.l.radian,footprint.galactic.b.radian, 0.1,  dmax, dsteps=1000)\n",
    "\n",
    "        #add magnitudes from pre-defined filters or pre-define polynomial cofficients\n",
    "        p2.add_magnitudes(keys, get_from='spt',object_type='dwarfs')\n",
    "\n",
    "\n",
    "        p3=Population(evolmodel= 'burrows1997',\n",
    "                      imf_power=-0.6,\n",
    "                      binary_fraction=0.2,\n",
    "                      age_range=[10, 14],\n",
    "                      mass_range=[0.01, .1],\n",
    "                     nsample=1e4)\n",
    "\n",
    "        p3.simulate()\n",
    "\n",
    "        p3.add_distances( Halo(), footprint.galactic.l.radian,footprint.galactic.b.radian, 0.1, dmax, dsteps=1000)\n",
    "\n",
    "        #add magnitudes from pre-defined filters or pre-define polynomial cofficients\n",
    "        p3.add_magnitudes(keys, get_from='spt',object_type='dwarfs')\n",
    "\n",
    "        mag_cols= np.concatenate([['abs_'+x for x in keys], keys])\n",
    "        cols=np.concatenate([mag_cols, ['scale', 'mass', 'age', 'temperature', \\\n",
    "                                        'scale_unc', 'scale_times_model', 'l', 'b','distance']])\n",
    "\n",
    "        df1=p1.to_dataframe(cols)\n",
    "        df1['population']='thin disk'\n",
    "\n",
    "        df2=p2.to_dataframe(cols)\n",
    "        df2['population']='thick disk'\n",
    "\n",
    "        df3=p3.to_dataframe(cols)\n",
    "        df3['population']='halo'\n",
    "\n",
    "        df=pd.concat([df1, df2, df3]).reset_index(drop=True)\n",
    "        \n",
    "        fig, ax=plt.subplots()\n",
    "        \n",
    "        #ax.scatter(df.temperature, df.distance, s=.1)\n",
    "        _= ax.hist(df.distance.values, bins=32)\n",
    "        #jkj\n",
    "\n",
    "        #apply magnitude cuts\n",
    "\n",
    "        df=df[np.logical_and.reduce([df[k] <  maglimit[k] for k in maglimit.keys() ])].reset_index(drop=True)\n",
    "        \n",
    "        print (df)\n",
    "\n",
    "    return pd.concat(dfs)\n",
    "    \n",
    "    "
   ]
  },
  {
   "cell_type": "code",
   "execution_count": 14,
   "metadata": {},
   "outputs": [],
   "source": [
    "#footprint.galactic.l.radian"
   ]
  },
  {
   "cell_type": "code",
   "execution_count": null,
   "metadata": {
    "scrolled": true
   },
   "outputs": [],
   "source": [
    "#run a combined ukidss-sdss \n",
    "ukidss_sdss0= simulate_survey(['SDSS_G', 'SDSS_R','SDSS_I', 'SDSS_Z', \n",
    "                             'UKIDSS_Y', 'UKIDSS_J', 'UKIDSS_H', 'UKIDSS_K'], \\\n",
    "                             {'UKIDSS_Y': 20.3, 'UKIDSS_J': 19.9})\n",
    "#Y=20.3,J=19.9,H=18.6,K=18.2\n",
    "#G=23.15"
   ]
  },
  {
   "cell_type": "code",
   "execution_count": null,
   "metadata": {},
   "outputs": [],
   "source": [
    "def apply_other_cuts_ukidss(t):\n",
    "    #additional cuts \n",
    "    #HJ > -0.9375*(I-J)+ 19.59375\n",
    "    #J-K <= 0.125*(I-J)+ 0.4875\n",
    "    #additional cuts\n",
    "    # HJ >=  −2.14848* (z-J)+ 20.36963\n",
    "    # J-K <= 0.2963 *(z-J)+ 0.374\n",
    "    mask0= t.redH_UKIDSS_J > -0.9375*(t.SDSS_I-t.UKIDSS_J)+19.59375\n",
    "    mask1= (t.UKIDSS_J-t.UKIDSS_K) <= 0.125*(t.SDSS_I-t.UKIDSS_J)+0.4875\n",
    "    mask2= t.redH_UKIDSS_J > -2.14848*(t.SDSS_Z-t.UKIDSS_J)+20.36963\n",
    "    mask3= (t.UKIDSS_J-t.UKIDSS_K)<=  0.2963*(t.SDSS_Z-t.UKIDSS_J)+0.374\n",
    "    \n",
    "    t=t[np.logical_and.reduce([mask0, mask1, mask2, mask3])]\n",
    "\n",
    "    return t\n",
    "\n",
    "ukidss_sdss_r= apply_other_cuts_ukidss(ukidss_sdss0)"
   ]
  },
  {
   "cell_type": "code",
   "execution_count": null,
   "metadata": {},
   "outputs": [],
   "source": [
    "ukidss_sdss=ukidss_sdss_r.query('UKIDSS_Y < 20.3 and UKIDSS_J <19.9 and UKIDSS_H < 18.6 and UKIDSS_K < 18.2 and SDSS_G < 22.2 and SDSS_R < 22.2 and SDSS_I < 21.3 and SDSS_Z< 20.5 ' )"
   ]
  },
  {
   "cell_type": "code",
   "execution_count": null,
   "metadata": {},
   "outputs": [],
   "source": [
    "ukidss_sdss_thin=ukidss_sdss_r.query('population == \"thin disk\"')\n",
    "ukidss_sdss_thick=ukidss_sdss_r.query('population == \"thick disk\"')\n",
    "ukidss_sdss_halo=ukidss_sdss_r.query('population ==\"halo\"')"
   ]
  },
  {
   "cell_type": "code",
   "execution_count": null,
   "metadata": {},
   "outputs": [],
   "source": [
    "colors=['#AAAAAA', '#FF851B', '#0074D9']\n",
    "pops=[ukidss_sdss_thin, ukidss_sdss_thick, ukidss_sdss_halo]\n",
    "names=['thin disk', 'thick disk', 'halo']\n",
    "sizes=[.1, .1, .1]\n",
    "markers=['.', '^', '*']"
   ]
  },
  {
   "cell_type": "code",
   "execution_count": null,
   "metadata": {},
   "outputs": [],
   "source": [
    "#additional cuts"
   ]
  },
  {
   "cell_type": "code",
   "execution_count": null,
   "metadata": {},
   "outputs": [],
   "source": []
  },
  {
   "cell_type": "code",
   "execution_count": null,
   "metadata": {},
   "outputs": [],
   "source": [
    "#run a combined ukidss-sdss \n",
    "vhs_sdss= simulate_survey(['SDSS_G', 'SDSS_R','SDSS_I', 'SDSS_Z', \n",
    "                             'VISTA_Y', 'VISTA_J', 'VISTA_H', 'VISTA_KS'], \\\n",
    "                             {'SDSS_G': 23.15})\n",
    "#Y=20.3,J=19.9,H=18.6,K=18.2"
   ]
  },
  {
   "cell_type": "code",
   "execution_count": null,
   "metadata": {},
   "outputs": [],
   "source": [
    "#u=22.0, g=22.2, r=22.2, i=21.3, z=20.5\n",
    "vhs_sdss=vhs_sdss.query('VISTA_J < 19.5 and VISTA_H < 18.6 and VISTA_KS < 17.9 and \\\n",
    "SDSS_G < 22.2 and SDSS_R < 22.2 and SDSS_I < 21.3 and SDSS_Z< 20.5')"
   ]
  },
  {
   "cell_type": "code",
   "execution_count": null,
   "metadata": {
    "scrolled": true
   },
   "outputs": [],
   "source": [
    "vhs_ps1=  simulate_survey(['PANSTARRS_G', 'PANSTARRS_R','PANSTARRS_I', 'PANSTARRS_Z', 'PANSTARRS_Y',\n",
    "                             'VISTA_Y', 'VISTA_J', 'VISTA_H', 'VISTA_KS'], \\\n",
    "                             {'VISTA_J': 19.5}, ps1=True)"
   ]
  },
  {
   "cell_type": "code",
   "execution_count": null,
   "metadata": {},
   "outputs": [],
   "source": [
    "vhs_ps1.head(5)"
   ]
  },
  {
   "cell_type": "code",
   "execution_count": null,
   "metadata": {},
   "outputs": [],
   "source": [
    "vhs_ps1=vhs_ps1.query('PANSTARRS_G < 23.3 and PANSTARRS_R < 23.2 and PANSTARRS_I < 23.1 \\\n",
    "and PANSTARRS_Z < 22.3 and PANSTARRS_Y < 21 and VISTA_J < 19.5 and VISTA_H < 18.6 and VISTA_KS < 17.9')"
   ]
  },
  {
   "cell_type": "code",
   "execution_count": null,
   "metadata": {},
   "outputs": [],
   "source": []
  },
  {
   "cell_type": "code",
   "execution_count": null,
   "metadata": {},
   "outputs": [],
   "source": [
    "\n"
   ]
  },
  {
   "cell_type": "code",
   "execution_count": null,
   "metadata": {},
   "outputs": [],
   "source": [
    "def compute_vols_and_numbers(df, gmodel, sptgrid, footprint, maglimits):\n",
    "    from popsims.abs_mag_relations import POLYNOMIALS\n",
    "    counts={}\n",
    "    vols={}\n",
    "    dists={}\n",
    "\n",
    "    for spt in sptgrid:\n",
    "        \n",
    "        dmins=[]\n",
    "        dmaxs=[]\n",
    "        \n",
    "        dmins_sd=[]\n",
    "        dmaxs_sd=[]\n",
    "        \n",
    "        for k in maglimits.keys():\n",
    "            mag_cut= maglimits[k]\n",
    "            absmag= np.poly1d(POLYNOMIALS['absmags_spt']['dwarfs'][k]['fit'])(spt)\n",
    "            \n",
    "            #absmag_sd= np.poly1d(POLYNOMIALS['absmags_spt']['subdwarfs'][k]['fit'])(spt)\n",
    "        \n",
    "            mag_cut= maglimits[k]\n",
    "            \n",
    "            dmin=10.**(-(absmag-mag_cut[0])/5. + 1.)\n",
    "            dmax=10.**(-(absmag-mag_cut[1])/5. + 1.)\n",
    "            \n",
    "            #dmin_sd=10.**(-(absmag_sd-14)/5. + 1.)\n",
    "            #dmax_sd=10.**(-(absmag_sd-mag_cut)/5. + 1.)\n",
    "        \n",
    "            \n",
    "            dmins.append(dmin)\n",
    "            dmaxs.append(dmax)\n",
    "            \n",
    "            #dmins_sd.append(dmin)\n",
    "            #dmaxs_sd.append(dmax)\n",
    "            \n",
    "        dmin=np.nanmedian(dmins)\n",
    "        dmax=np.nanmedian(dmaxs)\n",
    "        \n",
    "        #dmin_sd=np.nanmedian(dmins_sd)\n",
    "        #dmax_sd=np.nanmedian(dmaxs_sd)\n",
    "        \n",
    "        #print (spt, dmin, dmax)\n",
    "        \n",
    "        scale=[df.scale.mean(), df.scale_unc.mean(), df.scale_times_model.mean()]\n",
    "        \n",
    "        sn= len(df)\n",
    "        #sn= len(df.query('population == \"thin disk\"'))\n",
    "        #snt= len(df.query('population == \"thick disk\"'))\n",
    "        #snh= len(df.query('population == \"halo\"'))\n",
    "      \n",
    "        sn_c= len(df.query('spt < {}'.format(spt, spt+0.9)))\n",
    "        #snt_c= len(df.query('population == \"thick disk\" and spt >= {} and spt < {}'.format(spt, spt+0.9)))\n",
    "        #snh_c= len(df.query('population == \"halo\" and spt >= {} and spt < {}'.format(spt, spt+0.9)))\n",
    "        \n",
    "        \n",
    "        volumes={'volume': 0.0}\n",
    "        \n",
    "        cnts={'number':  sn_c*np.divide(scale[-1], sn)}\n",
    "        for s in  footprint:\n",
    "            l=s.galactic.l.radian\n",
    "            b=s.galactic.b.radian\n",
    "            volumes['volume'] += gmodel.volume(l, b, dmin, dmax)/len(footprint)\n",
    "            #volumes['thick'] += tdisk.volume(l, b, dmin, dmax)/len(footprint)\n",
    "            #volumes['halo'] += halo.volume(l, b, dmin, dmax)/len(footprint)\n",
    "            \n",
    "        vols.update({spt: volumes})\n",
    "        counts.update({spt: cnts})\n",
    "        dists.update({spt: dmax})\n",
    "        \n",
    "        \n",
    "    return pd.DataFrame.from_records(vols).T.replace(np.inf, np.nan),\\\n",
    "    pd.DataFrame.from_records(counts).T.replace(np.inf, np.nan),\\\n",
    "    dists\n"
   ]
  },
  {
   "cell_type": "code",
   "execution_count": null,
   "metadata": {},
   "outputs": [],
   "source": [
    "sptgrid=np.arange(10, 40)\n",
    "res_ukidss_sdss=compute_vols_and_numbers(ukidss_sdss, sptgrid, footprint, {'UKIDSS_J': [14, 20]})"
   ]
  },
  {
   "cell_type": "code",
   "execution_count": null,
   "metadata": {},
   "outputs": [],
   "source": [
    "#comon area according to the paper 3667, 1681 and 7692 square degrees fo\n",
    "# UKIDSS-SDSS, VHS-SDSS and VHS-PS, respectively \n",
    "AREA_UKIDSS_SDSS=3667*(u.degree**2).to(u.radian**2)*(u.radian**2)\n",
    "AREA_VHS_SDSS=1681*(u.degree**2).to(u.radian**2)*(u.radian**2)\n",
    "AREA_VHS_PS1=7692*(u.degree**2).to(u.radian**2)*(u.radian**2)"
   ]
  },
  {
   "cell_type": "code",
   "execution_count": null,
   "metadata": {},
   "outputs": [],
   "source": [
    "res_vhs_sdss=compute_vols_and_numbers(vhs_sdss, sptgrid, footprint, {'VISTA_Y': [14, 20]})"
   ]
  },
  {
   "cell_type": "code",
   "execution_count": null,
   "metadata": {},
   "outputs": [],
   "source": [
    "res_ukidss_sdss[0].index"
   ]
  },
  {
   "cell_type": "code",
   "execution_count": null,
   "metadata": {},
   "outputs": [],
   "source": [
    "res_vhs_ps1=compute_vols_and_numbers(vhs_ps1, sptgrid, footprint, {'VISTA_Y': [14, 20]})"
   ]
  },
  {
   "cell_type": "code",
   "execution_count": null,
   "metadata": {},
   "outputs": [],
   "source": [
    "#res_vhs_ps1"
   ]
  },
  {
   "cell_type": "code",
   "execution_count": null,
   "metadata": {},
   "outputs": [],
   "source": [
    "fig, ax=plt.subplots(figsize=(14, 4), ncols=3)\n",
    "\n",
    "ax[0].step(res_ukidss_sdss[0].index, res_ukidss_sdss[0].thin*res_ukidss_sdss[1].thin*AREA_UKIDSS_SDSS/AREA_UKIDSS_SDSS.to(u.degree**2),\\\n",
    "        color=colors[0],  linestyle='dotted', label='Thin Disk')\n",
    "ax[0].step(res_ukidss_sdss[0].index, 0.12*res_ukidss_sdss[0].thick*res_ukidss_sdss[1].thick*AREA_UKIDSS_SDSS/AREA_UKIDSS_SDSS.to(u.degree**2), \\\n",
    "        color=colors[1], linestyle='--', label='Thick Disk')\n",
    "ax[0].step(res_ukidss_sdss[0].index, 0.0025*res_ukidss_sdss[0].halo*res_ukidss_sdss[1].thick*AREA_UKIDSS_SDSS/AREA_UKIDSS_SDSS.to(u.degree**2), \\\n",
    "        color=colors[-1], linestyle='-',  label='Halo')\n",
    "\n",
    "ax[1].step(res_vhs_sdss[0].index, res_vhs_sdss[0].thin*res_vhs_sdss[1].thin*AREA_VHS_SDSS/AREA_VHS_SDSS.to(u.degree**2),\\\n",
    "        color=colors[0],  linestyle='dotted', label='Thin Disk')\n",
    "ax[1].step(res_vhs_sdss[0].index, 0.12*res_vhs_sdss[0].thick*res_vhs_sdss[1].thick*AREA_VHS_SDSS/AREA_VHS_SDSS.to(u.degree**2), \\\n",
    "        color=colors[1], linestyle='--', label='Thick Disk')\n",
    "ax[1].step(res_vhs_sdss[0].index, 0.0025*res_vhs_sdss[0].halo*res_vhs_sdss[1].thick*AREA_VHS_SDSS/AREA_VHS_SDSS.to(u.degree**2), \\\n",
    "        color=colors[-1], linestyle='-',  label='Halo')\n",
    "\n",
    "\n",
    "ax[-1].step(res_vhs_ps1[0].index, res_vhs_ps1[0].thin*res_vhs_ps1[1].thin*AREA_VHS_PS1/AREA_VHS_PS1.to(u.degree**2),\\\n",
    "        color=colors[0],  linestyle='dotted', label='Thin Disk')\n",
    "ax[-1].step(res_vhs_ps1[0].index, 0.12*res_vhs_ps1[0].thick*res_vhs_ps1[1].thick*AREA_VHS_PS1/AREA_VHS_PS1.to(u.degree**2), \\\n",
    "        color=colors[1], linestyle='--', label='Thick Disk')\n",
    "ax[-1].step(res_vhs_ps1[0].index, 0.0025*res_vhs_ps1[0].halo*res_vhs_ps1[1].thick*AREA_VHS_PS1/AREA_VHS_PS1.to(u.degree**2), \\\n",
    "        color=colors[-1], linestyle='-',  label='Halo')\n",
    "\n",
    "\n",
    "\n",
    "\n",
    "ax[0].set(yscale='log', ylabel=r'Surface Density (deg $^{-2})$',\\\n",
    "       xlabel='Spectral Type', title='UKIDSS-SDSS')\n",
    "\n",
    "ax[1].set(yscale='log', ylabel=r'Surface Density (deg $^{-2})$',\\\n",
    "       xlabel='Spectral Type', title='VHS-SDSS')\n",
    "\n",
    "ax[-1].set(yscale='log', ylabel=r'Surface Density (deg $^{-2})$',\\\n",
    "       xlabel='Spectral Type', title='VHS-PS1')\n",
    "\n",
    "\n",
    "\n",
    "for a in ax:\n",
    "    a.legend(fontsize=10, loc='upper right')\n",
    "    a.set(yscale='log')\n",
    "    \n",
    "ax[0].set(xticks=[10, 15,20, 25], xticklabels=['M0', 'M5', 'L0', 'L5'])\n",
    "ax[1].set(xticks=[10, 15,20, 25], xticklabels=['M0', 'M5', 'L0', 'L5'])\n",
    "ax[-1].set(xticks=[10, 15,20, 25], xticklabels=['M0', 'M5', 'L0', 'L5'])\n",
    "\n",
    "\n",
    "\n",
    "plt.tight_layout()\n",
    "plt.savefig('../figures/plot_simulatedncounts.pdf')"
   ]
  },
  {
   "cell_type": "code",
   "execution_count": null,
   "metadata": {},
   "outputs": [],
   "source": [
    "fig, ax=plt.subplots(ncols=2, nrows=2, figsize=(12, 10))\n",
    "\n",
    "ax[0][0].scatter(dfl_conct.SDSSi-dfl_conct.Hmag_LAS, dfl_conct.Jmag_LAS-dfl_conct.Kmag_LAS, s=10, c='k' )\n",
    "ax[0][1].scatter(dfl_conct.SDSSi-dfl_conct.Jmag_LAS, dfl_conct.Hj, s=10, c='k'  )\n",
    "\n",
    "ax[1][0].scatter(dfl_conct.SDSSz-dfl_conct.Jmag_LAS, dfl_conct.Jmag_LAS-dfl_conct.Kmag_LAS, s=10, c='k' )\n",
    "ax[1][1].scatter(dfl_conct.SDSSz-dfl_conct.Jmag_LAS, dfl_conct.Hj, s=10, c='k' )\n",
    "\n",
    "\n",
    "for idx in range(0, 3):\n",
    "    p= pops[idx]\n",
    "    c=colors[idx]\n",
    "    n=names[idx]\n",
    "    s=sizes[idx]\n",
    "    m= markers[idx]\n",
    "    \n",
    "    ax[0][0].scatter(p.SDSS_I-p.UKIDSS_J, p.UKIDSS_J-p.UKIDSS_K, s=s, marker=m, color=c, label=n, alpha=0.1)\n",
    "    sns.kdeplot(p.SDSS_I-p.UKIDSS_J, p.UKIDSS_J-p.UKIDSS_K, color=c, ax=ax[0][0])\n",
    "    \n",
    "    ax[0][1].scatter(p.SDSS_I-p.UKIDSS_J, p.redH_UKIDSS_H, s=s, marker=m, color=c, label=n, alpha=0.1)\n",
    "    sns.kdeplot(p.SDSS_I-p.UKIDSS_J, p.redH_UKIDSS_H,color=c, ax=ax[0][1])\n",
    "\n",
    "    ax[1][0].scatter(p.SDSS_Z-p.UKIDSS_J, p.UKIDSS_J-p.UKIDSS_K,  marker=m,  s=s, color=c, label=n, alpha=0.1)\n",
    "    sns.kdeplot(p.SDSS_Z-p.UKIDSS_J, p.UKIDSS_J-p.UKIDSS_K, ax=ax[1][0], color=c)\n",
    "    \n",
    "    ax[1][1].scatter(p.SDSS_Z-p.UKIDSS_J, p.redH_UKIDSS_H, s=s,  marker=m,color=c, label=n, alpha=0.1)\n",
    "    sns.kdeplot(p.SDSS_Z-p.UKIDSS_J, p.redH_UKIDSS_H, color=c, ax=ax[1][1])\n",
    "\n",
    "\n",
    "\n",
    "\n",
    "for a in np.concatenate(ax):\n",
    "    l=a.legend(fontsize=14, markerscale=50)\n",
    "ax[0][0].set(xlabel='SDSSi-J', ylabel='J-K', xlim=[0, 6], ylim=[-0.5, 1.5])\n",
    "ax[0][1].set(xlabel='SDSSi-J', ylabel=r'H$_J$',  xlim=[0, 6], ylim=[10, 24])\n",
    "ax[0][1].invert_yaxis()\n",
    "\n",
    "ax[1][0].set(xlabel='SDSSz-J', ylabel='J-K', xlim=[0, 5.5], ylim=[-0.5, 1.5])\n",
    "ax[1][1].set(xlabel='SDSSz-J', ylabel=r'H$_J$', xlim=[0, 5.5], ylim=[10, 24])\n",
    "ax[1][1].invert_yaxis()\n",
    "\n",
    "\n",
    "plt.tight_layout()\n",
    "\n",
    "plt.savefig('../figures/plot_simulatedcolors_sdss_ukidss.jpeg')\n"
   ]
  },
  {
   "cell_type": "code",
   "execution_count": null,
   "metadata": {},
   "outputs": [],
   "source": []
  }
 ],
 "metadata": {
  "kernelspec": {
   "display_name": "Python 3 (ipykernel)",
   "language": "python",
   "name": "python3"
  },
  "language_info": {
   "codemirror_mode": {
    "name": "ipython",
    "version": 3
   },
   "file_extension": ".py",
   "mimetype": "text/x-python",
   "name": "python",
   "nbconvert_exporter": "python",
   "pygments_lexer": "ipython3",
   "version": "3.9.13"
  }
 },
 "nbformat": 4,
 "nbformat_minor": 4
}
