{
 "cells": [
  {
   "cell_type": "code",
   "execution_count": 1,
   "id": "68615e84",
   "metadata": {},
   "outputs": [
    {
     "name": "stdout",
     "output_type": "stream",
     "text": [
      "\n",
      "\n",
      "Welcome to the Spex Prism Library Analysis Toolkit (SPLAT)!\n",
      "If you make use of any features of this toolkit for your research, please remember to cite the SPLAT paper:\n",
      "\n",
      "Burgasser et al. (2017, Astro. Soc. India Conf. Series 14, p. 7); Bibcode: 2017ASInC..14....7B\n",
      "\n",
      "If you make use of any spectra or models in this toolkit, please remember to cite the original source.\n",
      "Please report any errors are feature requests to our github page, https://github.com/aburgasser/splat/\n",
      "\n",
      "\n"
     ]
    }
   ],
   "source": [
    "import pandas as pd\n",
    "import numpy as np\n",
    "import matplotlib.pyplot as plt\n",
    "import splat\n",
    "from matplotlib.backends.backend_pdf import PdfPages\n",
    "from tqdm import tqdm\n",
    "\n",
    "from popsims.plot_style import  plot_style\n",
    "\n",
    "plot_style()\n",
    "%matplotlib inline\n"
   ]
  },
  {
   "cell_type": "code",
   "execution_count": 2,
   "id": "01a3fae4",
   "metadata": {},
   "outputs": [],
   "source": [
    "#sorry for no documentation but you should be able reproduce the datafiles with this notebook"
   ]
  },
  {
   "cell_type": "code",
   "execution_count": 3,
   "id": "13a3b3e3",
   "metadata": {},
   "outputs": [],
   "source": [
    "splat.initializeStandards()\n",
    "ALL_STDS={}\n",
    "\n",
    "for s in [splat.STDS_DWARF_SPEX, splat.STDS_DSD_SPEX,\\\n",
    "          splat.STDS_ESD_SPEX, splat.STDS_INTG_SPEX,\n",
    "          splat.STDS_SD_SPEX]:\n",
    "    ALL_STDS.update(s)\n",
    "#ALL_STDS"
   ]
  },
  {
   "cell_type": "code",
   "execution_count": 4,
   "id": "5d9205ef",
   "metadata": {},
   "outputs": [],
   "source": [
    "#short names for visually confirmed ugly spectra \n",
    "bad_spectra=['J01073875-1314137', 'J01481478+1202447',\n",
    "            'J02481204+2445141', 'J034325482+31551656', 'J034350565+32031800',\n",
    "            'J03435925+3202502', 'J03441386+3156539', 'J034426561+32082064',\n",
    "             'J03442694+3203494', 'J03442694+3203494','J03451604+3205141',\n",
    "             'J03452212+3205450', 'J03452212+3205450', 'J034445206+32011971',\n",
    "             'J04123277+1044083','J06211484+6558164', 'J11321822-3018316',\n",
    "             'J20575592-0050060', 'J19165762+0509021', 'J17461199+50340362',\n",
    "             'J17224432+6329470', 'J16134550+1708270', 'J15551573-0956055',\n",
    "             'J15394189-0520428', 'J14351087-2333025', 'J14162409+1348267',\n",
    "             'J13271521+0759375', 'J130831063+08185225', 'J12414645-2238178',\n",
    "             'J11240487+3808054','J10492244+01255930', 'J07342571+3006583',\n",
    "             'J06074213+4550370', 'J04430581-3202089', 'J04364275+1901348',\n",
    "             'J2320292+412341','J21324036+1029494', 'J21304463-08452049',\n",
    "             'J2047247+142152', 'J2035203-311008', 'J18000116-1559235',\n",
    "             'J17461199+50340362','J17343053-1151388','J17224432+6329470',\n",
    "             'J16545079+3747146', 'J16184503-1321297',\n",
    "             'J16134550+1708270', 'J15551573-0956055', 'J15394189-0520428',\n",
    "             'J14351087-2333025', 'J14162409+1348267', 'J10492244+01255930',\n",
    "             'J07342571+3006583', 'J06022216+6336391', 'J03511847-1149326',\n",
    "             'J01020186+0355405', 'J11473434+215359', 'J11473434+2153590',\n",
    "            'J11491231-0153006', 'J11553951-37273499', 'J12414645-2238178',\n",
    "            'J13081228+6103486','J130831063+08185225', 'J14162409+1348267',\n",
    "            'J14351087-2333025', 'J15394189-0520428', 'J15551573-0956055',\n",
    "            'J16134550+1708270',  'J16545079+3747146', \n",
    "            'J17224432+6329470', 'J17343053-1151388','J19165762+0509021',\n",
    "            'J2035203-311008', 'J2047247+142152', 'J20571538+1715154', \\\n",
    "             'J20575592-0050060',  'J2320292+412341',\n",
    "            'J05021345+1442367', 'J2047247+142152', 'J20571538+1715154',\n",
    "            'J11553951-37273499', 'J16452211-1319516', 'J15551573-0956055']\n",
    "\n",
    "#unresolved binary candidates listed in paper + everything in Table 5 to be safe\n",
    "binary_candidates=np.unique(['J02361794+0048548', 'J093113.09+280228.9',\n",
    "'J13114227+3629235', 'J13411160-30525049', 'J14532589+1420418',\n",
    "'J20261584-2943124', 'J02060879+22355930', 'J04272708-1127143',\n",
    "'J10365305-3441380', 'J10595138-2113082', 'J142227.20+221557.5',\n",
    "'J16235970-0508114', 'J170725290-0138093', 'J1711457+223204',\n",
    "'J000649.16-085246.3','J004757.41+154641.4', 'J00521232+0012172',\n",
    "' J011912.22+240331.6','J000649.16-085246.3', 'J004757.41+154641.4', 'J00521232+0012172',\n",
    "'J011912.22+240331.6',\n",
    "'J020529.62+142114.0',\n",
    "'J02060879+22355930',\n",
    "'J02361794+0048548',\n",
    "'J024749.90-163112.6',\n",
    "'J03202839-0446358',\n",
    "'J035104.37+481046.8',\n",
    "'J04272708-1127143',\n",
    "'J05185995-2828372',\n",
    "'J07354882+2720167',\n",
    "'J080531.84+481233.0',\n",
    "'J090900.73+652527.2',\n",
    "'J093113.23+280227.1',\n",
    "'J09490860-1545485',\n",
    "'J103931.35+325625.5',\n",
    "'J10595138-2113082',\n",
    "'J11061197+2754225',\n",
    "'J120747.17+024424.8',\n",
    "'J12144089+6316434',\n",
    "'J13114227+3629235',\n",
    "'J13153094-2649513',\n",
    "'J13243559+6358284',\n",
    "'J13411160-30525049',\n",
    "'J141530.05+572428.7',\n",
    "'J142227.20+221557.5',\n",
    "'J143553.25+112948.6',\n",
    "'J143945.86+304220.6',\n",
    "'J14532589+1420418',\n",
    "'J151114.66+060742.9',\n",
    "'J151603.03+025928.9',\n",
    "'J16235970-0508114',\n",
    "'J17072529-0138093',\n",
    "'J17114573+2232044',\n",
    "'J17310140+5310476',\n",
    "'J17373467+5953434',\n",
    "'J20261584-2943124',\n",
    "'J205235.31-160929.8',\n",
    "'J21265916+7617440',\n",
    "'J21392676+0220226',\n",
    "'J222958.30+010217.2',\n",
    "'J223348.82+002214.0',\n",
    "'J235618.01+075420.4',\n",
    "'J232315.39+071931.0'])"
   ]
  },
  {
   "cell_type": "code",
   "execution_count": 5,
   "id": "f5988a92",
   "metadata": {},
   "outputs": [],
   "source": [
    "def get_designation(s):\n",
    "    #print (s)\n",
    "    coord=splat.designationToCoordinate(s)\n",
    "    return splat.coordinateToDesignation(coord)"
   ]
  },
  {
   "cell_type": "code",
   "execution_count": 6,
   "id": "c717f181",
   "metadata": {},
   "outputs": [],
   "source": [
    "def plot_sp_sp(sp, a, shortname, spex_type):\n",
    "    #plot a spectrum\n",
    "    std=ALL_STDS[spex_type]\n",
    "    \n",
    "    chi, sc=splat.compareSpectra( sp, std)\n",
    "    std.scale(sc)\n",
    "    \n",
    "    a.plot(sp.wave, sp.flux, c='k', linewidth=4, label=shortname)\n",
    "    a.plot(std.wave, std.flux, c='#7FDBFF', linewidth=2, label='{} STD'.format(spex_type))\n",
    "    \n",
    "    xlim=[0.85, 2.4]\n",
    "    mask= np.logical_and(sp.wave.value>xlim[0], sp.wave.value<xlim[1])\n",
    "    ylim= [sp.flux[mask].value.min(), sp.flux.value[mask].max()]\n",
    "    a.set(xlabel='Wave (micron)', ylabel=' Flux', xlim=xlim, ylim=ylim)\n",
    "    \n",
    "    a.legend()\n",
    "    \n",
    "def get_spectrum(filename):\n",
    "    try:\n",
    "        return splat.getSpectrum(filename=filename)[0]\n",
    "    except:\n",
    "        return \n",
    "    \n",
    "def get_shortname(des):\n",
    "    if '+' in des:\n",
    "        c=des.split('+')\n",
    "        return c[0][:5]+'+'+c[1][:4]\n",
    "    if '-' in des:\n",
    "        c=des.split('-')\n",
    "        return c[0][:5]+'-'+c[1][:4]\n",
    "    \n",
    "def class_by_standard(sp):\n",
    "    return splat.classifyByStandard(sp)[0]"
   ]
  },
  {
   "cell_type": "code",
   "execution_count": 7,
   "id": "52f2966f",
   "metadata": {
    "scrolled": false
   },
   "outputs": [],
   "source": [
    "%%capture\n",
    "db= splat.searchLibrary()\n",
    "spectra= db.DATA_FILE.apply(get_spectrum)"
   ]
  },
  {
   "cell_type": "code",
   "execution_count": 8,
   "id": "fb962b01",
   "metadata": {},
   "outputs": [],
   "source": [
    "db['SPECTRA']= spectra"
   ]
  },
  {
   "cell_type": "code",
   "execution_count": 9,
   "id": "1f466265",
   "metadata": {
    "scrolled": true
   },
   "outputs": [
    {
     "name": "stderr",
     "output_type": "stream",
     "text": [
      "100%|███████████████████████████████████████| 2037/2037 [03:16<00:00, 10.36it/s]\n"
     ]
    }
   ],
   "source": [
    "db['SPTYPE_BY_STANDARD']=[ class_by_standard(x) for x in tqdm(db.SPECTRA.values)]\n",
    "db=(db[~db.SPEX_TYPE.isna()]).reset_index(drop=True)"
   ]
  },
  {
   "cell_type": "code",
   "execution_count": 10,
   "id": "12772fc5",
   "metadata": {},
   "outputs": [],
   "source": [
    "binary_cands_des=[get_designation(x) for x in binary_candidates]"
   ]
  },
  {
   "cell_type": "code",
   "execution_count": 11,
   "id": "379d0e7a",
   "metadata": {},
   "outputs": [],
   "source": [
    "db['FLAG_IS_SPECTRAL_BINARY_CAND']=db.DESIGNATION.isin(binary_cands_des)\n",
    "db['FLAG_BAD_SPECTRA']= db.DESIGNATION.isin(bad_spectra)"
   ]
  },
  {
   "cell_type": "code",
   "execution_count": 12,
   "id": "cf3e96e8",
   "metadata": {},
   "outputs": [
    {
     "data": {
      "text/plain": [
       "array(['FLD-G', 'INT-G', 'VL-G', 'nan'], dtype='<U5')"
      ]
     },
     "execution_count": 12,
     "metadata": {},
     "output_type": "execute_result"
    }
   ],
   "source": [
    "np.unique(db.SPEX_GRAVITY_CLASSIFICATION.values.astype(str))"
   ]
  },
  {
   "cell_type": "code",
   "execution_count": 13,
   "id": "b19f3448",
   "metadata": {},
   "outputs": [
    {
     "data": {
      "text/plain": [
       "array(['Possible J flux calibration problem', 'nan',\n",
       "       'poor telluric correction'], dtype='<U35')"
      ]
     },
     "execution_count": 13,
     "metadata": {},
     "output_type": "execute_result"
    }
   ],
   "source": [
    "np.unique(db.NOTE_SP.values.astype(str))"
   ]
  },
  {
   "cell_type": "code",
   "execution_count": 14,
   "id": "1c8729b8",
   "metadata": {},
   "outputs": [
    {
     "data": {
      "text/plain": [
       "array(['Y', 'nan'], dtype=object)"
      ]
     },
     "execution_count": 14,
     "metadata": {},
     "output_type": "execute_result"
    }
   ],
   "source": [
    "np.unique(db.SBINARY.astype(str))"
   ]
  },
  {
   "cell_type": "code",
   "execution_count": 15,
   "id": "56e61ac7",
   "metadata": {},
   "outputs": [
    {
     "data": {
      "text/plain": [
       "array(['d/sd', 'esd', 'nan', 'sd'], dtype=object)"
      ]
     },
     "execution_count": 15,
     "metadata": {},
     "output_type": "execute_result"
    }
   ],
   "source": [
    "np.unique(db.METALLICITY_CLASS.astype(str))"
   ]
  },
  {
   "cell_type": "code",
   "execution_count": 16,
   "id": "c1c9fc78",
   "metadata": {},
   "outputs": [],
   "source": [
    "db['CLEAN']= np.logical_and.reduce([~db.FLAG_IS_SPECTRAL_BINARY_CAND,\n",
    "                                    ~db.FLAG_BAD_SPECTRA,\n",
    "                                    db.SPEX_GRAVITY_CLASSIFICATION=='FLD-G',\n",
    "                                    db.NOTE.astype(str) =='nan',\n",
    "                                    db.SBINARY.astype(str)=='nan',\n",
    "                                    db.METALLICITY_CLASS.astype(str)=='nan'])\n",
    "                                    "
   ]
  },
  {
   "cell_type": "code",
   "execution_count": 17,
   "id": "6de5d173",
   "metadata": {},
   "outputs": [],
   "source": [
    "num_types=[splat.typeToNum(x) for x in db.SPTYPE_BY_STANDARD.values]\n",
    "db=(db.loc[np.argsort(num_types)]).reset_index(drop=True)\n",
    "#db.SPTYPE_BY_STANDARD[db.CLEAN]"
   ]
  },
  {
   "cell_type": "code",
   "execution_count": 18,
   "id": "0415c514",
   "metadata": {},
   "outputs": [],
   "source": [
    "#plot everything in a pdf\n",
    "def plot_everything(df, filename):\n",
    "    with PdfPages('/users/caganze/'+filename) as pdf:\n",
    "\n",
    "        for g in np.array_split(df, int(len(df)/4)):\n",
    "            \n",
    "\n",
    "            fig, ax=plt.subplots(ncols=2, nrows=2)\n",
    "            \n",
    "            plot_sp_sp(g.SPECTRA.iloc[0], ax[0][0], g.DESIGNATION.iloc[0],  g.SPTYPE_BY_STANDARD.iloc[0] )\n",
    "            plot_sp_sp(g.SPECTRA.iloc[1], ax[0][1],  g.DESIGNATION.iloc[1], g.SPTYPE_BY_STANDARD.iloc[1] )\n",
    "            plot_sp_sp(g.SPECTRA.iloc[2], ax[1][0],  g.DESIGNATION.iloc[2], g.SPTYPE_BY_STANDARD.iloc[2])\n",
    "            plot_sp_sp(g.SPECTRA.iloc[3], ax[1][1],  g.DESIGNATION.iloc[3], g.SPTYPE_BY_STANDARD.iloc[3])\n",
    "            \n",
    "            plt.tight_layout()\n",
    "            pdf.savefig() \n",
    "            plt.close()\n",
    "            \n"
   ]
  },
  {
   "cell_type": "code",
   "execution_count": 19,
   "id": "dfa29d33",
   "metadata": {},
   "outputs": [],
   "source": [
    "plot_everything(db[db.CLEAN].reset_index(drop=True), filename='clean_spectra.pdf')\n",
    "plot_everything(db[db.FLAG_BAD_SPECTRA].reset_index(drop=True), filename='bad_spectra.pdf')"
   ]
  },
  {
   "cell_type": "code",
   "execution_count": 20,
   "id": "078a8e9e",
   "metadata": {},
   "outputs": [],
   "source": [
    "import splat.empirical as spe"
   ]
  },
  {
   "cell_type": "code",
   "execution_count": null,
   "id": "4d03881f",
   "metadata": {},
   "outputs": [],
   "source": []
  },
  {
   "cell_type": "code",
   "execution_count": 21,
   "id": "2b4ee483",
   "metadata": {},
   "outputs": [],
   "source": [
    "def get_absolute_mag_j2mass(spt):\n",
    "    #use pecaut for < spt <16\n",
    "    if spt <=16:\n",
    "        return spe.typeToMag(spt, '2MASS J', ref='pecaut2013')\n",
    "    \n",
    "    else:\n",
    "        return spe.typeToMag(spt, '2MASS J', ref='dupuy2012')"
   ]
  },
  {
   "cell_type": "code",
   "execution_count": 22,
   "id": "1a7447fc",
   "metadata": {},
   "outputs": [
    {
     "data": {
      "text/plain": [
       "(9.25, 0.05)"
      ]
     },
     "execution_count": 22,
     "metadata": {},
     "output_type": "execute_result"
    }
   ],
   "source": [
    "get_absolute_mag_j2mass(15)"
   ]
  },
  {
   "cell_type": "code",
   "execution_count": 23,
   "id": "478086d2",
   "metadata": {},
   "outputs": [],
   "source": [
    "sp=db.SPECTRA.iloc[0]\n",
    "WAVEGRID=sp.wave[np.logical_and(sp.wave.value >=0.9, sp.wave.value <=2.4)].value\n",
    "#WAVEGRID"
   ]
  },
  {
   "cell_type": "code",
   "execution_count": null,
   "id": "6a1f6876",
   "metadata": {},
   "outputs": [],
   "source": []
  },
  {
   "cell_type": "code",
   "execution_count": 24,
   "id": "59a6ade8",
   "metadata": {},
   "outputs": [],
   "source": [
    "def measure_fluxes(row):\n",
    "    try:\n",
    "        sp=row.SPECTRA\n",
    "        spt=splat.typeToNum(row.SPTYPE_BY_STANDARD)\n",
    "\n",
    "        #scale\n",
    "        m, mer= get_absolute_mag_j2mass(spt)\n",
    "        sp.fluxCalibrate('MKO J',m)\n",
    "\n",
    "        #measure mags\n",
    "        j, jerr=splat.filterMag(sp,'MKO J')\n",
    "        h, herr=splat.filterMag(sp,'MKO H')\n",
    "        k, kerr=splat.filterMag(sp,'MKO K')\n",
    "        \n",
    "        j2, jerr2=splat.filterMag(sp,'2MASS J')\n",
    "        h2, herr2=splat.filterMag(sp,'2MASS H')\n",
    "        k2, kerr2=splat.filterMag(sp,'2MASS K')\n",
    "        #y, yerr=splat.filterMag(sp,'MKO Y')\n",
    "\n",
    "\n",
    "        #interpolate\n",
    "        interp_flux = np.interp(WAVEGRID, sp.wave.value, sp.flux.value) \n",
    "        intepr_noise= np.interp(WAVEGRID, sp.wave.value, sp.noise.value)\n",
    "\n",
    "        #measure J-SNR\n",
    "        jsnr=np.nanmedian(sp.flux[np.logical_and(sp.wave.value >=1.1, sp.wave.value <=1.3)].value\\\n",
    "                 /sp.noise[np.logical_and(sp.wave.value >=1.1, sp.wave.value <=1.3)].value)\n",
    "\n",
    "        return {'WAVEGRID': WAVEGRID,\n",
    "               'FLUX': interp_flux,\n",
    "               'UNCERTAINTY':  intepr_noise,\n",
    "               'MKO_J': j,\n",
    "               'MKO_J_ER': jerr,\n",
    "                'MKO_H': h,\n",
    "                'MKO_H_ER': herr,\n",
    "                'J_SNR':jsnr,\n",
    "                'MKO_KS': k,\n",
    "               'MKO_KS_ER': kerr,\n",
    "                '2MASS_J': j2,\n",
    "               '2MASS_J_ER': jerr2,\n",
    "                '2MASS_H': h2,\n",
    "               '2MASS_H_ER': herr2,\n",
    "                '2MASS_KS': k2,\n",
    "               '2MASS_KS_ER': kerr2,\n",
    "              \n",
    "               }\n",
    "    except ValueError:\n",
    "        return {'WAVEGRID': None,\n",
    "               'FLUX': None,\n",
    "               'UNCERTAINTY':  None,\n",
    "               'MKO_J': None,\n",
    "               'MKO_J_ER': None,\n",
    "                'MKO_H': None,\n",
    "                'MKO_H_ER': None,\n",
    "                'J_SNR': None,\n",
    "                'MKO_KS': None,\n",
    "               'MKO_KS_ER': None,\n",
    "                '2MASS_J': None,\n",
    "               '2MASS_J_ER': None,\n",
    "                '2MASS_H': None,\n",
    "               '2MASS_H_ER': None,\n",
    "                '2MASS_KS': None,\n",
    "               '2MASS_KS_ER': None,\n",
    "              \n",
    "               }"
   ]
  },
  {
   "cell_type": "code",
   "execution_count": 25,
   "id": "27d5a983",
   "metadata": {},
   "outputs": [],
   "source": [
    "vals= db.apply(measure_fluxes, axis=1)"
   ]
  },
  {
   "cell_type": "code",
   "execution_count": 26,
   "id": "882a0852",
   "metadata": {},
   "outputs": [],
   "source": [
    "vals_df=pd.DataFrame([ x for x in vals])"
   ]
  },
  {
   "cell_type": "code",
   "execution_count": 27,
   "id": "0ff244e4",
   "metadata": {},
   "outputs": [],
   "source": [
    "db_small=db.join(vals_df).drop(columns=['SPECTRA'])"
   ]
  },
  {
   "cell_type": "code",
   "execution_count": 28,
   "id": "8605a3d2",
   "metadata": {},
   "outputs": [
    {
     "data": {
      "text/plain": [
       "[Text(0.5, 0, '2MASS J-H'), Text(0, 0.5, 'J')]"
      ]
     },
     "execution_count": 28,
     "metadata": {},
     "output_type": "execute_result"
    },
    {
     "data": {
      "image/png": "[encoded data removed]",
      "text/plain": [
       "<Figure size 960x960 with 2 Axes>"
      ]
     },
     "metadata": {},
     "output_type": "display_data"
    }
   ],
   "source": [
    "fig, ax=plt.subplots(figsize=(12, 12))\n",
    "\n",
    "\n",
    "ax.errorbar(db_small.MKO_J-db_small.MKO_H, db_small.MKO_J,ms=1, fmt='o', \\\n",
    "            yerr=db_small.MKO_J_ER, c='k', alpha=0.4)\n",
    "c=ax.scatter(db_small.MKO_J-db_small.MKO_H, db_small.MKO_J, \\\n",
    "           c=db_small.SPTYPE_BY_STANDARD.apply(splat.typeToNum), s=200,alpha=0.6, cmap='cividis')\n",
    "plt.colorbar(c, label='Spectral Type')\n",
    "\n",
    "ax.invert_yaxis()\n",
    "ax.set(xlabel='2MASS J-H', ylabel='J')"
   ]
  },
  {
   "cell_type": "code",
   "execution_count": 61,
   "id": "242c9c15",
   "metadata": {},
   "outputs": [
    {
     "data": {
      "text/plain": [
       "True"
      ]
     },
     "execution_count": 61,
     "metadata": {},
     "output_type": "execute_result"
    }
   ],
   "source": [
    "np.isscalar('esd')"
   ]
  },
  {
   "cell_type": "code",
   "execution_count": 62,
   "id": "246fecb8",
   "metadata": {},
   "outputs": [
    {
     "ename": "SyntaxError",
     "evalue": "invalid syntax (3608263624.py, line 5)",
     "output_type": "error",
     "traceback": [
      "\u001b[0;36m  File \u001b[0;32m\"/var/folders/p5/jqfspzln0z965dsfd1pj_5900000gp/T/ipykernel_34281/3608263624.py\"\u001b[0;36m, line \u001b[0;32m5\u001b[0m\n\u001b[0;31m    return '' if (np.isnan(value) else value\u001b[0m\n\u001b[0m                                  ^\u001b[0m\n\u001b[0;31mSyntaxError\u001b[0m\u001b[0;31m:\u001b[0m invalid syntax\n"
     ]
    }
   ],
   "source": [
    "def float_to_empty_string(value):\n",
    "    if isinstance(value, str):\n",
    "        return value\n",
    "    else:\n",
    "        if \n",
    "        return '' if (np.isnan(value) else value\n",
    "\n",
    "def get_flags(row):\n",
    "    met= float_to_empty_string(row.METALLICITY_CLASS)\n",
    "    lumn=  float_to_empty_string(row.LUMINOSITY_CLASS)\n",
    "    noisy=''\n",
    "    if row.FLAG_BAD_SPECTRA:\n",
    "        noisy='noisy'\n",
    "    sb=''\n",
    "    if np.logical_or(row.FLAG_IS_SPECTRAL_BINARY_CAND, row.SBINARY):\n",
    "        sb='sbinary'\n",
    "\n",
    "    print (met, lumn, noisy, sb)\n",
    "    return  met+''+lumn+'_'+noisy+'_'+sb"
   ]
  },
  {
   "cell_type": "code",
   "execution_count": 59,
   "id": "d6ffccc4",
   "metadata": {},
   "outputs": [
    {
     "name": "stdout",
     "output_type": "stream",
     "text": [
      "nan\n",
      "nan\n",
      "   sbinary\n",
      "nan\n",
      "nan\n",
      "   sbinary\n",
      "nan\n",
      "nan\n",
      "   sbinary\n",
      "nan\n",
      "nan\n",
      "   sbinary\n",
      "esd\n"
     ]
    },
    {
     "ename": "TypeError",
     "evalue": "ufunc 'isnan' not supported for the input types, and the inputs could not be safely coerced to any supported types according to the casting rule ''safe''",
     "output_type": "error",
     "traceback": [
      "\u001b[0;31m---------------------------------------------------------------------------\u001b[0m",
      "\u001b[0;31mTypeError\u001b[0m                                 Traceback (most recent call last)",
      "\u001b[0;32m/var/folders/p5/jqfspzln0z965dsfd1pj_5900000gp/T/ipykernel_34281/3279941106.py\u001b[0m in \u001b[0;36m<module>\u001b[0;34m\u001b[0m\n\u001b[0;32m----> 1\u001b[0;31m \u001b[0mdb_small\u001b[0m\u001b[0;34m[\u001b[0m\u001b[0;34m'CLASS'\u001b[0m\u001b[0;34m]\u001b[0m\u001b[0;34m=\u001b[0m\u001b[0mdb_small\u001b[0m\u001b[0;34m.\u001b[0m\u001b[0mapply\u001b[0m\u001b[0;34m(\u001b[0m\u001b[0mget_flags\u001b[0m\u001b[0;34m,\u001b[0m \u001b[0maxis\u001b[0m\u001b[0;34m=\u001b[0m\u001b[0;36m1\u001b[0m\u001b[0;34m)\u001b[0m\u001b[0;34m\u001b[0m\u001b[0;34m\u001b[0m\u001b[0m\n\u001b[0m",
      "\u001b[0;32m~/opt/anaconda3/lib/python3.9/site-packages/pandas/core/frame.py\u001b[0m in \u001b[0;36mapply\u001b[0;34m(self, func, axis, raw, result_type, args, **kwargs)\u001b[0m\n\u001b[1;32m   8846\u001b[0m             \u001b[0mkwargs\u001b[0m\u001b[0;34m=\u001b[0m\u001b[0mkwargs\u001b[0m\u001b[0;34m,\u001b[0m\u001b[0;34m\u001b[0m\u001b[0;34m\u001b[0m\u001b[0m\n\u001b[1;32m   8847\u001b[0m         )\n\u001b[0;32m-> 8848\u001b[0;31m         \u001b[0;32mreturn\u001b[0m \u001b[0mop\u001b[0m\u001b[0;34m.\u001b[0m\u001b[0mapply\u001b[0m\u001b[0;34m(\u001b[0m\u001b[0;34m)\u001b[0m\u001b[0;34m.\u001b[0m\u001b[0m__finalize__\u001b[0m\u001b[0;34m(\u001b[0m\u001b[0mself\u001b[0m\u001b[0;34m,\u001b[0m \u001b[0mmethod\u001b[0m\u001b[0;34m=\u001b[0m\u001b[0;34m\"apply\"\u001b[0m\u001b[0;34m)\u001b[0m\u001b[0;34m\u001b[0m\u001b[0;34m\u001b[0m\u001b[0m\n\u001b[0m\u001b[1;32m   8849\u001b[0m \u001b[0;34m\u001b[0m\u001b[0m\n\u001b[1;32m   8850\u001b[0m     def applymap(\n",
      "\u001b[0;32m~/opt/anaconda3/lib/python3.9/site-packages/pandas/core/apply.py\u001b[0m in \u001b[0;36mapply\u001b[0;34m(self)\u001b[0m\n\u001b[1;32m    731\u001b[0m             \u001b[0;32mreturn\u001b[0m \u001b[0mself\u001b[0m\u001b[0;34m.\u001b[0m\u001b[0mapply_raw\u001b[0m\u001b[0;34m(\u001b[0m\u001b[0;34m)\u001b[0m\u001b[0;34m\u001b[0m\u001b[0;34m\u001b[0m\u001b[0m\n\u001b[1;32m    732\u001b[0m \u001b[0;34m\u001b[0m\u001b[0m\n\u001b[0;32m--> 733\u001b[0;31m         \u001b[0;32mreturn\u001b[0m \u001b[0mself\u001b[0m\u001b[0;34m.\u001b[0m\u001b[0mapply_standard\u001b[0m\u001b[0;34m(\u001b[0m\u001b[0;34m)\u001b[0m\u001b[0;34m\u001b[0m\u001b[0;34m\u001b[0m\u001b[0m\n\u001b[0m\u001b[1;32m    734\u001b[0m \u001b[0;34m\u001b[0m\u001b[0m\n\u001b[1;32m    735\u001b[0m     \u001b[0;32mdef\u001b[0m \u001b[0magg\u001b[0m\u001b[0;34m(\u001b[0m\u001b[0mself\u001b[0m\u001b[0;34m)\u001b[0m\u001b[0;34m:\u001b[0m\u001b[0;34m\u001b[0m\u001b[0;34m\u001b[0m\u001b[0m\n",
      "\u001b[0;32m~/opt/anaconda3/lib/python3.9/site-packages/pandas/core/apply.py\u001b[0m in \u001b[0;36mapply_standard\u001b[0;34m(self)\u001b[0m\n\u001b[1;32m    855\u001b[0m \u001b[0;34m\u001b[0m\u001b[0m\n\u001b[1;32m    856\u001b[0m     \u001b[0;32mdef\u001b[0m \u001b[0mapply_standard\u001b[0m\u001b[0;34m(\u001b[0m\u001b[0mself\u001b[0m\u001b[0;34m)\u001b[0m\u001b[0;34m:\u001b[0m\u001b[0;34m\u001b[0m\u001b[0;34m\u001b[0m\u001b[0m\n\u001b[0;32m--> 857\u001b[0;31m         \u001b[0mresults\u001b[0m\u001b[0;34m,\u001b[0m \u001b[0mres_index\u001b[0m \u001b[0;34m=\u001b[0m \u001b[0mself\u001b[0m\u001b[0;34m.\u001b[0m\u001b[0mapply_series_generator\u001b[0m\u001b[0;34m(\u001b[0m\u001b[0;34m)\u001b[0m\u001b[0;34m\u001b[0m\u001b[0;34m\u001b[0m\u001b[0m\n\u001b[0m\u001b[1;32m    858\u001b[0m \u001b[0;34m\u001b[0m\u001b[0m\n\u001b[1;32m    859\u001b[0m         \u001b[0;31m# wrap results\u001b[0m\u001b[0;34m\u001b[0m\u001b[0;34m\u001b[0m\u001b[0m\n",
      "\u001b[0;32m~/opt/anaconda3/lib/python3.9/site-packages/pandas/core/apply.py\u001b[0m in \u001b[0;36mapply_series_generator\u001b[0;34m(self)\u001b[0m\n\u001b[1;32m    871\u001b[0m             \u001b[0;32mfor\u001b[0m \u001b[0mi\u001b[0m\u001b[0;34m,\u001b[0m \u001b[0mv\u001b[0m \u001b[0;32min\u001b[0m \u001b[0menumerate\u001b[0m\u001b[0;34m(\u001b[0m\u001b[0mseries_gen\u001b[0m\u001b[0;34m)\u001b[0m\u001b[0;34m:\u001b[0m\u001b[0;34m\u001b[0m\u001b[0;34m\u001b[0m\u001b[0m\n\u001b[1;32m    872\u001b[0m                 \u001b[0;31m# ignore SettingWithCopy here in case the user mutates\u001b[0m\u001b[0;34m\u001b[0m\u001b[0;34m\u001b[0m\u001b[0m\n\u001b[0;32m--> 873\u001b[0;31m                 \u001b[0mresults\u001b[0m\u001b[0;34m[\u001b[0m\u001b[0mi\u001b[0m\u001b[0;34m]\u001b[0m \u001b[0;34m=\u001b[0m \u001b[0mself\u001b[0m\u001b[0;34m.\u001b[0m\u001b[0mf\u001b[0m\u001b[0;34m(\u001b[0m\u001b[0mv\u001b[0m\u001b[0;34m)\u001b[0m\u001b[0;34m\u001b[0m\u001b[0;34m\u001b[0m\u001b[0m\n\u001b[0m\u001b[1;32m    874\u001b[0m                 \u001b[0;32mif\u001b[0m \u001b[0misinstance\u001b[0m\u001b[0;34m(\u001b[0m\u001b[0mresults\u001b[0m\u001b[0;34m[\u001b[0m\u001b[0mi\u001b[0m\u001b[0;34m]\u001b[0m\u001b[0;34m,\u001b[0m \u001b[0mABCSeries\u001b[0m\u001b[0;34m)\u001b[0m\u001b[0;34m:\u001b[0m\u001b[0;34m\u001b[0m\u001b[0;34m\u001b[0m\u001b[0m\n\u001b[1;32m    875\u001b[0m                     \u001b[0;31m# If we have a view on v, we need to make a copy because\u001b[0m\u001b[0;34m\u001b[0m\u001b[0;34m\u001b[0m\u001b[0m\n",
      "\u001b[0;32m/var/folders/p5/jqfspzln0z965dsfd1pj_5900000gp/T/ipykernel_34281/3538037962.py\u001b[0m in \u001b[0;36mget_flags\u001b[0;34m(row)\u001b[0m\n\u001b[1;32m      4\u001b[0m \u001b[0;34m\u001b[0m\u001b[0m\n\u001b[1;32m      5\u001b[0m \u001b[0;32mdef\u001b[0m \u001b[0mget_flags\u001b[0m\u001b[0;34m(\u001b[0m\u001b[0mrow\u001b[0m\u001b[0;34m)\u001b[0m\u001b[0;34m:\u001b[0m\u001b[0;34m\u001b[0m\u001b[0;34m\u001b[0m\u001b[0m\n\u001b[0;32m----> 6\u001b[0;31m     \u001b[0mmet\u001b[0m\u001b[0;34m=\u001b[0m \u001b[0mfloat_to_empty_string\u001b[0m\u001b[0;34m(\u001b[0m\u001b[0mrow\u001b[0m\u001b[0;34m.\u001b[0m\u001b[0mMETALLICITY_CLASS\u001b[0m\u001b[0;34m)\u001b[0m\u001b[0;34m\u001b[0m\u001b[0;34m\u001b[0m\u001b[0m\n\u001b[0m\u001b[1;32m      7\u001b[0m     \u001b[0mlumn\u001b[0m\u001b[0;34m=\u001b[0m  \u001b[0mfloat_to_empty_string\u001b[0m\u001b[0;34m(\u001b[0m\u001b[0mrow\u001b[0m\u001b[0;34m.\u001b[0m\u001b[0mLUMINOSITY_CLASS\u001b[0m\u001b[0;34m)\u001b[0m\u001b[0;34m\u001b[0m\u001b[0;34m\u001b[0m\u001b[0m\n\u001b[1;32m      8\u001b[0m     \u001b[0mnoisy\u001b[0m\u001b[0;34m=\u001b[0m\u001b[0;34m''\u001b[0m\u001b[0;34m\u001b[0m\u001b[0;34m\u001b[0m\u001b[0m\n",
      "\u001b[0;32m/var/folders/p5/jqfspzln0z965dsfd1pj_5900000gp/T/ipykernel_34281/3538037962.py\u001b[0m in \u001b[0;36mfloat_to_empty_string\u001b[0;34m(value)\u001b[0m\n\u001b[1;32m      1\u001b[0m \u001b[0;32mdef\u001b[0m \u001b[0mfloat_to_empty_string\u001b[0m\u001b[0;34m(\u001b[0m\u001b[0mvalue\u001b[0m\u001b[0;34m)\u001b[0m\u001b[0;34m:\u001b[0m\u001b[0;34m\u001b[0m\u001b[0;34m\u001b[0m\u001b[0m\n\u001b[1;32m      2\u001b[0m     \u001b[0mprint\u001b[0m \u001b[0;34m(\u001b[0m\u001b[0mvalue\u001b[0m\u001b[0;34m)\u001b[0m\u001b[0;34m\u001b[0m\u001b[0;34m\u001b[0m\u001b[0m\n\u001b[0;32m----> 3\u001b[0;31m     \u001b[0;32mreturn\u001b[0m \u001b[0;34m''\u001b[0m \u001b[0;32mif\u001b[0m \u001b[0mnp\u001b[0m\u001b[0;34m.\u001b[0m\u001b[0misnan\u001b[0m\u001b[0;34m(\u001b[0m\u001b[0mvalue\u001b[0m\u001b[0;34m)\u001b[0m \u001b[0;32melse\u001b[0m \u001b[0mvalue\u001b[0m\u001b[0;34m\u001b[0m\u001b[0;34m\u001b[0m\u001b[0m\n\u001b[0m\u001b[1;32m      4\u001b[0m \u001b[0;34m\u001b[0m\u001b[0m\n\u001b[1;32m      5\u001b[0m \u001b[0;32mdef\u001b[0m \u001b[0mget_flags\u001b[0m\u001b[0;34m(\u001b[0m\u001b[0mrow\u001b[0m\u001b[0;34m)\u001b[0m\u001b[0;34m:\u001b[0m\u001b[0;34m\u001b[0m\u001b[0;34m\u001b[0m\u001b[0m\n",
      "\u001b[0;31mTypeError\u001b[0m: ufunc 'isnan' not supported for the input types, and the inputs could not be safely coerced to any supported types according to the casting rule ''safe''"
     ]
    }
   ],
   "source": [
    "db_small['CLASS']=db_small.apply(get_flags, axis=1)"
   ]
  },
  {
   "cell_type": "code",
   "execution_count": 38,
   "id": "6f527c00",
   "metadata": {},
   "outputs": [
    {
     "data": {
      "text/plain": [
       "['SOURCE_KEY',\n",
       " 'NAME',\n",
       " 'DESIGNATION',\n",
       " 'RA',\n",
       " 'DEC',\n",
       " 'DISCOVERY_REFERENCE',\n",
       " 'OPT_TYPE',\n",
       " 'OPT_TYPE_REF',\n",
       " 'NIR_TYPE',\n",
       " 'NIR_TYPE_REF',\n",
       " 'LIT_TYPE',\n",
       " 'LIT_TYPE_REF',\n",
       " 'OBJECT_TYPE',\n",
       " 'J_2MASS',\n",
       " 'J_2MASS_E',\n",
       " 'H_2MASS',\n",
       " 'H_2MASS_E',\n",
       " 'KS_2MASS',\n",
       " 'KS_2MASS_E',\n",
       " 'JK_EXCESS',\n",
       " 'COLOR_EXTREMITY',\n",
       " 'LUMINOSITY_CLASS',\n",
       " 'METALLICITY_CLASS',\n",
       " 'GRAVITY_CLASS_OPTICAL',\n",
       " 'GRAVITY_CLASS_OPTICAL_REF',\n",
       " 'GRAVITY_CLASS_NIR',\n",
       " 'GRAVITY_CLASS_NIR_REF',\n",
       " 'CLUSTER',\n",
       " 'CLUSTER_REF',\n",
       " 'LIBRARY',\n",
       " 'BINARY',\n",
       " 'BINARY_REF',\n",
       " 'SBINARY',\n",
       " 'SBINARY_REF',\n",
       " 'COMPANION_NAME',\n",
       " 'COMPANION_REF',\n",
       " 'SIMBAD_OTYPE',\n",
       " 'SIMBAD_NAME',\n",
       " 'SIMBAD_SPT',\n",
       " 'SIMBAD_SPT_REF',\n",
       " 'SIMBAD_SEP',\n",
       " 'PARALLAX',\n",
       " 'PARALLAX_E',\n",
       " 'PARALLEX_REF',\n",
       " 'DISTANCE_PHOT',\n",
       " 'DISTANCE_PHOT_E',\n",
       " 'DISTANCE',\n",
       " 'DISTANCE_E',\n",
       " 'MU',\n",
       " 'MU_E',\n",
       " 'MU_RA',\n",
       " 'MU_DEC',\n",
       " 'MU_REF',\n",
       " 'VTAN',\n",
       " 'VTAN_E',\n",
       " 'RV',\n",
       " 'RV_E',\n",
       " 'RV_REF',\n",
       " 'VSINI',\n",
       " 'VSINI_E',\n",
       " 'VSINI_REF',\n",
       " 'NOTE',\n",
       " 'SELECT',\n",
       " 'DATA_KEY',\n",
       " 'DATA_FILE',\n",
       " 'INSTRUMENT',\n",
       " 'OBSERVATION_DATE',\n",
       " 'OBSERVATION_TIME',\n",
       " 'JULIAN_DATE',\n",
       " 'PROGRAM_NUMBER',\n",
       " 'PROGRAM_PI',\n",
       " 'OBSERVER',\n",
       " 'RESOLUTION',\n",
       " 'AIRMASS',\n",
       " 'REDUCTION_SPEXTOOL_VERSION',\n",
       " 'REDUCTION_PERSON',\n",
       " 'REDUCTION_DATE',\n",
       " 'QUALITY_FLAG',\n",
       " 'MEDIAN_SNR',\n",
       " 'SPEX_TYPE',\n",
       " 'SPEX_GRAVITY_CLASSIFICATION',\n",
       " 'PUBLISHED',\n",
       " 'DATA_REFERENCE',\n",
       " 'NOTE_SP',\n",
       " 'SPTYPE_BY_STANDARD',\n",
       " 'FLAG_IS_SPECTRAL_BINARY_CAND',\n",
       " 'FLAG_BAD_SPECTRA',\n",
       " 'CLEAN',\n",
       " 'WAVEGRID',\n",
       " 'FLUX',\n",
       " 'UNCERTAINTY',\n",
       " 'MKO_J',\n",
       " 'MKO_J_ER',\n",
       " 'MKO_H',\n",
       " 'MKO_H_ER',\n",
       " 'J_SNR',\n",
       " 'MKO_KS',\n",
       " 'MKO_KS_ER',\n",
       " '2MASS_J',\n",
       " '2MASS_J_ER',\n",
       " '2MASS_H',\n",
       " '2MASS_H_ER',\n",
       " '2MASS_KS',\n",
       " '2MASS_KS_ER',\n",
       " 'SNR']"
      ]
     },
     "execution_count": 38,
     "metadata": {},
     "output_type": "execute_result"
    }
   ],
   "source": [
    "list(db_small.columns)"
   ]
  },
  {
   "cell_type": "code",
   "execution_count": null,
   "id": "e327777e",
   "metadata": {},
   "outputs": [],
   "source": [
    "'SPEX_TYPE',OPT_TYPE','NIR_TYPE','LIT_TYPE','SPTYPE_BY_STANDARD'"
   ]
  },
  {
   "cell_type": "code",
   "execution_count": 34,
   "id": "a5b189a8",
   "metadata": {},
   "outputs": [],
   "source": [
    "db_small['SNR']=(db_small.FLUX/db_small.UNCERTAINTY).apply(lambda x: np.nanmedian(x))"
   ]
  },
  {
   "cell_type": "code",
   "execution_count": 39,
   "id": "60c41287",
   "metadata": {},
   "outputs": [],
   "source": [
    "cols=['NAME', 'DESIGNATION', 'FLUX', 'UNCERTAINTY','J_SNR','SPT','SPEX_SPT', 'OPT_SPT',\\\n",
    "      'NIR_SPT', 'LIT_SPT', 'CLASS', 'DATA_REFERENCE', 'MKO_J', 'MKO_H', 'MKO_KS',\\\n",
    "      '2MASS_J', '2MASS_H', '2MASS_KS', 'MKO_J_ER', 'MKO_H_ER', 'MKO_KS_ER',\\\n",
    "      '2MASS_J_ER', '2MASS_H_ER', '2MASS_KS_ER', 'WAVEGRID', 'CLEAN']\n"
   ]
  },
  {
   "cell_type": "code",
   "execution_count": 30,
   "id": "9278d73a",
   "metadata": {},
   "outputs": [
    {
     "ename": "KeyError",
     "evalue": "\"['SNR', 'SPT', 'SPEX_SPT', 'OPT_SPT', 'NIR_SPT', 'LIT_SPT', 'CLASS'] not in index\"",
     "output_type": "error",
     "traceback": [
      "\u001b[0;31m---------------------------------------------------------------------------\u001b[0m",
      "\u001b[0;31mKeyError\u001b[0m                                  Traceback (most recent call last)",
      "\u001b[0;32m/var/folders/p5/jqfspzln0z965dsfd1pj_5900000gp/T/ipykernel_34281/1509467205.py\u001b[0m in \u001b[0;36m<module>\u001b[0;34m\u001b[0m\n\u001b[0;32m----> 1\u001b[0;31m \u001b[0mdb_small\u001b[0m\u001b[0;34m[\u001b[0m\u001b[0mcols\u001b[0m\u001b[0;34m]\u001b[0m\u001b[0;34m\u001b[0m\u001b[0;34m\u001b[0m\u001b[0m\n\u001b[0m",
      "\u001b[0;32m~/opt/anaconda3/lib/python3.9/site-packages/pandas/core/frame.py\u001b[0m in \u001b[0;36m__getitem__\u001b[0;34m(self, key)\u001b[0m\n\u001b[1;32m   3509\u001b[0m             \u001b[0;32mif\u001b[0m \u001b[0mis_iterator\u001b[0m\u001b[0;34m(\u001b[0m\u001b[0mkey\u001b[0m\u001b[0;34m)\u001b[0m\u001b[0;34m:\u001b[0m\u001b[0;34m\u001b[0m\u001b[0;34m\u001b[0m\u001b[0m\n\u001b[1;32m   3510\u001b[0m                 \u001b[0mkey\u001b[0m \u001b[0;34m=\u001b[0m \u001b[0mlist\u001b[0m\u001b[0;34m(\u001b[0m\u001b[0mkey\u001b[0m\u001b[0;34m)\u001b[0m\u001b[0;34m\u001b[0m\u001b[0;34m\u001b[0m\u001b[0m\n\u001b[0;32m-> 3511\u001b[0;31m             \u001b[0mindexer\u001b[0m \u001b[0;34m=\u001b[0m \u001b[0mself\u001b[0m\u001b[0;34m.\u001b[0m\u001b[0mcolumns\u001b[0m\u001b[0;34m.\u001b[0m\u001b[0m_get_indexer_strict\u001b[0m\u001b[0;34m(\u001b[0m\u001b[0mkey\u001b[0m\u001b[0;34m,\u001b[0m \u001b[0;34m\"columns\"\u001b[0m\u001b[0;34m)\u001b[0m\u001b[0;34m[\u001b[0m\u001b[0;36m1\u001b[0m\u001b[0;34m]\u001b[0m\u001b[0;34m\u001b[0m\u001b[0;34m\u001b[0m\u001b[0m\n\u001b[0m\u001b[1;32m   3512\u001b[0m \u001b[0;34m\u001b[0m\u001b[0m\n\u001b[1;32m   3513\u001b[0m         \u001b[0;31m# take() does not accept boolean indexers\u001b[0m\u001b[0;34m\u001b[0m\u001b[0;34m\u001b[0m\u001b[0m\n",
      "\u001b[0;32m~/opt/anaconda3/lib/python3.9/site-packages/pandas/core/indexes/base.py\u001b[0m in \u001b[0;36m_get_indexer_strict\u001b[0;34m(self, key, axis_name)\u001b[0m\n\u001b[1;32m   5794\u001b[0m             \u001b[0mkeyarr\u001b[0m\u001b[0;34m,\u001b[0m \u001b[0mindexer\u001b[0m\u001b[0;34m,\u001b[0m \u001b[0mnew_indexer\u001b[0m \u001b[0;34m=\u001b[0m \u001b[0mself\u001b[0m\u001b[0;34m.\u001b[0m\u001b[0m_reindex_non_unique\u001b[0m\u001b[0;34m(\u001b[0m\u001b[0mkeyarr\u001b[0m\u001b[0;34m)\u001b[0m\u001b[0;34m\u001b[0m\u001b[0;34m\u001b[0m\u001b[0m\n\u001b[1;32m   5795\u001b[0m \u001b[0;34m\u001b[0m\u001b[0m\n\u001b[0;32m-> 5796\u001b[0;31m         \u001b[0mself\u001b[0m\u001b[0;34m.\u001b[0m\u001b[0m_raise_if_missing\u001b[0m\u001b[0;34m(\u001b[0m\u001b[0mkeyarr\u001b[0m\u001b[0;34m,\u001b[0m \u001b[0mindexer\u001b[0m\u001b[0;34m,\u001b[0m \u001b[0maxis_name\u001b[0m\u001b[0;34m)\u001b[0m\u001b[0;34m\u001b[0m\u001b[0;34m\u001b[0m\u001b[0m\n\u001b[0m\u001b[1;32m   5797\u001b[0m \u001b[0;34m\u001b[0m\u001b[0m\n\u001b[1;32m   5798\u001b[0m         \u001b[0mkeyarr\u001b[0m \u001b[0;34m=\u001b[0m \u001b[0mself\u001b[0m\u001b[0;34m.\u001b[0m\u001b[0mtake\u001b[0m\u001b[0;34m(\u001b[0m\u001b[0mindexer\u001b[0m\u001b[0;34m)\u001b[0m\u001b[0;34m\u001b[0m\u001b[0;34m\u001b[0m\u001b[0m\n",
      "\u001b[0;32m~/opt/anaconda3/lib/python3.9/site-packages/pandas/core/indexes/base.py\u001b[0m in \u001b[0;36m_raise_if_missing\u001b[0;34m(self, key, indexer, axis_name)\u001b[0m\n\u001b[1;32m   5857\u001b[0m \u001b[0;34m\u001b[0m\u001b[0m\n\u001b[1;32m   5858\u001b[0m             \u001b[0mnot_found\u001b[0m \u001b[0;34m=\u001b[0m \u001b[0mlist\u001b[0m\u001b[0;34m(\u001b[0m\u001b[0mensure_index\u001b[0m\u001b[0;34m(\u001b[0m\u001b[0mkey\u001b[0m\u001b[0;34m)\u001b[0m\u001b[0;34m[\u001b[0m\u001b[0mmissing_mask\u001b[0m\u001b[0;34m.\u001b[0m\u001b[0mnonzero\u001b[0m\u001b[0;34m(\u001b[0m\u001b[0;34m)\u001b[0m\u001b[0;34m[\u001b[0m\u001b[0;36m0\u001b[0m\u001b[0;34m]\u001b[0m\u001b[0;34m]\u001b[0m\u001b[0;34m.\u001b[0m\u001b[0munique\u001b[0m\u001b[0;34m(\u001b[0m\u001b[0;34m)\u001b[0m\u001b[0;34m)\u001b[0m\u001b[0;34m\u001b[0m\u001b[0;34m\u001b[0m\u001b[0m\n\u001b[0;32m-> 5859\u001b[0;31m             \u001b[0;32mraise\u001b[0m \u001b[0mKeyError\u001b[0m\u001b[0;34m(\u001b[0m\u001b[0;34mf\"{not_found} not in index\"\u001b[0m\u001b[0;34m)\u001b[0m\u001b[0;34m\u001b[0m\u001b[0;34m\u001b[0m\u001b[0m\n\u001b[0m\u001b[1;32m   5860\u001b[0m \u001b[0;34m\u001b[0m\u001b[0m\n\u001b[1;32m   5861\u001b[0m     \u001b[0;34m@\u001b[0m\u001b[0moverload\u001b[0m\u001b[0;34m\u001b[0m\u001b[0;34m\u001b[0m\u001b[0m\n",
      "\u001b[0;31mKeyError\u001b[0m: \"['SNR', 'SPT', 'SPEX_SPT', 'OPT_SPT', 'NIR_SPT', 'LIT_SPT', 'CLASS'] not in index\""
     ]
    }
   ],
   "source": [
    "db_small[cols]"
   ]
  },
  {
   "cell_type": "code",
   "execution_count": null,
   "id": "42fa5e9c",
   "metadata": {},
   "outputs": [],
   "source": [
    "#'SPT' is the default spectral type from comparison to standards; leave the others in in case we want to use them\n",
    "#'CLASS' can encompass all the flag keywords as just a set of strings: giant, subdwarf, young, binary, sbinary, noisy, weird, etc.\n",
    "#For Binaries: we can add _1 and _2 and _12 for primary, secondary, combined parameters [--> we have a function for making binaries]\n"
   ]
  },
  {
   "cell_type": "code",
   "execution_count": null,
   "id": "ec87fb66",
   "metadata": {},
   "outputs": [],
   "source": [
    "db_small.to_hdf('/users/caganze/single_spectra_with_synthphot.h5', key='singles')"
   ]
  },
  {
   "cell_type": "code",
   "execution_count": null,
   "id": "ed2652fe",
   "metadata": {},
   "outputs": [],
   "source": [
    "fig, ax=plt.subplots()\n",
    "for idx, row in db_small.iterrows():\n",
    "    try:\n",
    "        ax.plot(row.WAVEGRID, row.INTERP_FLUX, color='k', alpha=0.05)\n",
    "    except:\n",
    "        pass\n",
    "ax.set(yscale='log')"
   ]
  },
  {
   "cell_type": "code",
   "execution_count": null,
   "id": "82f15818",
   "metadata": {},
   "outputs": [],
   "source": [
    "fig, ax=plt.subplots()\n",
    "_= ax.hist(db_small.SNR_11_13.values, log=True, bins=32)"
   ]
  },
  {
   "cell_type": "code",
   "execution_count": null,
   "id": "46f93901",
   "metadata": {},
   "outputs": [],
   "source": [
    "#scale to the appropriate flux using Dupuy relations\n",
    "#interpolate on wavegrid (0.9-2.4 micron),\n",
    "#compute photometric spectro-photometric magnitudes in MKO J and H\n",
    "#measure J-SNR 1.1-1.3 micron\n",
    "#\n"
   ]
  },
  {
   "cell_type": "code",
   "execution_count": null,
   "id": "9e67aa5c",
   "metadata": {},
   "outputs": [],
   "source": [
    "db.iloc[1000]"
   ]
  },
  {
   "cell_type": "code",
   "execution_count": null,
   "id": "d1bcda30",
   "metadata": {},
   "outputs": [],
   "source": [
    "splat.filterMag?"
   ]
  },
  {
   "cell_type": "code",
   "execution_count": null,
   "id": "c075e6f1",
   "metadata": {},
   "outputs": [],
   "source": [
    "#db_small"
   ]
  },
  {
   "cell_type": "code",
   "execution_count": null,
   "id": "53fc4d11",
   "metadata": {},
   "outputs": [],
   "source": [
    "fig, ax=plt.subplots(figsize=(12, 12))\n",
    "\n",
    "\n",
    "ax.errorbar(db_small['2MASS_J_SYNTH']-db_small['2MASS_H_SYNTH'], db_small['2MASS_J_SYNTH'],ms=1, fmt='o', \\\n",
    "            yerr=db_small['2MASS_J_ER_SYNTH'], c='k', alpha=0.4)\n",
    "c=ax.scatter(db_small['2MASS_J_SYNTH']-db_small['2MASS_H_SYNTH'], db_small['2MASS_J_SYNTH'],\\\n",
    "           c=db_small.SPTYPE_BY_STANDARD.apply(splat.typeToNum), s=200,alpha=0.6, cmap='cividis')\n",
    "plt.colorbar(c, label='Spectral Type')\n",
    "\n",
    "ax.invert_yaxis()\n",
    "ax.set(xlabel='2MASS J-H', ylabel='J')"
   ]
  },
  {
   "cell_type": "code",
   "execution_count": null,
   "id": "98b8d6a3",
   "metadata": {},
   "outputs": [],
   "source": []
  }
 ],
 "metadata": {
  "kernelspec": {
   "display_name": "Python 3 (ipykernel)",
   "language": "python",
   "name": "python3"
  },
  "language_info": {
   "codemirror_mode": {
    "name": "ipython",
    "version": 3
   },
   "file_extension": ".py",
   "mimetype": "text/x-python",
   "name": "python",
   "nbconvert_exporter": "python",
   "pygments_lexer": "ipython3",
   "version": "3.9.13"
  }
 },
 "nbformat": 4,
 "nbformat_minor": 5
}
