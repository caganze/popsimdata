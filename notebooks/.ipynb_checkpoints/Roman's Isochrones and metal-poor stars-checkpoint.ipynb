{
 "cells": [
  {
   "cell_type": "code",
   "execution_count": 1,
   "id": "d8321170",
   "metadata": {},
   "outputs": [],
   "source": [
    "import pandas as pd\n",
    "import matplotlib.pyplot as plt\n",
    "import numpy as np\n",
    "%matplotlib inline"
   ]
  },
  {
   "cell_type": "code",
   "execution_count": 2,
   "id": "e7b6730d",
   "metadata": {},
   "outputs": [],
   "source": [
    "data=pd.read_pickle('/users/caganze/research/isochrones.pkl')"
   ]
  },
  {
   "cell_type": "code",
   "execution_count": 4,
   "id": "12bdfd84",
   "metadata": {},
   "outputs": [
    {
     "data": {
      "text/plain": [
       "dict_keys(['ca1', 'ca2'])"
      ]
     },
     "execution_count": 4,
     "metadata": {},
     "output_type": "execute_result"
    }
   ],
   "source": [
    "data.keys()"
   ]
  },
  {
   "cell_type": "code",
   "execution_count": 5,
   "id": "ce71456d",
   "metadata": {},
   "outputs": [],
   "source": [
    "#ca1 = Fe/H= -1.5\n",
    "#ca2= Fe/H= -0.5\n",
    "mets={'ca1': -1.5, 'ca2': -0.5}"
   ]
  },
  {
   "cell_type": "code",
   "execution_count": 6,
   "id": "65a19d03",
   "metadata": {},
   "outputs": [],
   "source": [
    "#"
   ]
  },
  {
   "cell_type": "code",
   "execution_count": 7,
   "id": "8cbb847a",
   "metadata": {},
   "outputs": [],
   "source": [
    "#list(data['ca1'].keys())\n",
    "\n",
    "#data[mk][k]['photometry'][0.5]['VEGAMAG'].keys()\n"
   ]
  },
  {
   "cell_type": "code",
   "execution_count": 8,
   "id": "2b11497c",
   "metadata": {},
   "outputs": [
    {
     "data": {
      "text/plain": [
       "dict_keys(['mass', 'teff', 'radius', 'logg', 'lum', 'bol_mag', 'photometry', 'tau_100_temp', 'tau_100_pgas', 'photosphere_temp', 'photosphere_pgas'])"
      ]
     },
     "execution_count": 8,
     "metadata": {},
     "output_type": "execute_result"
    }
   ],
   "source": [
    "data['ca1'][1000.0].keys()"
   ]
  },
  {
   "cell_type": "code",
   "execution_count": 9,
   "id": "c5ecaccd",
   "metadata": {},
   "outputs": [],
   "source": [
    "cols=['mass', 'teff', 'radius', 'logg', 'lum', 'bol_mag', 'photometry', 'tau_100_temp', 'tau_100_pgas', 'photosphere_temp']"
   ]
  },
  {
   "cell_type": "code",
   "execution_count": 19,
   "id": "4022f1a5",
   "metadata": {},
   "outputs": [],
   "source": [
    "dfs=[]\n",
    "\n",
    "for mk in ['ca1', 'ca2']:\n",
    "    for age in data['ca1'].keys():\n",
    "        \n",
    "        df={}\n",
    "        for pk in  cols:\n",
    "            if pk != 'photometry':\n",
    "                df[pk]= data[mk][age][pk]\n",
    "    \n",
    "        for ex in data[mk][age]['photometry'].keys():\n",
    "            df['EBV']= np.ones_like(df[pk])*ex\n",
    "            #print (data[mk][age][pk][ex]['VEGAMAG'].keys())\n",
    "            for ky in data[mk][age]['photometry'][ex]['VEGAMAG'].keys():\n",
    "                kynew=ky.split('.dat')[0]\n",
    "                df[kynew]= (data[mk][age]['photometry'][ex]['VEGAMAG'][ky])\n",
    "    \n",
    "\n",
    "        df['Fe_H']= mets[mk]\n",
    "        df['age']= age\n",
    "        dfs.append(df)\n"
   ]
  },
  {
   "cell_type": "code",
   "execution_count": 21,
   "id": "9a238bdb",
   "metadata": {},
   "outputs": [],
   "source": [
    "df_t=pd.DataFrame.from_records(dfs)"
   ]
  },
  {
   "cell_type": "code",
   "execution_count": 34,
   "id": "ea3cac3d",
   "metadata": {},
   "outputs": [
    {
     "data": {
      "text/plain": [
       "mass                 [0.05, 0.052502676005170716, 0.054454292348938...\n",
       "teff                 [3284.7424436876813, 3295.67610989033, 3303.32...\n",
       "radius               [-0.08918987357410375, -0.06708511564551647, -...\n",
       "logg                 [3.3154173787873598, 3.2924192980889098, 3.275...\n",
       "lum                  [-1.1576807798941702, -1.107698457666281, -1.0...\n",
       "                                           ...                        \n",
       "JWST_NIRISS.F277W    [5.165919906717163, 5.045428489693297, 4.95604...\n",
       "LSST_LSST.z          [7.530853425424242, 7.4054766885366705, 7.3131...\n",
       "PAN-STARRS_PS1.i     [8.32130193089682, 8.191941502636045, 8.096967...\n",
       "Fe_H                                                              -1.5\n",
       "age                                                             1000.0\n",
       "Name: 0, Length: 107, dtype: object"
      ]
     },
     "execution_count": 34,
     "metadata": {},
     "output_type": "execute_result"
    }
   ],
   "source": [
    "df_small=df_t.iloc[0]\n",
    "df_small"
   ]
  },
  {
   "cell_type": "code",
   "execution_count": 48,
   "id": "e2ee7043",
   "metadata": {},
   "outputs": [
    {
     "data": {
      "text/plain": [
       "['mass',\n",
       " 'teff',\n",
       " 'radius',\n",
       " 'logg',\n",
       " 'lum',\n",
       " 'bol_mag',\n",
       " 'tau_100_temp',\n",
       " 'tau_100_pgas',\n",
       " 'photosphere_temp',\n",
       " 'EBV',\n",
       " 'SLOAN_SDSS.r',\n",
       " 'SLOAN_SDSS.z',\n",
       " 'JWST_NIRCam.F300M',\n",
       " 'JWST_NIRCam.F187N',\n",
       " 'JWST_NIRCam.F200W',\n",
       " 'UKIRT_UKIDSS.K',\n",
       " 'JWST_NIRCam.F322W2',\n",
       " 'WFIRST_WFI.J129',\n",
       " 'JWST_NIRCam.F430M',\n",
       " 'JWST_NIRCam.F210M',\n",
       " 'JWST_NIRCam.F162M',\n",
       " 'CTIO_DECam.r',\n",
       " 'JWST_NIRCam.F212N',\n",
       " 'WFIRST_WFI.Prism',\n",
       " 'JWST_NIRISS.F356W',\n",
       " 'JWST_NIRISS.F140M',\n",
       " 'Euclid_NISP0.Red',\n",
       " 'PAN-STARRS_PS1.z',\n",
       " 'JWST_NIRCam.F480M',\n",
       " 'UKIRT_UKIDSS.J',\n",
       " 'JWST_NIRISS.F444W',\n",
       " 'JWST_NIRCam.F356W',\n",
       " 'WFIRST_WFI.F184',\n",
       " 'Paranal_VISTA.Ks',\n",
       " 'WFIRST_WFI.Z087',\n",
       " 'WFIRST_WFI.R062',\n",
       " 'JWST_NIRCam.F460M',\n",
       " 'HST_WFC3_IR.F140W',\n",
       " 'WFIRST_WFI.Y106',\n",
       " 'Subaru_HSC.i',\n",
       " 'SLOAN_SDSS.g',\n",
       " 'JWST_NIRCam.F150W2',\n",
       " 'CTIO_DECam.i',\n",
       " 'JWST_NIRCam.F250M',\n",
       " 'WFIRST_WFI.W146',\n",
       " 'Euclid_NISP.Y',\n",
       " 'PAN-STARRS_PS1.g',\n",
       " 'JWST_NIRCam.F405N',\n",
       " 'CTIO_DECam.g',\n",
       " 'JWST_NIRCam.F115W',\n",
       " 'LSST_LSST.u',\n",
       " 'JWST_NIRCam.F410M',\n",
       " 'JWST_NIRISS.F090W',\n",
       " 'Paranal_VISTA.Z',\n",
       " 'WFIRST_WFI.Grism',\n",
       " 'CTIO_DECam.z',\n",
       " 'JWST_NIRCam.F164N',\n",
       " 'JWST_NIRCam.F323N',\n",
       " 'CTIO_DECam.Y',\n",
       " 'HST_WFC3_IR.F110W',\n",
       " 'LSST_LSST.i',\n",
       " 'JWST_NIRCam.F360M',\n",
       " 'JWST_NIRISS.F480M',\n",
       " 'Euclid_NISP.J',\n",
       " 'JWST_NIRCam.F090W',\n",
       " 'JWST_NIRCam.F444W',\n",
       " 'JWST_NIRCam.F070W',\n",
       " 'JWST_NIRISS.F380M',\n",
       " 'SLOAN_SDSS.u',\n",
       " 'JWST_NIRCam.F182M',\n",
       " 'JWST_NIRCam.F466N',\n",
       " 'Paranal_VISTA.J',\n",
       " 'Paranal_VISTA.Y',\n",
       " 'JWST_NIRCam.F335M',\n",
       " 'Subaru_HSC.r',\n",
       " 'SLOAN_SDSS.i',\n",
       " 'JWST_NIRCam.F150W',\n",
       " 'JWST_NIRISS.F430M',\n",
       " 'JWST_NIRISS.F200W',\n",
       " 'UKIRT_UKIDSS.H',\n",
       " 'LSST_LSST.y',\n",
       " 'Euclid_NISP0.J',\n",
       " 'JWST_NIRCam.F140M',\n",
       " 'LSST_LSST.g',\n",
       " 'UKIRT_UKIDSS.Z',\n",
       " 'UKIRT_UKIDSS.Y',\n",
       " 'JWST_NIRISS.F115W',\n",
       " 'Euclid_NISP0.Blue',\n",
       " 'JWST_NIRCam.F277W',\n",
       " 'Subaru_HSC.z',\n",
       " 'LSST_LSST.r',\n",
       " 'PAN-STARRS_PS1.r',\n",
       " 'JWST_NIRISS.F150W',\n",
       " 'Euclid_NISP.H',\n",
       " 'JWST_NIRISS.F158M',\n",
       " 'JWST_NIRCam.F470N',\n",
       " 'Subaru_HSC.Y',\n",
       " 'Euclid_NISP0.H',\n",
       " 'WFIRST_WFI.H158',\n",
       " 'Paranal_VISTA.H',\n",
       " 'PAN-STARRS_PS1.y',\n",
       " 'Subaru_HSC.g',\n",
       " 'JWST_NIRISS.F277W',\n",
       " 'LSST_LSST.z',\n",
       " 'PAN-STARRS_PS1.i',\n",
       " 'Fe_H',\n",
       " 'age']"
      ]
     },
     "execution_count": 48,
     "metadata": {},
     "output_type": "execute_result"
    }
   ],
   "source": [
    "#rearrange now that we have all columns\n",
    "cols= list(df_t.iloc[0].keys())\n",
    "for idx in range(len(df_t)):\n",
    "    n= len(df_small=df_t.iloc[idx].mass)\n",
    "    "
   ]
  },
  {
   "cell_type": "code",
   "execution_count": null,
   "id": "ec880e3c",
   "metadata": {},
   "outputs": [],
   "source": [
    "#"
   ]
  },
  {
   "cell_type": "code",
   "execution_count": 43,
   "id": "69cc3ceb",
   "metadata": {},
   "outputs": [
    {
     "name": "stderr",
     "output_type": "stream",
     "text": [
      "/var/folders/p5/jqfspzln0z965dsfd1pj_5900000gp/T/ipykernel_65212/3593725267.py:5: UserWarning: No data for colormapping provided via 'c'. Parameters 'vmin', 'vmax' will be ignored\n",
      "  ax.scatter(df_small['LSST_LSST.g']-df_small['LSST_LSST.r'], df_small['LSST_LSST.i'],\\\n"
     ]
    },
    {
     "data": {
      "image/png": "[encoded data removed]",
      "text/plain": [
       "<Figure size 640x480 with 1 Axes>"
      ]
     },
     "metadata": {},
     "output_type": "display_data"
    }
   ],
   "source": [
    "fig, ax=plt.subplots()\n",
    "\n",
    "for idx in range(len(df_t)):\n",
    "    df_small=df_t.iloc[idx]\n",
    "    ax.scatter(df_small['LSST_LSST.g']-df_small['LSST_LSST.r'], df_small['LSST_LSST.i'],\\\n",
    "               s=1, alpha=0.2,  vmin=-2, vmax=1)\n",
    "\n",
    "    ax.set(xlabel='g-r', ylabel='i')"
   ]
  },
  {
   "cell_type": "code",
   "execution_count": null,
   "id": "a8816d1a",
   "metadata": {},
   "outputs": [],
   "source": [
    "df_t.mass"
   ]
  },
  {
   "cell_type": "code",
   "execution_count": null,
   "id": "291d9bf8",
   "metadata": {},
   "outputs": [],
   "source": []
  }
 ],
 "metadata": {
  "kernelspec": {
   "display_name": "Python 3 (ipykernel)",
   "language": "python",
   "name": "python3"
  },
  "language_info": {
   "codemirror_mode": {
    "name": "ipython",
    "version": 3
   },
   "file_extension": ".py",
   "mimetype": "text/x-python",
   "name": "python",
   "nbconvert_exporter": "python",
   "pygments_lexer": "ipython3",
   "version": "3.9.13"
  }
 },
 "nbformat": 4,
 "nbformat_minor": 5
}
