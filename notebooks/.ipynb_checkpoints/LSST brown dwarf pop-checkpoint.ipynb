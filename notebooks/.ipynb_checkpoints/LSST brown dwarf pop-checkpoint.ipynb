{
 "cells": [
  {
   "cell_type": "code",
   "execution_count": 1,
   "id": "7b52037a",
   "metadata": {},
   "outputs": [],
   "source": [
    "#imports \n",
    "import numpy as np\n",
    "import pandas as pd\n",
    "import matplotlib.pyplot as plt\n",
    "import seaborn as sns\n",
    "%matplotlib inline\n",
    "\n",
    "import popsims\n",
    "from popsims.simulator import Population, pop_mags\n",
    "from popsims.galaxy import Disk, Halo\n",
    "from popsims.plot_style import  plot_style\n",
    "from astropy.coordinates import SkyCoord\n",
    "import astropy.units as u\n",
    "from tqdm import tqdm\n",
    "\n",
    "plot_style()\n",
    "\n",
    "import warnings\n",
    "warnings.filterwarnings(\"ignore\")"
   ]
  },
  {
   "cell_type": "code",
   "execution_count": 2,
   "id": "38c99a61",
   "metadata": {},
   "outputs": [],
   "source": [
    "def compute_vols_and_numbers(df, gmodel, sptgrid, footprint, maglimits):\n",
    "    from popsims.abs_mag_relations import POLYNOMIALS\n",
    "    counts={}\n",
    "    vols={}\n",
    "    dists={}\n",
    "\n",
    "    for spt in sptgrid:\n",
    "        \n",
    "        dmins=[]\n",
    "        dmaxs=[]\n",
    "        \n",
    "        dmins_sd=[]\n",
    "        dmaxs_sd=[]\n",
    "        \n",
    "        for k in maglimits.keys():\n",
    "            mag_cut= maglimits[k]\n",
    "            absmag= np.poly1d(POLYNOMIALS['absmags_spt']['dwarfs'][k]['fit'])(spt)\n",
    "            \n",
    "            #absmag_sd= np.poly1d(POLYNOMIALS['absmags_spt']['subdwarfs'][k]['fit'])(spt)\n",
    "        \n",
    "            mag_cut= maglimits[k]\n",
    "            \n",
    "            dmin=10.**(-(absmag-mag_cut[0])/5. + 1.)\n",
    "            dmax=10.**(-(absmag-mag_cut[1])/5. + 1.)\n",
    "            \n",
    "            #dmin_sd=10.**(-(absmag_sd-14)/5. + 1.)\n",
    "            #dmax_sd=10.**(-(absmag_sd-mag_cut)/5. + 1.)\n",
    "        \n",
    "            \n",
    "            dmins.append(dmin)\n",
    "            dmaxs.append(dmax)\n",
    "            \n",
    "            #dmins_sd.append(dmin)\n",
    "            #dmaxs_sd.append(dmax)\n",
    "            \n",
    "        dmin=np.nanmedian(dmins)\n",
    "        dmax=np.nanmedian(dmaxs)\n",
    "        \n",
    "        #dmin_sd=np.nanmedian(dmins_sd)\n",
    "        #dmax_sd=np.nanmedian(dmaxs_sd)\n",
    "        \n",
    "        #print (spt, dmin, dmax)\n",
    "        \n",
    "        scale=[df.scale.mean(), df.scale_unc.mean(), df.scale_times_model.mean()]\n",
    "        \n",
    "        sn= len(df)\n",
    "        #sn= len(df.query('population == \"thin disk\"'))\n",
    "        #snt= len(df.query('population == \"thick disk\"'))\n",
    "        #snh= len(df.query('population == \"halo\"'))\n",
    "      \n",
    "        sn_c= len(df.query('spt < {}'.format(spt, spt+0.9)))\n",
    "        #snt_c= len(df.query('population == \"thick disk\" and spt >= {} and spt < {}'.format(spt, spt+0.9)))\n",
    "        #snh_c= len(df.query('population == \"halo\" and spt >= {} and spt < {}'.format(spt, spt+0.9)))\n",
    "        \n",
    "        \n",
    "        volumes={'volume': 0.0}\n",
    "        \n",
    "        cnts={'number':  sn_c*np.divide(scale[-1], sn)}\n",
    "        for s in  footprint:\n",
    "            l=s.galactic.l.radian\n",
    "            b=s.galactic.b.radian\n",
    "            volumes['volume'] += gmodel.volume(l, b, dmin, dmax)/len(footprint)\n",
    "            #volumes['thick'] += tdisk.volume(l, b, dmin, dmax)/len(footprint)\n",
    "            #volumes['halo'] += halo.volume(l, b, dmin, dmax)/len(footprint)\n",
    "            \n",
    "        vols.update({spt: volumes})\n",
    "        counts.update({spt: cnts})\n",
    "        dists.update({spt: dmax})\n",
    "        \n",
    "        \n",
    "    return pd.DataFrame.from_records(vols).T.replace(np.inf, np.nan),\\\n",
    "    pd.DataFrame.from_records(counts).T.replace(np.inf, np.nan),\\\n",
    "    dists\n"
   ]
  },
  {
   "cell_type": "code",
   "execution_count": 3,
   "id": "94255890",
   "metadata": {},
   "outputs": [],
   "source": [
    "footprint = SkyCoord(l=np.random.uniform(-np.pi, np.pi, 10)*u.rad, \n",
    "                     b= np.random.uniform(-np.pi/2, np.pi/2, 10)*u.rad, frame='galactic' )"
   ]
  },
  {
   "cell_type": "code",
   "execution_count": 50,
   "id": "eec5c653",
   "metadata": {},
   "outputs": [],
   "source": [
    "#kirkpatrick\n",
    "p_disk=Population(evolmodel= 'burrows1997',\n",
    "              imf_power=-0.6,\n",
    "              binary_fraction=0.2,\n",
    "              age_range=[0.01, 8],\n",
    "              mass_range=[0.01, .1],\n",
    "             nsample=1e6)\n",
    "    \n",
    "p_disk.simulate()\n",
    "disk= Disk()\n",
    "p_disk.add_distances(disk, footprint.l.radian,footprint.b.radian, 0.1,  50_000, dsteps=5000)"
   ]
  },
  {
   "cell_type": "code",
   "execution_count": 51,
   "id": "578f16fe",
   "metadata": {},
   "outputs": [],
   "source": [
    "#kirkpatrick\n",
    "p_tdisk=Population(evolmodel= 'burrows1997',\n",
    "              imf_power=-0.6,\n",
    "              binary_fraction=0.2,\n",
    "              age_range=[0.01, 8],\n",
    "              mass_range=[0.01, .1],\n",
    "             nsample=1e6)\n",
    "    \n",
    "p_tdisk.simulate()\n",
    "disk= Disk(L=3600, H=3600)\n",
    "p_tdisk.add_distances(disk, footprint.l.radian,footprint.b.radian, 0.1,  50_000, dsteps=5000)"
   ]
  },
  {
   "cell_type": "code",
   "execution_count": 5,
   "id": "11e4363e",
   "metadata": {},
   "outputs": [],
   "source": [
    "#kirkpatrick\n",
    "p1=Population(evolmodel= 'burrows1997',\n",
    "              imf_power=-0.6,\n",
    "              binary_fraction=0.2,\n",
    "              age_range=[8, 14],\n",
    "              mass_range=[0.01, .1],\n",
    "             nsample=1e6)\n",
    "    \n",
    "p1.simulate()\n",
    "disk= Halo()\n",
    "p1.add_distances(disk, footprint.l.radian,footprint.b.radian, 0.1,  50_000, dsteps=5000)\n",
    "\n",
    "#add magnitudes from pre-defined filters or pre-define polynomial cofficients\n",
    "p1.add_magnitudes(['LSST_G', 'LSST_R', 'LSST_I', 'LSST_Z', 'NIRISS_F115W'], get_from='spt')"
   ]
  },
  {
   "cell_type": "code",
   "execution_count": 6,
   "id": "e641216e",
   "metadata": {},
   "outputs": [],
   "source": [
    "#NIRISS_F115W"
   ]
  },
  {
   "cell_type": "code",
   "execution_count": 8,
   "id": "cd2f5951",
   "metadata": {},
   "outputs": [],
   "source": [
    "#kirkpatrick\n",
    "p2=Population(evolmodel= 'burrows1997',\n",
    "              imf_power=-2.5,\n",
    "              binary_fraction=0.2,\n",
    "              age_range=[8, 14],\n",
    "              mass_range=[0.01, .1],\n",
    "             nsample=1e6)\n",
    "    \n",
    "p2.simulate()\n",
    "p2.add_distances(Halo(),footprint.l.radian,footprint.b.radian, 0.1, 50_000, dsteps=5000)\n",
    "\n",
    "#add magnitudes from pre-defined filters or pre-define polynomial cofficients\n",
    "p2.add_magnitudes(['LSST_G', 'LSST_R', 'LSST_I', 'LSST_Z',  'NIRISS_F115W'], get_from='spt')"
   ]
  },
  {
   "cell_type": "code",
   "execution_count": 9,
   "id": "810e38bb",
   "metadata": {},
   "outputs": [],
   "source": [
    "#kirkpatrick\n",
    "p3=Population(evolmodel= 'burrows1997',\n",
    "              imf_power=2.5,\n",
    "              binary_fraction=0.2,\n",
    "              age_range=[8, 14],\n",
    "              mass_range=[0.01, .1],\n",
    "             nsample=1e6)\n",
    "    \n",
    "p3.simulate()\n",
    "p3.add_distances(Halo(),  footprint.l.radian,footprint.b.radian, 0.1,  50_000, dsteps=5000)\n",
    "\n",
    "#add magnitudes from pre-defined filters or pre-define polynomial cofficients\n",
    "p3.add_magnitudes(['LSST_G', 'LSST_R', 'LSST_I', 'LSST_Z',  'NIRISS_F115W'], get_from='spt')"
   ]
  },
  {
   "cell_type": "code",
   "execution_count": 10,
   "id": "2edfc7f4",
   "metadata": {},
   "outputs": [],
   "source": [
    "cols=['mass', 'age', 'temperature', 'luminosity', 'is_binary', 'spt', \\\n",
    "      'prim_spt', 'sec_spt', 'pri_mass', 'sec_mass', 'prim_luminosity',\\\n",
    "      'sec_luminosity', 'scale', 'scale_unc', 'scale_times_model', 'l', 'b', \\\n",
    "      'distance', 'abs_LSST_G', 'abs_LSST_R', 'abs_LSST_I', 'abs_LSST_Z',\\\n",
    "      'LSST_G', 'LSST_R', 'LSST_I', 'LSST_Z']\n",
    "\n",
    "maglimits={'LSST_Z': [10, 26.1]}\n",
    "maglimits1hr= {'LSST_Z': [10, 23.3]}\n",
    "sptgrid=np.arange(15, 40)"
   ]
  },
  {
   "cell_type": "code",
   "execution_count": 53,
   "id": "0521ca5c",
   "metadata": {},
   "outputs": [],
   "source": [
    "df1=p1.to_dataframe(cols)\n",
    "df2=p2.to_dataframe(cols)\n",
    "df3=p3.to_dataframe(cols)"
   ]
  },
  {
   "cell_type": "code",
   "execution_count": 54,
   "id": "904ec5f5",
   "metadata": {},
   "outputs": [],
   "source": [
    "AREA=(18_000*u.degree**2).to(u.radian**2)"
   ]
  },
  {
   "cell_type": "code",
   "execution_count": 61,
   "id": "2136452e",
   "metadata": {},
   "outputs": [],
   "source": [
    "n1=  compute_vols_and_numbers(df1, Halo(), sptgrid, footprint, maglimits)\n",
    "n2=  compute_vols_and_numbers(df2, Halo(), sptgrid, footprint, maglimits)\n",
    "n3=  compute_vols_and_numbers(df3, Halo(), sptgrid, footprint, maglimits)"
   ]
  },
  {
   "cell_type": "code",
   "execution_count": 56,
   "id": "d95d6062",
   "metadata": {},
   "outputs": [],
   "source": [
    "n1_1hr=  compute_vols_and_numbers(df1, Halo(), sptgrid, footprint, maglimits1hr)\n",
    "n2_1hr=  compute_vols_and_numbers(df2, Halo(), sptgrid, footprint, maglimits1hr)\n",
    "n3_1hr=  compute_vols_and_numbers(df3, Halo(), sptgrid, footprint, maglimits1hr)"
   ]
  },
  {
   "cell_type": "code",
   "execution_count": 73,
   "id": "28c9af6e",
   "metadata": {},
   "outputs": [
    {
     "data": {
      "image/png": "[encoded data removed]",
      "text/plain": [
       "<Figure size 336x448 with 1 Axes>"
      ]
     },
     "metadata": {},
     "output_type": "display_data"
    }
   ],
   "source": [
    "fig, ax=plt.subplots(figsize=(6*0.7, 8*0.7))\n",
    "plt.step(sptgrid, 0.0025*n1[1].values.flatten()*(n1[1].values.flatten()*AREA.value),\\\n",
    "         label=r'$dn/dm \\propto m^{-0.6} $', color='#0074D9', linewidth=3)\n",
    "plt.step(sptgrid, 0.0025*n2[1].values.flatten()*(n2[1].values.flatten()*AREA.value), \\\n",
    "         label=r'$dn/dm \\propto m^{-2.5} $', color='#FF851B', linestyle='-', linewidth=3)\n",
    "plt.step(sptgrid, 0.0025*n3[1].values.flatten()*(n3[1].values.flatten()*AREA.value), \\\n",
    "         label=r'$dn/dm \\propto m^{2.5} $', color='#111111', linestyle='-', linewidth=3)\n",
    "\n",
    "#plt.step(sptgrid, 0.0025*n1_1hr[0].values.flatten()*n1_1hr[1].values.flatten()*AREA.value,\\\n",
    "#         label=r'$dn/dm \\propto m^{-0.6} $', color='#0074D9', linestyle=':', linewidth=3)\n",
    "#plt.step(sptgrid, 0.0025*n2_1hr[0].values.flatten()*n2_1hr[1].values.flatten()*AREA.value, \\\n",
    "#         label=r'$dn/dm \\propto m^{-2.5} $', color='#FF851B', linestyle=':', linewidth=3)\n",
    "#plt.step(sptgrid, 0.0025*n3_1hr[0].values.flatten()*n3_1hr[1].values.flatten()*AREA.value, \\\n",
    "#         label=r'$dn/dm \\propto m^{2.5} $', color='#111111', linestyle=':', linewidth=3)\n",
    "\n",
    "plt.legend()\n",
    "ax.set(yscale='log', xlabel='Spectral Type', ylabel='Space Density of Halo Stars',  xticks=[15, 20, 25, 30, 35, 40],\n",
    "       xticklabels=['M5', 'L0', 'L5', 'T0', 'T5', 'Y0'])\n",
    "ax.minorticks_on()\n",
    "plt.savefig('../figures_lsst_imfs.pdf', bbox_inches='tight')"
   ]
  },
  {
   "cell_type": "code",
   "execution_count": 44,
   "id": "8888d4df",
   "metadata": {},
   "outputs": [],
   "source": [
    "maglimits_jwst={'NIRISS_F115W': [10, 29.]}\n",
    "\n",
    "n1_jw=  compute_vols_and_numbers(df1, Halo(), sptgrid, footprint, maglimits_jwst)\n",
    "n2_jw=  compute_vols_and_numbers(df2, Halo(), sptgrid, footprint, maglimits_jwst)\n",
    "n3_jw=  compute_vols_and_numbers(df3, Halo(), sptgrid, footprint, maglimits_jwst)"
   ]
  },
  {
   "cell_type": "code",
   "execution_count": 45,
   "id": "e8b22eca",
   "metadata": {},
   "outputs": [],
   "source": [
    "AREA_JWST=(200*u.arcmin**2).to(u.radian**2)"
   ]
  },
  {
   "cell_type": "code",
   "execution_count": 46,
   "id": "de3e368e",
   "metadata": {},
   "outputs": [],
   "source": [
    "def cum_numbers(sptgrid, n, area):\n",
    "    n=0.0025*n[0].values.flatten()*n[1].values.flatten()*area.value  \n",
    "    return np.cumsum(n)"
   ]
  },
  {
   "cell_type": "code",
   "execution_count": 72,
   "id": "62b731d6",
   "metadata": {},
   "outputs": [
    {
     "data": {
      "text/plain": [
       "array([  3.54121342,  24.37216111,  60.55915621,  97.12216613,\n",
       "       129.81699431, 159.00705022, 185.35768624, 209.51944048,\n",
       "       231.88505715, 252.92342738, 272.99602926, 292.35520424,\n",
       "       311.19177815, 329.57476459, 347.47259799, 364.80800654,\n",
       "       381.36716622, 396.80149368, 410.79439185, 423.05957732,\n",
       "       433.34539218, 441.89349797, 449.46631107, 456.59157168,\n",
       "       463.00726617])"
      ]
     },
     "execution_count": 72,
     "metadata": {},
     "output_type": "execute_result"
    }
   ],
   "source": [
    "cum_numbers(sptgrid, n1_jw, AREA_JWST)"
   ]
  },
  {
   "cell_type": "code",
   "execution_count": 59,
   "id": "309f5a63",
   "metadata": {},
   "outputs": [
    {
     "data": {
      "image/png": "[encoded data removed]",
      "text/plain": [
       "<Figure size 336x448 with 1 Axes>"
      ]
     },
     "metadata": {},
     "output_type": "display_data"
    }
   ],
   "source": [
    "fig, ax=plt.subplots(figsize=(6*0.7, 8*0.7))\n",
    "\n",
    "n=cum_numbers(sptgrid, n1_jw, AREA_JWST)\n",
    "plt.step(sptgrid, n ,\\\n",
    "         label=r'$dn/dm \\propto m^{-0.6} $', color='#0074D9', linewidth=3)\n",
    "plt.fill_between(sptgrid, n-np.sqrt(n), n+np.sqrt(n),  color='#0074D9', step=\"pre\", alpha=0.4)\n",
    "\n",
    "n2=cum_numbers(sptgrid, n2_jw, AREA_JWST)\n",
    "plt.step(sptgrid, n2,\\\n",
    "         label=r'$dn/dm \\propto m^{-2.5} $', color='#FF851B', linestyle='-', linewidth=3)\n",
    "plt.fill_between(sptgrid, n2-np.sqrt(n2), n2+np.sqrt(n2), color='#FF851B', step=\"pre\", alpha=0.4)\n",
    "\n",
    "\n",
    "n3=cum_numbers(sptgrid, n3_jw, AREA_JWST)\n",
    "plt.step(sptgrid, cum_numbers(sptgrid, n3_jw, AREA_JWST),\\\n",
    "         label=r'$dn/dm \\propto m^{2.5} $', color='#111111', linestyle='-', linewidth=3)\n",
    "plt.fill_between(sptgrid, n3-np.sqrt(n3), n3+np.sqrt(n3), color='#111111', step=\"pre\", alpha=0.4)\n",
    "\n",
    "\n",
    "plt.legend()\n",
    "ax.minorticks_on()\n",
    "\n",
    "ax.set(yscale='log', xlabel='Spectral Type', ylabel='Cumulative Number of Halo Stars',  xticks=[15, 20, 25, 30, 35, 40],\n",
    "       xticklabels=['M5', 'L0', 'L5', 'T0', 'T5', 'Y0'])\n",
    "ax.minorticks_on()\n",
    "plt.savefig('../figures_jwst_imfs.pdf', bbox_inches='tight')"
   ]
  },
  {
   "cell_type": "code",
   "execution_count": null,
   "id": "8a01f9b6",
   "metadata": {},
   "outputs": [],
   "source": []
  }
 ],
 "metadata": {
  "kernelspec": {
   "display_name": "Python 3 (ipykernel)",
   "language": "python",
   "name": "python3"
  },
  "language_info": {
   "codemirror_mode": {
    "name": "ipython",
    "version": 3
   },
   "file_extension": ".py",
   "mimetype": "text/x-python",
   "name": "python",
   "nbconvert_exporter": "python",
   "pygments_lexer": "ipython3",
   "version": "3.9.13"
  }
 },
 "nbformat": 4,
 "nbformat_minor": 5
}
