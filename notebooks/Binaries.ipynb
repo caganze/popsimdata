{
 "cells": [
  {
   "cell_type": "code",
   "execution_count": 2,
   "metadata": {},
   "outputs": [
    {
     "name": "stdout",
     "output_type": "stream",
     "text": [
      "/users/caganze/research/splat\n",
      "\n",
      "\n",
      "Welcome to the Spex Prism Library Analysis Toolkit (SPLAT)!\n",
      "If you make use of any features of this toolkit for your research, please remember to cite the SPLAT paper:\n",
      "\n",
      "Burgasser et al. (2017, Astro. Soc. India Conf. Series 14, p. 7); Bibcode: 2017ASInC..14....7B\n",
      "\n",
      "If you make use of any spectra or models in this toolkit, please remember to cite the original source.\n",
      "Please report any errors are feature requests to our github page, https://github.com/aburgasser/splat/\n",
      "\n",
      "\n"
     ]
    }
   ],
   "source": [
    "#binaries\n",
    "import splat\n",
    "import pandas as pd\n",
    "import matplotlib.pyplot as plt\n",
    "import numpy as np\n",
    "import popsims\n",
    "import wisps\n",
    "%matplotlib inline"
   ]
  },
  {
   "cell_type": "code",
   "execution_count": 2,
   "metadata": {},
   "outputs": [],
   "source": [
    "binr=pd.read_hdf('/volumes/LaCie/popsimsdata/spectral_templates_data_version_may8.h5',  key='binaries')"
   ]
  },
  {
   "cell_type": "code",
   "execution_count": 3,
   "metadata": {},
   "outputs": [],
   "source": [
    "singles=pd.read_hdf('/volumes/LaCie/popsimsdata/spectral_templates_data_version_may8.h5',  key='singles')"
   ]
  },
  {
   "cell_type": "code",
   "execution_count": 184,
   "metadata": {},
   "outputs": [],
   "source": [
    "wave_grid= pd.read_hdf('/volumes/LaCie/popsimsdata/spectral_templates_data_version_may8.h5', key='wavegrid')\n",
    "wave_mask= np.logical_and(wave_grid >=0.8, wave_grid <2.4)"
   ]
  },
  {
   "cell_type": "code",
   "execution_count": 3,
   "metadata": {},
   "outputs": [],
   "source": [
    "binr=pd.read_hdf('/volumes/LaCie/popsimsdata/spectral_templates_data_version_jul26.h5',  key='singles')"
   ]
  },
  {
   "cell_type": "code",
   "execution_count": 214,
   "metadata": {},
   "outputs": [
    {
     "data": {
      "text/plain": [
       "<AxesSubplot:ylabel='Frequency'>"
      ]
     },
     "execution_count": 214,
     "metadata": {},
     "output_type": "execute_result"
    },
    {
     "data": {
      "image/png": "[encoded data removed]",
      "text/plain": [
       "<Figure size 432x288 with 1 Axes>"
      ]
     },
     "metadata": {
      "needs_background": "light"
     },
     "output_type": "display_data"
    }
   ],
   "source": [
    "binr.spex_type[~binr['system_interpolated_flux'].apply(np.nanmedian).isna()].apply(lambda x: splat.typeToNum(x)).plot(kind='hist')"
   ]
  },
  {
   "cell_type": "code",
   "execution_count": 215,
   "metadata": {},
   "outputs": [],
   "source": []
  },
  {
   "cell_type": "code",
   "execution_count": 216,
   "metadata": {},
   "outputs": [],
   "source": [
    "import scipy.interpolate as interp\n",
    "def interpolate_flux_wave(wave, flux):\n",
    "    #function to interpolate \n",
    "    f= interp.interp1d(wave, flux, assume_sorted = False, fill_value = np.nan)\n",
    "    return f(wave_grid)"
   ]
  },
  {
   "cell_type": "code",
   "execution_count": 217,
   "metadata": {},
   "outputs": [],
   "source": [
    "std=splat.getStandard('L5.0')"
   ]
  },
  {
   "cell_type": "code",
   "execution_count": 4,
   "metadata": {},
   "outputs": [
    {
     "name": "stdout",
     "output_type": "stream",
     "text": [
      "409\n",
      "409\n",
      "409\n",
      "409\n",
      "409\n",
      "409\n",
      "409\n",
      "409\n",
      "409\n",
      "409\n",
      "409\n",
      "409\n",
      "409\n",
      "409\n",
      "409\n",
      "409\n",
      "409\n",
      "409\n",
      "409\n",
      "409\n",
      "409\n",
      "409\n",
      "409\n",
      "409\n",
      "409\n",
      "409\n",
      "409\n",
      "409\n",
      "409\n",
      "409\n",
      "409\n",
      "409\n",
      "409\n",
      "409\n",
      "409\n",
      "409\n",
      "409\n",
      "409\n",
      "409\n",
      "409\n",
      "409\n",
      "409\n",
      "409\n",
      "409\n",
      "409\n",
      "409\n",
      "409\n",
      "409\n",
      "409\n",
      "409\n",
      "409\n",
      "409\n",
      "409\n",
      "409\n",
      "409\n",
      "409\n",
      "409\n",
      "409\n",
      "409\n",
      "409\n",
      "409\n",
      "409\n",
      "409\n",
      "409\n",
      "409\n",
      "409\n",
      "409\n",
      "409\n",
      "409\n",
      "409\n",
      "409\n",
      "409\n",
      "409\n",
      "409\n",
      "409\n",
      "409\n",
      "409\n",
      "409\n",
      "409\n",
      "409\n",
      "409\n",
      "409\n",
      "409\n",
      "409\n",
      "409\n",
      "409\n",
      "409\n",
      "409\n",
      "409\n",
      "409\n",
      "409\n",
      "409\n",
      "409\n",
      "409\n",
      "409\n",
      "409\n",
      "409\n",
      "409\n",
      "409\n",
      "409\n",
      "409\n",
      "409\n",
      "409\n",
      "409\n",
      "409\n",
      "409\n",
      "409\n",
      "409\n",
      "409\n",
      "409\n",
      "409\n",
      "409\n",
      "409\n",
      "409\n",
      "409\n",
      "409\n",
      "409\n",
      "409\n",
      "409\n",
      "409\n",
      "409\n",
      "409\n",
      "409\n",
      "409\n",
      "409\n",
      "409\n",
      "409\n",
      "409\n",
      "409\n",
      "409\n",
      "409\n",
      "409\n",
      "409\n",
      "409\n",
      "409\n",
      "409\n",
      "409\n",
      "409\n",
      "409\n",
      "409\n",
      "409\n",
      "409\n",
      "409\n",
      "409\n",
      "409\n",
      "409\n",
      "409\n",
      "409\n",
      "409\n",
      "409\n",
      "409\n",
      "409\n",
      "409\n",
      "409\n",
      "409\n",
      "409\n",
      "409\n",
      "409\n",
      "409\n",
      "409\n",
      "409\n",
      "409\n",
      "409\n",
      "409\n",
      "409\n",
      "409\n",
      "409\n",
      "409\n",
      "409\n",
      "409\n",
      "409\n",
      "409\n",
      "409\n",
      "409\n",
      "409\n",
      "409\n",
      "409\n",
      "409\n",
      "409\n",
      "409\n",
      "409\n",
      "409\n",
      "409\n",
      "409\n",
      "409\n",
      "409\n",
      "409\n",
      "409\n",
      "409\n",
      "409\n",
      "409\n",
      "409\n",
      "409\n",
      "409\n",
      "409\n",
      "409\n",
      "409\n",
      "409\n",
      "409\n",
      "409\n",
      "409\n",
      "409\n",
      "409\n",
      "409\n",
      "409\n",
      "409\n",
      "409\n",
      "409\n",
      "409\n",
      "409\n",
      "409\n",
      "409\n",
      "409\n",
      "409\n",
      "409\n",
      "409\n",
      "409\n",
      "409\n",
      "409\n",
      "409\n",
      "409\n",
      "409\n",
      "409\n",
      "409\n",
      "409\n",
      "409\n",
      "409\n",
      "409\n",
      "409\n",
      "409\n",
      "409\n",
      "409\n",
      "409\n",
      "409\n",
      "409\n",
      "409\n",
      "409\n",
      "409\n",
      "409\n",
      "409\n",
      "409\n",
      "409\n",
      "409\n",
      "409\n",
      "409\n",
      "409\n",
      "409\n",
      "409\n",
      "409\n",
      "409\n",
      "409\n",
      "409\n",
      "409\n",
      "409\n",
      "409\n",
      "409\n",
      "409\n",
      "409\n",
      "409\n",
      "409\n",
      "409\n",
      "409\n",
      "409\n",
      "409\n",
      "409\n",
      "409\n",
      "409\n",
      "409\n",
      "409\n",
      "409\n",
      "409\n",
      "409\n",
      "409\n",
      "409\n",
      "409\n",
      "409\n",
      "409\n",
      "409\n",
      "409\n",
      "409\n",
      "409\n",
      "409\n",
      "409\n",
      "409\n",
      "409\n",
      "409\n",
      "409\n",
      "409\n",
      "409\n",
      "409\n",
      "409\n",
      "409\n",
      "409\n",
      "409\n",
      "409\n",
      "409\n",
      "409\n",
      "409\n",
      "409\n",
      "409\n",
      "409\n",
      "409\n",
      "409\n",
      "409\n",
      "409\n",
      "409\n",
      "409\n",
      "409\n",
      "409\n",
      "409\n",
      "409\n",
      "409\n",
      "409\n",
      "409\n",
      "409\n",
      "409\n",
      "409\n",
      "409\n",
      "409\n",
      "409\n",
      "409\n",
      "409\n",
      "409\n",
      "409\n",
      "409\n",
      "409\n",
      "409\n",
      "409\n",
      "409\n",
      "409\n",
      "409\n",
      "409\n",
      "409\n",
      "409\n",
      "409\n",
      "409\n",
      "409\n",
      "409\n",
      "409\n",
      "409\n",
      "409\n",
      "409\n",
      "409\n",
      "409\n",
      "409\n",
      "409\n",
      "409\n",
      "409\n",
      "409\n",
      "409\n",
      "409\n",
      "409\n",
      "409\n",
      "409\n",
      "409\n",
      "409\n",
      "409\n",
      "409\n",
      "409\n",
      "409\n",
      "409\n",
      "409\n",
      "409\n",
      "409\n",
      "409\n",
      "409\n",
      "409\n",
      "409\n",
      "409\n",
      "409\n",
      "409\n",
      "409\n",
      "409\n",
      "409\n",
      "409\n",
      "409\n",
      "409\n",
      "409\n",
      "409\n",
      "409\n",
      "409\n",
      "409\n",
      "409\n",
      "409\n",
      "409\n",
      "409\n",
      "409\n",
      "409\n",
      "409\n",
      "409\n",
      "409\n",
      "409\n",
      "409\n",
      "409\n",
      "409\n",
      "409\n",
      "409\n",
      "409\n",
      "409\n",
      "409\n",
      "409\n",
      "409\n",
      "409\n",
      "409\n",
      "409\n",
      "409\n",
      "409\n",
      "409\n",
      "409\n",
      "409\n",
      "409\n",
      "409\n",
      "409\n",
      "409\n",
      "409\n",
      "409\n",
      "409\n",
      "409\n",
      "409\n",
      "409\n",
      "409\n",
      "409\n",
      "409\n",
      "409\n",
      "409\n",
      "409\n",
      "409\n",
      "409\n",
      "409\n",
      "409\n",
      "409\n",
      "409\n",
      "409\n",
      "409\n",
      "409\n",
      "409\n",
      "409\n",
      "409\n",
      "409\n",
      "409\n",
      "409\n",
      "409\n",
      "409\n",
      "409\n",
      "409\n",
      "409\n",
      "409\n",
      "409\n",
      "409\n",
      "409\n",
      "409\n",
      "409\n",
      "409\n",
      "409\n",
      "409\n",
      "409\n",
      "409\n",
      "409\n",
      "409\n",
      "409\n",
      "409\n",
      "409\n",
      "409\n",
      "409\n",
      "409\n",
      "409\n",
      "409\n",
      "409\n",
      "409\n",
      "409\n",
      "409\n",
      "409\n",
      "409\n"
     ]
    }
   ],
   "source": [
    "for idx in range(len(binr)):\n",
    "    print (len(binr.wavegrid.values[0]))"
   ]
  },
  {
   "cell_type": "code",
   "execution_count": 220,
   "metadata": {},
   "outputs": [
    {
     "data": {
      "text/plain": [
       "[<matplotlib.lines.Line2D at 0x7fb95abac670>]"
      ]
     },
     "execution_count": 220,
     "metadata": {},
     "output_type": "execute_result"
    },
    {
     "data": {
      "image/png": "[encoded data removed]",
      "text/plain": [
       "<Figure size 432x288 with 1 Axes>"
      ]
     },
     "metadata": {
      "needs_background": "light"
     },
     "output_type": "display_data"
    }
   ],
   "source": [
    "fig, ax=plt.subplots()\n",
    "\n",
    "ax.plot(std.wave.value, std.flux.value)"
   ]
  },
  {
   "cell_type": "code",
   "execution_count": 195,
   "metadata": {},
   "outputs": [],
   "source": [
    "#W[0]"
   ]
  },
  {
   "cell_type": "code",
   "execution_count": 221,
   "metadata": {},
   "outputs": [],
   "source": [
    "W=W[np.logical_and(W >0.8, W<2.4)]"
   ]
  },
  {
   "cell_type": "code",
   "execution_count": 222,
   "metadata": {},
   "outputs": [
    {
     "data": {
      "text/plain": [
       "array([0.23219755, 0.22016271, 0.24560331, 0.25685502, 0.30471674,\n",
       "       0.31901694, 0.31984953, 0.33426045, 0.32810342, 0.30924757,\n",
       "       0.38178358, 0.36942047, 0.40908178, 0.39183892, 0.4330273 ,\n",
       "       0.46991827, 0.46083921, 0.43121552, 0.41785376, 0.43177393,\n",
       "       0.45430382, 0.46776571, 0.5270711 , 0.50187103, 0.44252435,\n",
       "       0.39086096, 0.35269032, 0.32583441, 0.32382375, 0.3643288 ,\n",
       "       0.40674592, 0.40637162, 0.41345585, 0.42348033, 0.4543983 ,\n",
       "       0.44770404, 0.47631678, 0.50016013, 0.55206983, 0.5874816 ,\n",
       "       0.59571309, 0.55737581, 0.57085356, 0.57901057, 0.58746946,\n",
       "       0.60048777, 0.6163551 , 0.67260468, 0.68992516, 0.69825848,\n",
       "       0.70693636, 0.72986619, 0.69821242, 0.67098838, 0.69007597,\n",
       "       0.68275497, 0.67546413, 0.67231106, 0.70577903, 0.71383229,\n",
       "       0.69942545, 0.67727639, 0.6628757 , 0.68803834, 0.73635384,\n",
       "       0.74886838, 0.76774375, 0.74172919, 0.69901311, 0.67127004,\n",
       "       0.66620541, 0.68501284, 0.70272125, 0.74007058, 0.72187771,\n",
       "       0.69460893, 0.68744941, 0.71773307, 0.73304087, 0.79237543,\n",
       "       0.79953561, 0.83971014, 0.83617807, 0.86435006, 0.83782657,\n",
       "       0.81938214, 0.79135881, 0.77575575, 0.81144276, 0.84476967,\n",
       "       0.89969275, 0.93647844, 0.95721166, 0.94058931, 0.98474068,\n",
       "       0.96991803, 0.96332191, 0.93568721, 0.94191367, 0.93294643,\n",
       "       0.93782575, 0.94695618, 0.95648442, 0.95369083, 0.9573679 ,\n",
       "       0.92358672, 0.82336953, 0.70556354, 0.58787575, 0.53320022,\n",
       "       0.49930216, 0.46286282, 0.44999305, 0.39575201, 0.42342895,\n",
       "       0.44741973, 0.44612521, 0.47068246, 0.49001571, 0.46486599,\n",
       "       0.48559778, 0.49557443, 0.43445726, 0.46479089, 0.45325619,\n",
       "       0.3880542 , 0.38530449, 0.39690695, 0.4066011 , 0.41541499,\n",
       "       0.39213575, 0.40123145, 0.42378029, 0.44762776, 0.45529786,\n",
       "       0.46981142, 0.47245819, 0.48143427, 0.47809019, 0.52407813,\n",
       "       0.52465452, 0.52665674, 0.52115158, 0.50835325, 0.54655119,\n",
       "       0.5764137 , 0.58272044, 0.5923816 , 0.62318605, 0.61482733,\n",
       "       0.6349529 , 0.66535363, 0.66460634, 0.6836345 , 0.70240606,\n",
       "       0.7194579 , 0.73817377, 0.76226423, 0.76642241, 0.77586619,\n",
       "       0.77708896, 0.78058918, 0.81310556, 0.80892208, 0.8266536 ,\n",
       "       0.80186569, 0.79885552, 0.83928139, 0.81981785, 0.80914818,\n",
       "       0.81602156, 0.81316867, 0.84765024, 0.87186985, 0.83913419,\n",
       "       0.83360484, 0.82151602, 0.81786634, 0.80113579, 0.8343656 ,\n",
       "       0.8352366 , 0.84953222, 0.88896065, 0.88433491, 0.86031904,\n",
       "       0.85859839, 0.87177298, 0.86954254, 0.85122929, 0.85403025,\n",
       "       0.88277454, 0.89875268, 0.89413047, 0.87989205, 0.85497912,\n",
       "       0.86209831, 0.86083582, 0.83993266, 0.84083737, 0.84507767,\n",
       "       0.80608019, 0.77078086, 0.7761024 , 0.74610897, 0.74009206,\n",
       "       0.73204767, 0.72905723, 0.71530168, 0.67062002, 0.66330861,\n",
       "       0.64929098, 0.62578852, 0.60286008, 0.5802605 , 0.57036873,\n",
       "       0.54995762, 0.52906581, 0.51401342, 0.51187899, 0.49750536,\n",
       "       0.47786141, 0.46835173, 0.4886123 , 0.46022147, 0.48162912,\n",
       "       0.46528574, 0.46618214, 0.46393744, 0.4652213 , 0.45100318,\n",
       "       0.4308959 , 0.48011872, 0.45020812, 0.40851841, 0.4158728 ,\n",
       "       0.41056701, 0.37678666, 0.37159393, 0.3918546 , 0.359253  ,\n",
       "       0.39807161, 0.36156402, 0.36462419, 0.40628801, 0.41220817,\n",
       "       0.38004899, 0.40098345, 0.43104486, 0.42495596, 0.43379569,\n",
       "       0.45815086, 0.47796389, 0.46264704, 0.45482385, 0.46473194,\n",
       "       0.49127178, 0.50182869, 0.45926754, 0.45481943, 0.42488699,\n",
       "       0.40644011, 0.41556608, 0.40326517, 0.41883781, 0.40407382,\n",
       "       0.41762983, 0.40345421, 0.38491856, 0.38590969, 0.38945517,\n",
       "       0.38595366, 0.38065217, 0.39897105, 0.39826556, 0.39623746,\n",
       "       0.3913328 , 0.40988399, 0.39725194, 0.4043939 , 0.42806029,\n",
       "       0.44010162, 0.39130555, 0.41543708, 0.41401415, 0.43079698,\n",
       "       0.43743696, 0.44137397, 0.44989614, 0.4619386 , 0.45980505,\n",
       "       0.46801875, 0.48013065, 0.45942288, 0.48219081, 0.49077194,\n",
       "       0.49168897, 0.51462259, 0.52115365, 0.51181787, 0.49549052,\n",
       "       0.51240558, 0.51530024, 0.53097262, 0.50986219, 0.52796306,\n",
       "       0.55738676, 0.55239826, 0.5517158 , 0.54938395, 0.5642468 ,\n",
       "       0.56231636, 0.57426142, 0.56805108, 0.57583774, 0.5784534 ,\n",
       "       0.5778439 , 0.57932939, 0.57760912, 0.58014637, 0.59373902,\n",
       "       0.57703632, 0.56563374, 0.58647338, 0.59661934, 0.59179629,\n",
       "       0.59295273, 0.58374884, 0.56655458, 0.5906312 , 0.60319296,\n",
       "       0.60828265, 0.58915297, 0.58336704, 0.59755769, 0.58713011,\n",
       "       0.57163725, 0.56753912, 0.57118857, 0.58342135, 0.57530303,\n",
       "       0.57323431, 0.56610287, 0.57225492, 0.5599862 , 0.54313759,\n",
       "       0.5689918 , 0.57762514, 0.56352887, 0.55453382, 0.53751247,\n",
       "       0.55219019, 0.55915395, 0.56725852, 0.55051372, 0.54712235,\n",
       "       0.5511749 , 0.54044906, 0.52286488, 0.54918577, 0.5296944 ,\n",
       "       0.53424367, 0.52642703, 0.53192384, 0.50957707, 0.52962606,\n",
       "       0.51197137, 0.50714724, 0.50565837, 0.50400521, 0.52683287,\n",
       "       0.52025001, 0.47955537, 0.43831705, 0.41148627, 0.4016496 ,\n",
       "       0.42935731, 0.43209712, 0.43102222, 0.43167701, 0.42802162,\n",
       "       0.41788322, 0.41203147, 0.38316722, 0.38014886, 0.41325982,\n",
       "       0.40382893, 0.39954341, 0.40961281, 0.41163826, 0.41142552,\n",
       "       0.4141761 , 0.41301612, 0.39500144, 0.38435976, 0.38555298,\n",
       "       0.37368829, 0.38153492, 0.38063923, 0.34970851, 0.36706331,\n",
       "       0.35983454, 0.37034785, 0.36176198, 0.34701337, 0.37836577,\n",
       "       0.38128502, 0.36802746, 0.37315188, 0.34630857])"
      ]
     },
     "execution_count": 222,
     "metadata": {},
     "output_type": "execute_result"
    }
   ],
   "source": [
    "interpolate_flux_wave(std.wave.value, std.flux.value)"
   ]
  },
  {
   "cell_type": "code",
   "execution_count": 223,
   "metadata": {},
   "outputs": [
    {
     "data": {
      "text/plain": [
       "409"
      ]
     },
     "execution_count": 223,
     "metadata": {},
     "output_type": "execute_result"
    }
   ],
   "source": [
    "len(binr['difference_spectrum'][0])"
   ]
  },
  {
   "cell_type": "code",
   "execution_count": 5,
   "metadata": {},
   "outputs": [
    {
     "data": {
      "text/plain": [
       "409"
      ]
     },
     "execution_count": 5,
     "metadata": {},
     "output_type": "execute_result"
    }
   ],
   "source": [
    "len(binr['system_interpolated_flux'][0])"
   ]
  },
  {
   "cell_type": "code",
   "execution_count": 7,
   "metadata": {},
   "outputs": [
    {
     "data": {
      "text/plain": [
       "0      1.079311e-12\n",
       "1      4.026929e-12\n",
       "4      3.702320e-12\n",
       "5      2.837803e-12\n",
       "7      2.949054e-12\n",
       "           ...     \n",
       "431    1.173430e-14\n",
       "432    6.359185e-15\n",
       "433    3.291235e-14\n",
       "434    1.705325e-14\n",
       "435    4.092500e-15\n",
       "Name: system_interpolated_noise, Length: 425, dtype: float64"
      ]
     },
     "execution_count": 7,
     "metadata": {},
     "output_type": "execute_result"
    }
   ],
   "source": [
    "binr['system_interpolated_noise'].apply(np.nanmedian).dropna()"
   ]
  },
  {
   "cell_type": "code",
   "execution_count": 29,
   "metadata": {},
   "outputs": [],
   "source": [
    "tpls=fil_spectra= pd.read_pickle('/volumes/LaCie/popsimsdata/spectral_templates_data.pkl')"
   ]
  },
  {
   "cell_type": "code",
   "execution_count": 115,
   "metadata": {},
   "outputs": [
    {
     "ename": "TypeError",
     "evalue": "to_hdf() missing 1 required positional argument: 'key'",
     "output_type": "error",
     "traceback": [
      "\u001b[0;31m---------------------------------------------------------------------------\u001b[0m",
      "\u001b[0;31mTypeError\u001b[0m                                 Traceback (most recent call last)",
      "Input \u001b[0;32mIn [115]\u001b[0m, in \u001b[0;36m<cell line: 2>\u001b[0;34m()\u001b[0m\n\u001b[1;32m      1\u001b[0m boolean\u001b[38;5;241m=\u001b[39mnp\u001b[38;5;241m.\u001b[39mvstack(tpls\u001b[38;5;241m.\u001b[39mspectral_type\u001b[38;5;241m.\u001b[39mvalues)[:,\u001b[38;5;241m0\u001b[39m]\u001b[38;5;241m<\u001b[39m\u001b[38;5;241m40\u001b[39m\n\u001b[0;32m----> 2\u001b[0m \u001b[43mtpls\u001b[49m\u001b[43m[\u001b[49m\u001b[43mboolean\u001b[49m\u001b[43m]\u001b[49m\u001b[43m[\u001b[49m\u001b[43m[\u001b[49m\u001b[38;5;124;43m'\u001b[39;49m\u001b[38;5;124;43mspectra\u001b[39;49m\u001b[38;5;124;43m'\u001b[39;49m\u001b[43m,\u001b[49m\u001b[43m \u001b[49m\u001b[38;5;124;43m'\u001b[39;49m\u001b[38;5;124;43mspectral_type\u001b[39;49m\u001b[38;5;124;43m'\u001b[39;49m\u001b[43m]\u001b[49m\u001b[43m]\u001b[49m\u001b[38;5;241;43m.\u001b[39;49m\u001b[43mto_hdf\u001b[49m\u001b[43m(\u001b[49m\u001b[38;5;124;43m'\u001b[39;49m\u001b[38;5;124;43m/volumes/LaCie/popsimsdata/spectral_templates_only.h5\u001b[39;49m\u001b[38;5;124;43m'\u001b[39;49m\u001b[43m)\u001b[49m\n",
      "\u001b[0;31mTypeError\u001b[0m: to_hdf() missing 1 required positional argument: 'key'"
     ]
    }
   ],
   "source": [
    "boolean=np.vstack(tpls.spectral_type.values)[:,0]<40\n",
    "tpls[boolean][['spectra', 'spectral_type']].to_hdf('/volumes/LaCie/popsimsdata/spectral_templates_only.h5')"
   ]
  },
  {
   "cell_type": "code",
   "execution_count": 50,
   "metadata": {},
   "outputs": [
    {
     "data": {
      "text/html": [
       "<div>\n",
       "<style scoped>\n",
       "    .dataframe tbody tr th:only-of-type {\n",
       "        vertical-align: middle;\n",
       "    }\n",
       "\n",
       "    .dataframe tbody tr th {\n",
       "        vertical-align: top;\n",
       "    }\n",
       "\n",
       "    .dataframe thead th {\n",
       "        text-align: right;\n",
       "    }\n",
       "</style>\n",
       "<table border=\"1\" class=\"dataframe\">\n",
       "  <thead>\n",
       "    <tr style=\"text-align: right;\">\n",
       "      <th></th>\n",
       "      <th>spectral_type</th>\n",
       "      <th>spectra</th>\n",
       "      <th>flux</th>\n",
       "      <th>wave</th>\n",
       "      <th>noise</th>\n",
       "      <th>object_name</th>\n",
       "    </tr>\n",
       "  </thead>\n",
       "  <tbody>\n",
       "    <tr>\n",
       "      <th>0</th>\n",
       "      <td>(16.0, 0.5)</td>\n",
       "      <td>SPEX-PRISM spectrum of 2MASS J16002535-2644060</td>\n",
       "      <td>[0.14796930171868541, 0.2202800894453492, 0.18...</td>\n",
       "      <td>[0.644767, 0.647017, 0.649254, 0.651478, 0.653...</td>\n",
       "      <td>[0.031097099998505927, 0.030408729387976677, 0...</td>\n",
       "      <td>2MASS J16002535-2644060</td>\n",
       "    </tr>\n",
       "    <tr>\n",
       "      <th>1</th>\n",
       "      <td>(12.0, 1.118033988749895)</td>\n",
       "      <td>SPEX-PRISM spectrum of 2MASS J17252029-0024508</td>\n",
       "      <td>[0.2026488, 0.21176024, 0.14136912, 0.1744545,...</td>\n",
       "      <td>[0.65343547, 0.6556386, 0.657832, 0.6600167, 0...</td>\n",
       "      <td>[0.21779345, 0.1631624, 0.15613359, 0.14236833...</td>\n",
       "      <td>2MASS J17252029-0024508</td>\n",
       "    </tr>\n",
       "    <tr>\n",
       "      <th>2</th>\n",
       "      <td>(15.0, 0.5)</td>\n",
       "      <td>SPEX-PRISM spectrum of 2MASS J01532750+3631482</td>\n",
       "      <td>[0.262997, 0.083194256, 0.0018768199, 0.188846...</td>\n",
       "      <td>[0.659306, 0.661485, 0.663657, 0.665823, 0.667...</td>\n",
       "      <td>[0.13565567, 0.04431213, 0.108164705, 0.046629...</td>\n",
       "      <td>2MASS J01532750+3631482</td>\n",
       "    </tr>\n",
       "    <tr>\n",
       "      <th>3</th>\n",
       "      <td>(17.0, 0.5)</td>\n",
       "      <td>SPEX-PRISM spectrum of WISE J141143.25-452418.3</td>\n",
       "      <td>[0.047006174738617144, 0.029903828404462842, 0...</td>\n",
       "      <td>[0.672901, 0.674304, 0.675708, 0.677112, 0.678...</td>\n",
       "      <td>[0.05976125896151972, 0.0279308389362753, 0.04...</td>\n",
       "      <td>WISE J141143.25-452418.3</td>\n",
       "    </tr>\n",
       "    <tr>\n",
       "      <th>4</th>\n",
       "      <td>(13.0, 1.118033988749895)</td>\n",
       "      <td>SPEX-PRISM spectrum of 2MASS J19445221-0831036</td>\n",
       "      <td>[0.72692084, 0.796214, 0.33524805, 0.20888495,...</td>\n",
       "      <td>[0.6577501, 0.6599351, 0.6621123, 0.6642827, 0...</td>\n",
       "      <td>[0.18675224, 0.1783706, 0.15675668, 0.1564382,...</td>\n",
       "      <td>2MASS J19445221-0831036</td>\n",
       "    </tr>\n",
       "    <tr>\n",
       "      <th>...</th>\n",
       "      <td>...</td>\n",
       "      <td>...</td>\n",
       "      <td>...</td>\n",
       "      <td>...</td>\n",
       "      <td>...</td>\n",
       "      <td>...</td>\n",
       "    </tr>\n",
       "    <tr>\n",
       "      <th>468</th>\n",
       "      <td>(40.0, 0.5)</td>\n",
       "      <td>anon spectrum</td>\n",
       "      <td>[0.14480140842713898, 0.2555566094667533, 0.02...</td>\n",
       "      <td>[0.9023, 0.9047, 0.9071, 0.9095, 0.9119, 0.914...</td>\n",
       "      <td>[0.15423606893882216, 0.15598094075150798, 0.1...</td>\n",
       "      <td>None</td>\n",
       "    </tr>\n",
       "    <tr>\n",
       "      <th>469</th>\n",
       "      <td>(40.0, 0.5)</td>\n",
       "      <td>anon spectrum</td>\n",
       "      <td>[-0.028605073417404, 0.09193320009847321, 0.03...</td>\n",
       "      <td>[0.9023, 0.9047, 0.9071, 0.9095, 0.9119, 0.914...</td>\n",
       "      <td>[0.12778993281270976, 0.12643779758855123, 0.1...</td>\n",
       "      <td>None</td>\n",
       "    </tr>\n",
       "    <tr>\n",
       "      <th>470</th>\n",
       "      <td>(40.0, 1.118033988749895)</td>\n",
       "      <td>anon spectrum</td>\n",
       "      <td>[0.20499606497574113, -0.01917406382090707, 0....</td>\n",
       "      <td>[1.103, 1.10765, 1.1123, 1.11695, 1.1216, 1.12...</td>\n",
       "      <td>[0.1392494346119377, 0.1363349932262262, 0.114...</td>\n",
       "      <td>None</td>\n",
       "    </tr>\n",
       "    <tr>\n",
       "      <th>471</th>\n",
       "      <td>(38.0, 0.5)</td>\n",
       "      <td>anon spectrum</td>\n",
       "      <td>[0.0060223574250434534, 0.19378953958115452, 0...</td>\n",
       "      <td>[0.9023, 0.9047, 0.9071, 0.9095, 0.9119, 0.914...</td>\n",
       "      <td>[0.08988898421660137, 0.09326306490293641, 0.0...</td>\n",
       "      <td>None</td>\n",
       "    </tr>\n",
       "    <tr>\n",
       "      <th>472</th>\n",
       "      <td>(39.0, 0.5)</td>\n",
       "      <td>anon spectrum</td>\n",
       "      <td>[0.08295842706092023, 0.014015406339279354, 0....</td>\n",
       "      <td>[0.9023, 0.9047, 0.9071, 0.9095, 0.9119, 0.914...</td>\n",
       "      <td>[0.04072491977031085, 0.04227359770915013, 0.0...</td>\n",
       "      <td>None</td>\n",
       "    </tr>\n",
       "  </tbody>\n",
       "</table>\n",
       "<p>473 rows × 6 columns</p>\n",
       "</div>"
      ],
      "text/plain": [
       "                 spectral_type  \\\n",
       "0                  (16.0, 0.5)   \n",
       "1    (12.0, 1.118033988749895)   \n",
       "2                  (15.0, 0.5)   \n",
       "3                  (17.0, 0.5)   \n",
       "4    (13.0, 1.118033988749895)   \n",
       "..                         ...   \n",
       "468                (40.0, 0.5)   \n",
       "469                (40.0, 0.5)   \n",
       "470  (40.0, 1.118033988749895)   \n",
       "471                (38.0, 0.5)   \n",
       "472                (39.0, 0.5)   \n",
       "\n",
       "                                             spectra  \\\n",
       "0     SPEX-PRISM spectrum of 2MASS J16002535-2644060   \n",
       "1     SPEX-PRISM spectrum of 2MASS J17252029-0024508   \n",
       "2     SPEX-PRISM spectrum of 2MASS J01532750+3631482   \n",
       "3    SPEX-PRISM spectrum of WISE J141143.25-452418.3   \n",
       "4     SPEX-PRISM spectrum of 2MASS J19445221-0831036   \n",
       "..                                               ...   \n",
       "468                                    anon spectrum   \n",
       "469                                    anon spectrum   \n",
       "470                                    anon spectrum   \n",
       "471                                    anon spectrum   \n",
       "472                                    anon spectrum   \n",
       "\n",
       "                                                  flux  \\\n",
       "0    [0.14796930171868541, 0.2202800894453492, 0.18...   \n",
       "1    [0.2026488, 0.21176024, 0.14136912, 0.1744545,...   \n",
       "2    [0.262997, 0.083194256, 0.0018768199, 0.188846...   \n",
       "3    [0.047006174738617144, 0.029903828404462842, 0...   \n",
       "4    [0.72692084, 0.796214, 0.33524805, 0.20888495,...   \n",
       "..                                                 ...   \n",
       "468  [0.14480140842713898, 0.2555566094667533, 0.02...   \n",
       "469  [-0.028605073417404, 0.09193320009847321, 0.03...   \n",
       "470  [0.20499606497574113, -0.01917406382090707, 0....   \n",
       "471  [0.0060223574250434534, 0.19378953958115452, 0...   \n",
       "472  [0.08295842706092023, 0.014015406339279354, 0....   \n",
       "\n",
       "                                                  wave  \\\n",
       "0    [0.644767, 0.647017, 0.649254, 0.651478, 0.653...   \n",
       "1    [0.65343547, 0.6556386, 0.657832, 0.6600167, 0...   \n",
       "2    [0.659306, 0.661485, 0.663657, 0.665823, 0.667...   \n",
       "3    [0.672901, 0.674304, 0.675708, 0.677112, 0.678...   \n",
       "4    [0.6577501, 0.6599351, 0.6621123, 0.6642827, 0...   \n",
       "..                                                 ...   \n",
       "468  [0.9023, 0.9047, 0.9071, 0.9095, 0.9119, 0.914...   \n",
       "469  [0.9023, 0.9047, 0.9071, 0.9095, 0.9119, 0.914...   \n",
       "470  [1.103, 1.10765, 1.1123, 1.11695, 1.1216, 1.12...   \n",
       "471  [0.9023, 0.9047, 0.9071, 0.9095, 0.9119, 0.914...   \n",
       "472  [0.9023, 0.9047, 0.9071, 0.9095, 0.9119, 0.914...   \n",
       "\n",
       "                                                 noise  \\\n",
       "0    [0.031097099998505927, 0.030408729387976677, 0...   \n",
       "1    [0.21779345, 0.1631624, 0.15613359, 0.14236833...   \n",
       "2    [0.13565567, 0.04431213, 0.108164705, 0.046629...   \n",
       "3    [0.05976125896151972, 0.0279308389362753, 0.04...   \n",
       "4    [0.18675224, 0.1783706, 0.15675668, 0.1564382,...   \n",
       "..                                                 ...   \n",
       "468  [0.15423606893882216, 0.15598094075150798, 0.1...   \n",
       "469  [0.12778993281270976, 0.12643779758855123, 0.1...   \n",
       "470  [0.1392494346119377, 0.1363349932262262, 0.114...   \n",
       "471  [0.08988898421660137, 0.09326306490293641, 0.0...   \n",
       "472  [0.04072491977031085, 0.04227359770915013, 0.0...   \n",
       "\n",
       "                  object_name  \n",
       "0     2MASS J16002535-2644060  \n",
       "1     2MASS J17252029-0024508  \n",
       "2     2MASS J01532750+3631482  \n",
       "3    WISE J141143.25-452418.3  \n",
       "4     2MASS J19445221-0831036  \n",
       "..                        ...  \n",
       "468                      None  \n",
       "469                      None  \n",
       "470                      None  \n",
       "471                      None  \n",
       "472                      None  \n",
       "\n",
       "[473 rows x 6 columns]"
      ]
     },
     "execution_count": 50,
     "metadata": {},
     "output_type": "execute_result"
    }
   ],
   "source": [
    "tpls"
   ]
  },
  {
   "cell_type": "code",
   "execution_count": 7,
   "metadata": {},
   "outputs": [
    {
     "ename": "NameError",
     "evalue": "name 'bhjk' is not defined",
     "output_type": "error",
     "traceback": [
      "\u001b[0;31m---------------------------------------------------------------------------\u001b[0m",
      "\u001b[0;31mNameError\u001b[0m                                 Traceback (most recent call last)",
      "Input \u001b[0;32mIn [7]\u001b[0m, in \u001b[0;36m<cell line: 1>\u001b[0;34m()\u001b[0m\n\u001b[0;32m----> 1\u001b[0m \u001b[43mbhjk\u001b[49m\n",
      "\u001b[0;31mNameError\u001b[0m: name 'bhjk' is not defined"
     ]
    }
   ],
   "source": [
    "bhjk"
   ]
  },
  {
   "cell_type": "code",
   "execution_count": null,
   "metadata": {},
   "outputs": [],
   "source": [
    "def is_na(flux):\n",
    "    return np.isnan(flux).all()\n",
    "\n",
    "def apply_wave_mask(flux):\n",
    "    try:\n",
    "        flux=np.array(flux)\n",
    "        flx= flux[wave_mask.values.flatten()]\n",
    "        cols= ['flux_{}'.format(idx) for idx in range(len(flx))]\n",
    "        return pd.Series(dict(zip(cols, flx)))\n",
    "    except:\n",
    "        return pd.Series({})\n",
    "\n",
    "    "
   ]
  },
  {
   "cell_type": "code",
   "execution_count": null,
   "metadata": {},
   "outputs": [],
   "source": [
    "# binr.difference_spectrum"
   ]
  },
  {
   "cell_type": "code",
   "execution_count": null,
   "metadata": {},
   "outputs": [],
   "source": [
    "binar_new= binr.system_interpolated_flux.apply(apply_wave_mask)\n",
    "binar_new['primary_type']= binr.primary_type\n",
    "binar_new['secondary_type']= binr.secondary_type\n",
    "binar_new['system_type']= binr.system_type\n",
    "binar_new['object_name']= ['binary{}'.format(x) for x in range(len(binr))]\n",
    "binar_new=binar_new.replace([np.inf, -np.inf], np.nan)\n"
   ]
  },
  {
   "cell_type": "code",
   "execution_count": null,
   "metadata": {},
   "outputs": [],
   "source": [
    "#noise\n",
    "binar_noise= binr.system_interpolated_noise.apply(apply_wave_mask)\n",
    "binar_noise['object_name']= ['binary{}'.format(x) for x in range(len(binr))]\n",
    "binar_noise=binar_noise.replace([np.inf, -np.inf], np.nan)\n"
   ]
  },
  {
   "cell_type": "code",
   "execution_count": null,
   "metadata": {},
   "outputs": [],
   "source": [
    "binar_diff= binr.difference_spectrum.apply(apply_wave_mask)\n",
    "binar_diff['object_name']= ['binary{}'.format(x) for x in range(len(binr))]\n",
    "binar_diff['object_name']= ['binary{}'.format(x) for x in range(len(binr))]"
   ]
  },
  {
   "cell_type": "code",
   "execution_count": null,
   "metadata": {},
   "outputs": [],
   "source": [
    "binar_noise=binar_noise.replace([np.inf, -np.inf], np.nan)\n",
    "binar_diff=binar_diff.replace([np.inf, -np.inf], np.nan)"
   ]
  },
  {
   "cell_type": "code",
   "execution_count": null,
   "metadata": {},
   "outputs": [],
   "source": [
    "flux_columns=[ 'flux_{}'.format(idx) for idx in range(441)]\n",
    "binar_diff[flux_columns]=binar_diff[flux_columns].apply(lambda x: np.abs(x))"
   ]
  },
  {
   "cell_type": "code",
   "execution_count": null,
   "metadata": {},
   "outputs": [],
   "source": [
    "def check_nan(x):\n",
    "    try:\n",
    "        return np.isnan(x[flux_columns]).any()\n",
    "    except:\n",
    "        return True\n",
    "    "
   ]
  },
  {
   "cell_type": "code",
   "execution_count": null,
   "metadata": {},
   "outputs": [],
   "source": [
    "nan_mask_diff= binar_diff.apply(check_nan, axis=1)\n",
    "nan_mask_noise= binar_noise.apply(check_nan, axis=1)\n",
    "nan_mask_flux= binar_new.apply(check_nan, axis=1)\n"
   ]
  },
  {
   "cell_type": "code",
   "execution_count": null,
   "metadata": {},
   "outputs": [],
   "source": [
    "nans_binaries=np.logical_or.reduce([nan_mask_flux,nan_mask_noise, nan_mask_diff] )"
   ]
  },
  {
   "cell_type": "code",
   "execution_count": null,
   "metadata": {},
   "outputs": [],
   "source": [
    "nans_binaries"
   ]
  },
  {
   "cell_type": "code",
   "execution_count": null,
   "metadata": {},
   "outputs": [],
   "source": [
    "#binar_diff.loc[nans_binaries]"
   ]
  },
  {
   "cell_type": "code",
   "execution_count": null,
   "metadata": {},
   "outputs": [],
   "source": [
    "#jhk"
   ]
  },
  {
   "cell_type": "code",
   "execution_count": null,
   "metadata": {},
   "outputs": [],
   "source": [
    "singles"
   ]
  },
  {
   "cell_type": "code",
   "execution_count": null,
   "metadata": {},
   "outputs": [],
   "source": [
    "singles_new= singles['system_interpolated_flux'].apply(apply_wave_mask)\n",
    "singles_new['spectral_type']=singles['spectral_type']\n",
    "singles_new['object_name']= singles['name']\n",
    "singles_new['spex_type']= singles['spex_type']\n",
    "singles_new['opt_type']= singles['opt_type']\n",
    "singles_new['obs_date']= singles['obs_date']"
   ]
  },
  {
   "cell_type": "code",
   "execution_count": null,
   "metadata": {},
   "outputs": [],
   "source": [
    "#noise\n",
    "singles_noise= singles['system_interpolated_noise'].apply(apply_wave_mask)\n",
    "singles_noise['spectral_type']=singles['spectral_type']\n",
    "singles_noise['object_name']= singles['name']\n",
    "singles_noise['spex_type']= singles['spex_type']\n",
    "singles_noise['opt_type']= singles['opt_type']\n",
    "singles_noise['obs_date']= singles['obs_date']"
   ]
  },
  {
   "cell_type": "code",
   "execution_count": null,
   "metadata": {},
   "outputs": [],
   "source": [
    "#difference\n",
    "singles_diff= singles['difference_spectrum'].apply(apply_wave_mask)\n",
    "singles_diff['spectral_type']=singles['spectral_type']\n",
    "singles_diff['object_name']= singles['name']\n",
    "singles_diff['spex_type']= singles['spex_type']\n",
    "singles_diff['opt_type']= singles['opt_type']\n",
    "singles_diff['obs_date']= singles['obs_date']"
   ]
  },
  {
   "cell_type": "code",
   "execution_count": null,
   "metadata": {},
   "outputs": [],
   "source": [
    "for g in singles_new[flux_columns].values:\n",
    "    plt.plot(np.log10(g), color='b', alpha=0.1)"
   ]
  },
  {
   "cell_type": "code",
   "execution_count": null,
   "metadata": {},
   "outputs": [],
   "source": [
    "singles_noise.dropna().spectral_type.apply(splat.typeToNum).plot(kind='hist')"
   ]
  },
  {
   "cell_type": "code",
   "execution_count": null,
   "metadata": {},
   "outputs": [],
   "source": [
    "singles_noise.spectral_type"
   ]
  },
  {
   "cell_type": "code",
   "execution_count": null,
   "metadata": {},
   "outputs": [],
   "source": [
    "#FILENAME='/volumes/LaCie/popsimsdata/spectral_templates_data_version_july15.h5'\n",
    "#binar_new.dropna().to_hdf(FILENAME, key='binaries_flux')\n",
    "#binar_noise.dropna().to_hdf(FILENAME,key='binaries_noise')\n",
    "#binar_diff.dropna().to_hdf(FILENAME,key='binaries_difference_spectrum')\n",
    "#wave_grid.to_hdf( FILENAME, key='wave_grid')\n",
    "#"
   ]
  },
  {
   "cell_type": "code",
   "execution_count": null,
   "metadata": {},
   "outputs": [],
   "source": [
    "FILENAME='/volumes/LaCie/popsimsdata/single_templates_flux_calibrated_version_july22.h5'\n",
    "singles_new.to_hdf(FILENAME, key='singles_flux')\n",
    "singles_noise.to_hdf(FILENAME,key='singles_noise')\n",
    "singles_diff.to_hdf(FILENAME,key='singles_difference_spectrum')"
   ]
  },
  {
   "cell_type": "code",
   "execution_count": null,
   "metadata": {},
   "outputs": [],
   "source": [
    "singles_diff"
   ]
  },
  {
   "cell_type": "code",
   "execution_count": null,
   "metadata": {},
   "outputs": [],
   "source": [
    "hjk"
   ]
  },
  {
   "cell_type": "code",
   "execution_count": null,
   "metadata": {},
   "outputs": [],
   "source": []
  },
  {
   "cell_type": "code",
   "execution_count": null,
   "metadata": {},
   "outputs": [],
   "source": [
    "tcollision=900\n",
    "dt= 1\n",
    "NSTARS=5000\n",
    "int(1.5*NSTARS/((tcollision/(dt))))"
   ]
  },
  {
   "cell_type": "code",
   "execution_count": null,
   "metadata": {},
   "outputs": [],
   "source": [
    "8*(900)"
   ]
  },
  {
   "cell_type": "code",
   "execution_count": null,
   "metadata": {},
   "outputs": [],
   "source": [
    "hj"
   ]
  },
  {
   "cell_type": "code",
   "execution_count": null,
   "metadata": {},
   "outputs": [],
   "source": [
    "binr=binr.dropna()"
   ]
  },
  {
   "cell_type": "code",
   "execution_count": null,
   "metadata": {},
   "outputs": [],
   "source": [
    "binr.head(5)"
   ]
  },
  {
   "cell_type": "code",
   "execution_count": null,
   "metadata": {},
   "outputs": [],
   "source": [
    "primary_spts=binr.primary_type.apply(lambda x:wisps.make_spt_number(x[0])).values\n",
    "sec_spts=binr.secondary_type.apply(lambda x: wisps.make_spt_number(x[0])).values\n",
    "system_spts=binr.system_type.apply(lambda x: wisps.make_spt_number(x[0])).values"
   ]
  },
  {
   "cell_type": "code",
   "execution_count": null,
   "metadata": {},
   "outputs": [],
   "source": [
    "def compute_median_system_type(prim, sec):\n",
    "    system=(np.nan, np.nan)\n",
    "    if prim <= 16:\n",
    "        system= (prim, 0.0)\n",
    "    if prim >= 16:\n",
    "        boolean=np.logical_and(primary_spts == prim, sec_spts==sec)\n",
    "        system= (np.nanmedian(system_spts[boolean]), np.nanstd(system_spts[boolean]))\n",
    "    return system"
   ]
  },
  {
   "cell_type": "code",
   "execution_count": null,
   "metadata": {},
   "outputs": [],
   "source": [
    "from itertools import combinations\n",
    "grid= np.arange(10, 43)\n",
    "combs= np.vstack([(x,y) for x, y in  combinations(grid, 2)])\n",
    "\n",
    "df=pd.DataFrame()\n",
    "df['prim']=combs[:,0]\n",
    "df['sec']=combs[:,1]\n",
    "df['sys']=np.nan\n",
    "df['sys_unc']=np.nan"
   ]
  },
  {
   "cell_type": "code",
   "execution_count": null,
   "metadata": {},
   "outputs": [],
   "source": [
    "spgrid=np.arange(10, 43)\n",
    "for idx, row in df.iterrows():\n",
    "    vals=compute_median_system_type(row.prim, row.sec)\n",
    "    df.loc[idx, 'sys']=vals[0]\n",
    "    df.loc[idx,'sys_unc']=vals[1]"
   ]
  },
  {
   "cell_type": "code",
   "execution_count": null,
   "metadata": {},
   "outputs": [],
   "source": [
    "df.dropna()"
   ]
  },
  {
   "cell_type": "code",
   "execution_count": null,
   "metadata": {},
   "outputs": [],
   "source": [
    "df.dropna().to_csv('../data/binary_lookup_table_spex_small.csv')"
   ]
  },
  {
   "cell_type": "code",
   "execution_count": null,
   "metadata": {},
   "outputs": [],
   "source": []
  },
  {
   "cell_type": "code",
   "execution_count": null,
   "metadata": {},
   "outputs": [],
   "source": [
    "import splat"
   ]
  },
  {
   "cell_type": "code",
   "execution_count": null,
   "metadata": {},
   "outputs": [],
   "source": [
    "splat.initializeStandards()"
   ]
  },
  {
   "cell_type": "code",
   "execution_count": null,
   "metadata": {},
   "outputs": [],
   "source": [
    "s=splat.STDS_DWARF_SPEX['M9.0']\n",
    "#s2=splat.getSpectrum(lucky=True)[0]\n",
    "s2=splat.Spectrum(wave=[], flux=[], noise=[])"
   ]
  },
  {
   "cell_type": "code",
   "execution_count": null,
   "metadata": {},
   "outputs": [],
   "source": [
    "sfake= splat.Spectrum(wave=np.linspace(1.0, 2.0, 1000),\n",
    "                     flux= np.ones(1000))\n",
    "sfake.plot()"
   ]
  },
  {
   "cell_type": "code",
   "execution_count": null,
   "metadata": {},
   "outputs": [],
   "source": [
    "chisq, scl=splat.compareSpectra(s, sfake, plot=True)"
   ]
  },
  {
   "cell_type": "code",
   "execution_count": null,
   "metadata": {},
   "outputs": [],
   "source": [
    "(s-sfake).wave"
   ]
  },
  {
   "cell_type": "code",
   "execution_count": null,
   "metadata": {},
   "outputs": [],
   "source": [
    "chisq, scl=splat.compareSpectra(s, s2, plot=True)\n",
    "s2.scale(scl)"
   ]
  },
  {
   "cell_type": "code",
   "execution_count": null,
   "metadata": {},
   "outputs": [],
   "source": [
    "sdiff=(s-s2)"
   ]
  },
  {
   "cell_type": "code",
   "execution_count": null,
   "metadata": {},
   "outputs": [],
   "source": [
    "sdiff.normalize([1.2, 1.3])"
   ]
  },
  {
   "cell_type": "code",
   "execution_count": null,
   "metadata": {},
   "outputs": [],
   "source": []
  }
 ],
 "metadata": {
  "kernelspec": {
   "display_name": "Python 3 (ipykernel)",
   "language": "python",
   "name": "python3"
  },
  "language_info": {
   "codemirror_mode": {
    "name": "ipython",
    "version": 3
   },
   "file_extension": ".py",
   "mimetype": "text/x-python",
   "name": "python",
   "nbconvert_exporter": "python",
   "pygments_lexer": "ipython3",
   "version": "3.9.7"
  }
 },
 "nbformat": 4,
 "nbformat_minor": 4
}
