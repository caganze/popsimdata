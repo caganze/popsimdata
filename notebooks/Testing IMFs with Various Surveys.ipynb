{
 "cells": [
  {
   "cell_type": "code",
   "execution_count": 1,
   "id": "2006ee20",
   "metadata": {},
   "outputs": [],
   "source": [
    "#imports \n",
    "import numpy as np\n",
    "import pandas as pd\n",
    "import matplotlib.pyplot as plt\n",
    "import seaborn as sns\n",
    "from astropy.coordinates import SkyCoord, ICRS\n",
    "import astropy.units as u\n",
    "%matplotlib inline\n",
    "\n",
    "import popsims\n",
    "from popsims.simulator import Population, pop_mags#, compute_vols_and_numbers, simulate_population\n",
    "from popsims.galaxy import Disk, Halo\n",
    "from popsims.core_tools import sample_from_powerlaw\n",
    "from popsims.plot_style import  plot_style\n",
    "#plt.style.use('fivethirtyeight')\n",
    "import warnings\n",
    "\n",
    "warnings.filterwarnings(\"ignore\", category=RuntimeWarning) \n",
    "\n",
    "plot_style()\n",
    "\n",
    "#plt.style.use('dark_background')"
   ]
  },
  {
   "cell_type": "code",
   "execution_count": 2,
   "id": "7b17ece7",
   "metadata": {},
   "outputs": [],
   "source": [
    "#roman deep field in the Fornax constellation\n",
    "#https://hubblesite.org/contents/media/images/2021/003/01EX00FCXRZ7YVP4MPMAT1PW2X?news=true\n",
    "#l=-27° 47' 29.04\"\n",
    "#03h 32m 38.99s\n",
    "l= 2*np.pi*np.random.uniform(0, 1, 100)*u.radian\n",
    "b= (np.arccos(2*np.random.uniform(0, 1, 100)-1)-np.pi/2)*u.radian\n",
    "\n",
    "#coords=SkyCoord([SkyCoord(l=\"-27° 47' 29.04\", b='03h 32m 38.99s', frame='galactic' ),\n",
    "#          SkyCoord(l=\"-45° 47' 29.04\", b='00h 32m 38.99s', frame='galactic' )]).transform_to(ICRS)\n",
    "\n",
    "coords=SkyCoord(l=l, b=b, frame='galactic' ).transform_to(ICRS)"
   ]
  },
  {
   "cell_type": "code",
   "execution_count": 3,
   "id": "9425dc59",
   "metadata": {},
   "outputs": [],
   "source": [
    "#compute magnitudes from distances\n",
    "#assign roman magnitudes\n",
    "roman_keys=['WFI_R062', 'WFI_Z087', 'WFI_Y106', 'WFI_J129', 'WFI_H158', 'WFI_F184', 'WFI_Prism', 'WFI_Grism']\n",
    "jwst_keys=[ 'NIRISS_F115W']\n",
    "euclid_keys=['EUCLID_Y', 'EUCLID_J', 'EUCLID_H']\n",
    "\n",
    "all_keys=np.concatenate([roman_keys, jwst_keys, euclid_keys])\n",
    "\n",
    "footprint = SkyCoord(l=np.random.uniform(-np.pi, np.pi, 10)*u.rad, \n",
    "                     b= np.random.uniform(-np.pi/2, np.pi/2, 10)*u.rad, frame='galactic' )"
   ]
  },
  {
   "cell_type": "code",
   "execution_count": 4,
   "id": "a91b83de",
   "metadata": {},
   "outputs": [],
   "source": [
    "def compute_vols_and_numbers(df, gmodel, sptgrid, footprint, maglimits):\n",
    "    from popsims.abs_mag_relations import POLYNOMIALS\n",
    "    counts={}\n",
    "    vols={}\n",
    "    dists={}\n",
    "\n",
    "    for spt in sptgrid:\n",
    "        \n",
    "        dmins=[]\n",
    "        dmaxs=[]\n",
    "        \n",
    "        dmins_sd=[]\n",
    "        dmaxs_sd=[]\n",
    "        \n",
    "        for k in maglimits.keys():\n",
    "            mag_cut= maglimits[k]\n",
    "            absmag= np.poly1d(POLYNOMIALS['absmags_spt']['dwarfs'][k]['fit'])(spt)\n",
    "            \n",
    "            #absmag_sd= np.poly1d(POLYNOMIALS['absmags_spt']['subdwarfs'][k]['fit'])(spt)\n",
    "        \n",
    "            mag_cut= maglimits[k]\n",
    "            \n",
    "            dmin=10.**(-(absmag-mag_cut[0])/5. + 1.)\n",
    "            dmax=10.**(-(absmag-mag_cut[1])/5. + 1.)\n",
    "            \n",
    "            #dmin_sd=10.**(-(absmag_sd-14)/5. + 1.)\n",
    "            #dmax_sd=10.**(-(absmag_sd-mag_cut)/5. + 1.)\n",
    "        \n",
    "            \n",
    "            dmins.append(dmin)\n",
    "            dmaxs.append(dmax)\n",
    "            \n",
    "            #dmins_sd.append(dmin)\n",
    "            #dmaxs_sd.append(dmax)\n",
    "            \n",
    "        dmin=np.nanmedian(dmins)\n",
    "        dmax=np.nanmedian(dmaxs)\n",
    "        \n",
    "        #dmin_sd=np.nanmedian(dmins_sd)\n",
    "        #dmax_sd=np.nanmedian(dmaxs_sd)\n",
    "        \n",
    "        #print (spt, dmin, dmax)\n",
    "        \n",
    "        scale=[df.scale.mean(), df.scale_unc.mean(), df.scale_times_model.mean()]\n",
    "        \n",
    "        sn= len(df)\n",
    "        #sn= len(df.query('population == \"thin disk\"'))\n",
    "        #snt= len(df.query('population == \"thick disk\"'))\n",
    "        #snh= len(df.query('population == \"halo\"'))\n",
    "      \n",
    "        sn_c= len(df.query('spt < {}'.format(spt, spt+0.9)))\n",
    "        #snt_c= len(df.query('population == \"thick disk\" and spt >= {} and spt < {}'.format(spt, spt+0.9)))\n",
    "        #snh_c= len(df.query('population == \"halo\" and spt >= {} and spt < {}'.format(spt, spt+0.9)))\n",
    "        \n",
    "        \n",
    "        volumes={'volume': 0.0}\n",
    "        \n",
    "        cnts={'number':  sn_c*np.divide(scale[-1], sn)}\n",
    "        for s in  footprint:\n",
    "            l=s.galactic.l.radian\n",
    "            b=s.galactic.b.radian\n",
    "            volumes['volume'] += gmodel.volume(l, b, dmin, dmax)/len(footprint)\n",
    "            #volumes['thick'] += tdisk.volume(l, b, dmin, dmax)/len(footprint)\n",
    "            #volumes['halo'] += halo.volume(l, b, dmin, dmax)/len(footprint)\n",
    "            \n",
    "        vols.update({spt: volumes})\n",
    "        counts.update({spt: cnts})\n",
    "        dists.update({spt: dmax})\n",
    "        \n",
    "        \n",
    "    return pd.DataFrame.from_records(vols).T.replace(np.inf, np.nan),\\\n",
    "    pd.DataFrame.from_records(counts).T.replace(np.inf, np.nan),\\\n",
    "    dists\n"
   ]
  },
  {
   "cell_type": "code",
   "execution_count": 5,
   "id": "2cc4c8b8",
   "metadata": {},
   "outputs": [],
   "source": [
    "#kirkpatrick\n",
    "p1=Population(evolmodel= 'burrows1997',\n",
    "              imf_power=-0.6,\n",
    "              binary_fraction=0.2,\n",
    "              age_range=[8, 14],\n",
    "              mass_range=[0.01, .1],\n",
    "             nsample=1e6)\n",
    "    \n",
    "p1.simulate()\n",
    "\n",
    "p1.add_distances(Halo(), footprint.l.radian,footprint.b.radian, 0.1,  50_000, dsteps=5000)\n",
    "\n",
    "#add magnitudes from pre-defined filters or pre-define polynomial cofficients\n",
    "p1.add_magnitudes(jwst_keys, get_from='spt',object_type='dwarfs')"
   ]
  },
  {
   "cell_type": "code",
   "execution_count": 6,
   "id": "6e14f2d3",
   "metadata": {},
   "outputs": [],
   "source": [
    "#kirkpatrick\n",
    "p2=Population(evolmodel= 'burrows1997',\n",
    "              imf_power=0,\n",
    "              binary_fraction=0.2,\n",
    "              age_range=[8, 14],\n",
    "              mass_range=[0.01, .1],\n",
    "             nsample=1e6)\n",
    "    \n",
    "p2.simulate()\n",
    "p2.add_distances(Halo(), footprint.l.radian,footprint.b.radian, 0.1,  50_000, dsteps=5000)\n",
    "\n",
    "#add magnitudes from pre-defined filters or pre-define polynomial cofficients\n",
    "p2.add_magnitudes(jwst_keys, get_from='spt',object_type='dwarfs')"
   ]
  },
  {
   "cell_type": "code",
   "execution_count": 98,
   "id": "8d30b8a4",
   "metadata": {},
   "outputs": [],
   "source": [
    "#kirkpatrick\n",
    "p3=Population(evolmodel= 'burrows1997',\n",
    "              imf_power=-2.35,\n",
    "              binary_fraction=0.2,\n",
    "              age_range=[8, 14],\n",
    "              mass_range=[0.01, .1],\n",
    "             nsample=1e6)\n",
    "    \n",
    "p3.simulate()\n",
    "\n",
    "p3.add_distances(Halo(), footprint.l.radian,footprint.b.radian, 0.1,  50_000, dsteps=5000)\n",
    "\n",
    "#add magnitudes from pre-defined filters or pre-define polynomial cofficients\n",
    "p3.add_magnitudes(jwst_keys, get_from='spt',object_type='dwarfs')"
   ]
  },
  {
   "cell_type": "code",
   "execution_count": 99,
   "id": "ac1535ea",
   "metadata": {},
   "outputs": [],
   "source": [
    "cols=['spt', 'abs_NIRISS_F115W','NIRISS_F115W', 'scale','scale_unc','scale_times_model','l','b','distance']"
   ]
  },
  {
   "cell_type": "code",
   "execution_count": 100,
   "id": "196f2897",
   "metadata": {},
   "outputs": [],
   "source": [
    "df2=p2.to_dataframe(cols)\n",
    "df1=p1.to_dataframe(cols)\n",
    "df3=p3.to_dataframe(cols)"
   ]
  },
  {
   "cell_type": "code",
   "execution_count": 101,
   "id": "028378b0",
   "metadata": {},
   "outputs": [],
   "source": [
    "maglimits={'NIRISS_F115W': [10, 27.]}\n",
    "sptgrid=np.arange(20, 40)"
   ]
  },
  {
   "cell_type": "code",
   "execution_count": 102,
   "id": "f101b344",
   "metadata": {},
   "outputs": [],
   "source": [
    "n2=compute_vols_and_numbers(df2, Halo(), sptgrid, footprint, maglimits)\n",
    "n1=compute_vols_and_numbers(df1, Halo(), sptgrid, footprint, maglimits)\n",
    "n3=compute_vols_and_numbers(df3, Halo(), sptgrid, footprint, maglimits)"
   ]
  },
  {
   "cell_type": "code",
   "execution_count": 106,
   "id": "58ce4589",
   "metadata": {},
   "outputs": [],
   "source": [
    "areas=(np.arange(1, 1000)*u.arcmin**2).to(u.radian**2)\n",
    "counts1=np.nansum(np.array([n1[1].number.loc[x]*n1[0].volume.loc[x]*areas.value for x in sptgrid]), axis=0)/400\n",
    "counts2=np.nansum(np.array([n2[1].number.loc[x]*n2[0].volume.loc[x]*areas.value for x in sptgrid]), axis=0)/400\n",
    "counts3=np.nansum(np.array([n3[1].number.loc[x]*n3[0].volume.loc[x]*areas.value for x in sptgrid]), axis=0)/400"
   ]
  },
  {
   "cell_type": "code",
   "execution_count": 113,
   "id": "b4fbb234",
   "metadata": {},
   "outputs": [],
   "source": [
    "surveys={'PASSAGES': (124*4*u.arcmin**2).to(u.degree**2).value,\n",
    "        'JADES': (200*u.arcmin**2).to(u.degree**2).value,\n",
    "        'CEERS':(10*4*u.arcmin**2).to(u.degree**2).value,\n",
    "        #'GLASS':(18*u.arcmin**2).to(u.degree**2).value}\n",
    "        }"
   ]
  },
  {
   "cell_type": "code",
   "execution_count": 151,
   "id": "8f3188b6",
   "metadata": {},
   "outputs": [
    {
     "data": {
      "image/png": "[encoded data removed]",
      "text/plain": [
       "<Figure size 336x448 with 1 Axes>"
      ]
     },
     "metadata": {},
     "output_type": "display_data"
    }
   ],
   "source": [
    "fig, ax=plt.subplots(figsize=(6*0.7, 8*0.7))\n",
    "ax.plot(areas.to(u.degree**2).value, counts1, linewidth=3,  label='Field IMF')\n",
    "ax.fill_between(areas.to(u.degree**2).value, counts1-counts1**0.5, counts1+counts1**0.5, alpha=0.2)\n",
    "\n",
    "ax.plot(areas.to(u.degree**2).value, counts2, linewidth=3, label='Constant IMF')\n",
    "ax.fill_between(areas.to(u.degree**2).value, counts2-counts2**0.5, counts2+counts2**0.5, alpha=0.2)\n",
    "\n",
    "ax.plot(areas.to(u.degree**2).value, counts3, linewidth=3, label='Salpeter IMF')\n",
    "ax.fill_between(areas.to(u.degree**2).value, counts3-counts3**0.5, counts3+counts3**0.5, alpha=0.2)\n",
    "\n",
    "for k in surveys.keys():\n",
    "    ax.axvline(surveys[k], linestyle='--', color='k', alpha=0.3)\n",
    "    ax.text(surveys[k]-0.02, 5e3-np.random.uniform(0, 5e3*0.6), k ,c='k', fontsize=14)\n",
    "ax.minorticks_on()\n",
    "ax.legend()\n",
    "ax.set(yscale='log', xlabel='Survey Area (Sq.Degree)', ylabel='Counts of Halo UCDs at J=29 Depth', \n",
    "      ylim=[1, 1e4])\n",
    "plt.tight_layout()\n",
    "plt.savefig('../figures/jwst_preds_imfs.pdf')"
   ]
  },
  {
   "cell_type": "code",
   "execution_count": null,
   "id": "6778be91",
   "metadata": {},
   "outputs": [],
   "source": []
  },
  {
   "cell_type": "code",
   "execution_count": 10,
   "id": "2b2472ea",
   "metadata": {},
   "outputs": [
    {
     "ename": "NameError",
     "evalue": "name 'jjh' is not defined",
     "output_type": "error",
     "traceback": [
      "\u001b[0;31m---------------------------------------------------------------------------\u001b[0m",
      "\u001b[0;31mNameError\u001b[0m                                 Traceback (most recent call last)",
      "\u001b[0;32m/var/folders/p5/jqfspzln0z965dsfd1pj_5900000gp/T/ipykernel_19885/38623316.py\u001b[0m in \u001b[0;36m<module>\u001b[0;34m\u001b[0m\n\u001b[0;32m----> 1\u001b[0;31m \u001b[0mjjh\u001b[0m\u001b[0;34m\u001b[0m\u001b[0;34m\u001b[0m\u001b[0m\n\u001b[0m",
      "\u001b[0;31mNameError\u001b[0m: name 'jjh' is not defined"
     ]
    }
   ],
   "source": [
    "jjh"
   ]
  },
  {
   "cell_type": "code",
   "execution_count": null,
   "id": "1630107b",
   "metadata": {},
   "outputs": [],
   "source": [
    "#draw masses from a power-law IMF and uniform ages\n",
    "#define a galaxy density model and draw distances in a given direction\n",
    "disk= Disk(H=300, L=2600)\n",
    "tdisk=Disk(H=900, L=3600)\n",
    "halo= Halo()\n",
    "\n",
    "df0=simulate_full_pop(-1, 10,50_000, all_keys, nsample=1e6)\n",
    "df1=simulate_full_pop(-0.5, 10,50_000, all_keys, nsample=1e6)\n",
    "df2=simulate_full_pop(0, 10,50_000, all_keys, nsample=1e6)"
   ]
  },
  {
   "cell_type": "code",
   "execution_count": null,
   "id": "fd3fe072",
   "metadata": {},
   "outputs": [],
   "source": [
    "sptgrid=np.arange(15, 40)\n",
    "maglimits_roman={'WFI_J129': [10, 26.2]}\n",
    "maglimits_jwst={'NIRISS_F115W': [10, 27]}\n",
    "maglimits_euclid={'NIRISS_F115W': [10, 27]}\n",
    "maglimits_lss={''}"
   ]
  },
  {
   "cell_type": "code",
   "execution_count": null,
   "id": "b4b2dada",
   "metadata": {},
   "outputs": [],
   "source": [
    "def compute_numbers(df0, cuts):\n",
    "    query=''\n",
    "    for k in cuts.keys():\n",
    "        query += k+'<='+str(cuts[k][1])\n",
    "    \n",
    "    print (query)\n",
    "    df= df0.query(query).reset_index(drop=True)\n",
    "    ns= compute_vols_and_numbers(df, disk, tdisk, halo, sptgrid,coords, cuts)\n",
    "    return ns"
   ]
  },
  {
   "cell_type": "code",
   "execution_count": null,
   "id": "6fcdb0e4",
   "metadata": {},
   "outputs": [],
   "source": [
    "ns_roman0= compute_numbers(df0, maglimits_roman)\n",
    "ns_roman1=compute_numbers(df1, maglimits_roman)\n",
    "ns_roman2=compute_numbers(df2, maglimits_roman)"
   ]
  },
  {
   "cell_type": "code",
   "execution_count": null,
   "id": "28e3e580",
   "metadata": {},
   "outputs": [],
   "source": [
    "ns_jwst0= compute_numbers(df0, maglimits_jwst)\n",
    "ns_jwst1=compute_numbers(df1, maglimits_jwst)\n",
    "ns_jwst2=compute_numbers(df2, maglimits_jwst)"
   ]
  },
  {
   "cell_type": "code",
   "execution_count": null,
   "id": "a3d72954",
   "metadata": {},
   "outputs": [],
   "source": [
    "ns_euc0= compute_numbers(df0, maglimits_euclid)\n",
    "ns_euc1=compute_numbers(df1, maglimits_euclid)\n",
    "ns_euc2=compute_numbers(df2, maglimits_euclid)"
   ]
  },
  {
   "cell_type": "code",
   "execution_count": null,
   "id": "9c742a95",
   "metadata": {},
   "outputs": [],
   "source": [
    "AREA_JWST=124*(4*(u.arcmin**2)).to(u.radian**2)\n",
    "AREA_ROMAN=(2_000*(u.degree**2)).to(u.radian**2)"
   ]
  },
  {
   "cell_type": "code",
   "execution_count": null,
   "id": "42db5c89",
   "metadata": {},
   "outputs": [],
   "source": []
  },
  {
   "cell_type": "code",
   "execution_count": null,
   "id": "cc8b2b01",
   "metadata": {},
   "outputs": [],
   "source": [
    "fig, ax=plt.subplots(figsize=(7, 7),sharey=True)\n",
    "\n",
    "ax.step(ns_roman1[0].index, ns_roman1[0].thin*ns_roman1[1].thin*AREA_ROMAN,\\\n",
    "        color='#FFFFFF',  linestyle='-', label='Thin Disk', linewidth=3)\n",
    "\n",
    "ax.step(ns_roman1[0].index, 0.12*ns_roman1[0].thick*ns_roman1[1].thick*AREA_ROMAN,\\\n",
    "         color='#FFFFFF',  linestyle='dashed', label='Thick Disk',  linewidth=3)\n",
    "\n",
    "ax.step(ns_roman1[0].index, (1/400)*ns_roman1[0].halo*ns_roman1[1].halo*AREA_ROMAN,\\\n",
    "           color='#FFFFFF', linestyle='dotted', label='Halo',  linewidth=3)\n",
    "\n",
    "ax.set(yscale='log', ylabel=r'Number Counts', xlabel='Spectral Type', \\\n",
    "       xticks=[17, 20, 30, 40], xticklabels=['M7', 'L0', 'T0', 'Y0'])\n",
    "\n",
    "ax.minorticks_on()\n",
    "\n",
    "ax.legend(fontsize=12)"
   ]
  },
  {
   "cell_type": "code",
   "execution_count": null,
   "id": "0a6629d1",
   "metadata": {},
   "outputs": [],
   "source": [
    "fig, ax=plt.subplots(figsize=(6, 7),sharey=True)\n",
    "\n",
    "ax.step(ns_jwst1[0].index, ns_jwst1[0].thin*ns_roman1[1].thin*AREA_JWST,\\\n",
    "        color='#7FDBFF',  linestyle='-', label='Thin Disk', linewidth=3)\n",
    "\n",
    "ax.step(ns_jwst1[0].index, 0.12*ns_jwst1[0].thick*ns_jwst1[1].thick*AREA_JWST,\\\n",
    "         color='#01FF70',  linestyle='dashed', label='Thick Disk',  linewidth=3)\n",
    "\n",
    "ax.step(ns_jwst1[0].index, (1/400)*ns_jwst1[0].halo*ns_jwst1[1].halo*AREA_JWST,\\\n",
    "           color='#FF851B', linestyle='dotted', label='Halo',  linewidth=3)\n",
    "\n",
    "ax.set(yscale='log', ylabel=r'Number Counts', xlabel='Spectral Type', \\\n",
    "       xticks=[17, 20, 30, 40], xticklabels=['M7', 'L0', 'T0', 'Y0'])\n",
    "\n",
    "ax.minorticks_on()\n",
    "\n",
    "ax.legend(fontsize=12)\n",
    "plt.savefig('/users/caganze/jwst_preds.pdf')"
   ]
  },
  {
   "cell_type": "code",
   "execution_count": null,
   "id": "a7adaa5e",
   "metadata": {},
   "outputs": [],
   "source": [
    "np.nansum(ns_jwst1[0].halo*ns_roman1[1].halo*AREA_JWST.value)/400"
   ]
  },
  {
   "cell_type": "code",
   "execution_count": null,
   "id": "156176e9",
   "metadata": {},
   "outputs": [],
   "source": [
    "ns_jwst1[0].halo*ns_roman1[1].halo*AREA_JWST.value"
   ]
  },
  {
   "cell_type": "code",
   "execution_count": null,
   "id": "c1f1dded",
   "metadata": {},
   "outputs": [],
   "source": [
    "0.149*124*4"
   ]
  },
  {
   "cell_type": "code",
   "execution_count": null,
   "id": "ac08eff0",
   "metadata": {},
   "outputs": [],
   "source": [
    "124*(4*(u.arcmin**2))"
   ]
  },
  {
   "cell_type": "code",
   "execution_count": null,
   "id": "e00d3dc5",
   "metadata": {},
   "outputs": [],
   "source": [
    "662.95+175"
   ]
  },
  {
   "cell_type": "code",
   "execution_count": null,
   "id": "92e641a5",
   "metadata": {},
   "outputs": [],
   "source": [
    "import itertools\n",
    "import astropy.units as u\n",
    "import numpy as np\n",
    "ds=[770, 1000]\n",
    "bws=[0.1, 0.7]\n"
   ]
  },
  {
   "cell_type": "code",
   "execution_count": null,
   "id": "3ab81d7d",
   "metadata": {},
   "outputs": [],
   "source": [
    "iterables"
   ]
  },
  {
   "cell_type": "code",
   "execution_count": null,
   "id": "f700efa3",
   "metadata": {},
   "outputs": [],
   "source": [
    "def fx(x, y):\n",
    "    return x>y"
   ]
  },
  {
   "cell_type": "code",
   "execution_count": null,
   "id": "7ed1e46a",
   "metadata": {},
   "outputs": [],
   "source": [
    "fx(*iterables[0])"
   ]
  },
  {
   "cell_type": "code",
   "execution_count": null,
   "id": "2e844b58",
   "metadata": {},
   "outputs": [],
   "source": [
    "from concurrent.futures import ThreadPoolExecutor, wait , ALL_COMPLETED\n",
    "from  functools import partial\n",
    "\n",
    "iterables=list(np.array([(x, y) for x, y in np.array(list(itertools.product(ds, bws)))]).T)\n",
    "method=partial(fx)\n",
    "with ThreadPoolExecutor(max_workers=10) as executor:\n",
    "    futures=list(executor.map( method, *iterables, timeout=None, chunksize=10))\n"
   ]
  },
  {
   "cell_type": "code",
   "execution_count": null,
   "id": "b0adacf7",
   "metadata": {},
   "outputs": [],
   "source": [
    "[x for x in futures]"
   ]
  },
  {
   "cell_type": "code",
   "execution_count": null,
   "id": "f7c7c9f6",
   "metadata": {},
   "outputs": [],
   "source": []
  }
 ],
 "metadata": {
  "kernelspec": {
   "display_name": "Python 3 (ipykernel)",
   "language": "python",
   "name": "python3"
  },
  "language_info": {
   "codemirror_mode": {
    "name": "ipython",
    "version": 3
   },
   "file_extension": ".py",
   "mimetype": "text/x-python",
   "name": "python",
   "nbconvert_exporter": "python",
   "pygments_lexer": "ipython3",
   "version": "3.9.13"
  }
 },
 "nbformat": 4,
 "nbformat_minor": 5
}
