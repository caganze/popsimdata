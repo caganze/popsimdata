{
 "cells": [
  {
   "cell_type": "code",
   "execution_count": 56,
   "id": "2006ee20",
   "metadata": {},
   "outputs": [],
   "source": [
    "#imports \n",
    "import numpy as np\n",
    "import pandas as pd\n",
    "import matplotlib.pyplot as plt\n",
    "import seaborn as sns\n",
    "from astropy.coordinates import SkyCoord, ICRS\n",
    "import astropy.units as u\n",
    "%matplotlib inline\n",
    "\n",
    "import popsims\n",
    "from popsims.simulator import Population, pop_mags, compute_vols_and_numbers, simulate_population\n",
    "from popsims.galaxy import Disk, Halo\n",
    "from popsims.tools import sample_from_powerlaw\n",
    "from popsims.plot_style import  plot_style\n",
    "#plt.style.use('fivethirtyeight')\n",
    "import warnings\n",
    "\n",
    "warnings.filterwarnings(\"ignore\", category=RuntimeWarning) \n",
    "\n",
    "plot_style()\n",
    "\n",
    "plt.style.use('dark_background')"
   ]
  },
  {
   "cell_type": "code",
   "execution_count": 2,
   "id": "7b17ece7",
   "metadata": {},
   "outputs": [],
   "source": [
    "#roman deep field in the Fornax constellation\n",
    "#https://hubblesite.org/contents/media/images/2021/003/01EX00FCXRZ7YVP4MPMAT1PW2X?news=true\n",
    "#l=-27° 47' 29.04\"\n",
    "#03h 32m 38.99s\n",
    "l= 2*np.pi*np.random.uniform(0, 1, 100)*u.radian\n",
    "b= (np.arccos(2*np.random.uniform(0, 1, 100)-1)-np.pi/2)*u.radian\n",
    "\n",
    "#coords=SkyCoord([SkyCoord(l=\"-27° 47' 29.04\", b='03h 32m 38.99s', frame='galactic' ),\n",
    "#          SkyCoord(l=\"-45° 47' 29.04\", b='00h 32m 38.99s', frame='galactic' )]).transform_to(ICRS)\n",
    "\n",
    "coords=SkyCoord(l=l, b=b, frame='galactic' ).transform_to(ICRS)"
   ]
  },
  {
   "cell_type": "code",
   "execution_count": 3,
   "id": "b857610f",
   "metadata": {},
   "outputs": [],
   "source": [
    "def simulate_full_pop(imf_power, dmin, dmax, roman_keys, nsample=1e6):\n",
    "    df_thin=simulate_population(disk, coords, dmin, dmax, nsample=nsample, poptype='dwarfs', galtype='thin_disk', age_range=[0.01, 8], \\\n",
    "                        mass_range=[0.01, 0.1], mag_keys=roman_keys, evolmodel='burrows1997', popargs={'imf_power': imf_power},\n",
    "                        get_from='spt', dsteps=10_000)\n",
    "    \n",
    "    df_thick=simulate_population(disk, coords, dmin, dmax, nsample=nsample, poptype='dwarfs', galtype='thick_disk', age_range=[8, 14], \\\n",
    "                        mass_range=[0.01, 0.1], mag_keys=roman_keys, evolmodel='burrows1997', popargs={'imf_power': imf_power},\n",
    "                        get_from='spt', dsteps=10_000)\n",
    "    \n",
    "    df_halo=simulate_population(disk, coords, dmin, dmax, nsample=nsample, poptype='dwarfs', galtype='halo', age_range=[10, 14], \\\n",
    "                        mass_range=[0.01, 0.1], mag_keys=roman_keys, evolmodel='burrows1997',popargs={'imf_power': imf_power},\n",
    "                        get_from='spt', dsteps=10_000)\n",
    "    \n",
    "    df_thin['population']='thin disk'\n",
    "    df_thick['population']='thick disk'\n",
    "    df_halo['population']='halo'\n",
    "    #combine \n",
    "    df_final=pd.concat([df_thin.sample(int(nsample), replace=True),\n",
    "                        df_thick.sample(int(0.12*nsample), replace=True),\n",
    "                        df_halo.sample(int(0.0025*nsample), replace=True)]).reset_index(drop=True)\n",
    "                        \n",
    "    \n",
    "    return df_final"
   ]
  },
  {
   "cell_type": "code",
   "execution_count": 4,
   "id": "6e14f2d3",
   "metadata": {},
   "outputs": [],
   "source": [
    "#compute magnitudes from distances\n",
    "#assign roman magnitudes\n",
    "roman_keys=['WFI_R062', 'WFI_Z087', 'WFI_Y106', 'WFI_J129', 'WFI_H158', 'WFI_F184', 'WFI_Prism', 'WFI_Grism']\n",
    "jwst_keys=['NIRISS_F090W', 'NIRISS_F115W', 'NIRISS_F150W', 'NIRISS_F200W']\n",
    "euclid_keys=['EUCLID_Y', 'EUCLID_J', 'EUCLID_H']\n",
    "\n",
    "all_keys=np.concatenate([roman_keys, jwst_keys, euclid_keys])"
   ]
  },
  {
   "cell_type": "code",
   "execution_count": 5,
   "id": "1630107b",
   "metadata": {},
   "outputs": [
    {
     "name": "stderr",
     "output_type": "stream",
     "text": [
      "100%|█████████████████████████████████████████| 100/100 [06:29<00:00,  3.90s/it]\n"
     ]
    },
    {
     "name": "stdout",
     "output_type": "stream",
     "text": [
      "/Users/caganze/opt/anaconda3/lib/python3.9/site-packages/astropy/coordinates/baseframe.py:1210: AstropyDeprecationWarning: Transforming a frame instance to a frame class (as opposed to another frame instance) will not be supported in the future.  Either explicitly instantiate the target frame, or first convert the source frame instance to a `astropy.coordinates.SkyCoord` and use its `transform_to()` method.\n",
      "  warnings.warn(\"Transforming a frame instance to a frame class (as opposed to another \"\n",
      "\n"
     ]
    },
    {
     "name": "stderr",
     "output_type": "stream",
     "text": [
      "100%|█████████████████████████████████████████| 100/100 [06:29<00:00,  3.90s/it]\n",
      "100%|█████████████████████████████████████████| 100/100 [06:30<00:00,  3.91s/it]\n",
      "100%|█████████████████████████████████████████| 100/100 [06:30<00:00,  3.91s/it]\n",
      "100%|█████████████████████████████████████████| 100/100 [06:29<00:00,  3.90s/it]\n",
      "100%|█████████████████████████████████████████| 100/100 [06:30<00:00,  3.90s/it]\n",
      "100%|█████████████████████████████████████████| 100/100 [06:28<00:00,  3.88s/it]\n",
      "100%|█████████████████████████████████████████| 100/100 [06:30<00:00,  3.90s/it]\n",
      "100%|█████████████████████████████████████████| 100/100 [06:28<00:00,  3.89s/it]\n"
     ]
    }
   ],
   "source": [
    "#draw masses from a power-law IMF and uniform ages\n",
    "#define a galaxy density model and draw distances in a given direction\n",
    "disk= Disk(H=300, L=2600)\n",
    "tdisk=Disk(H=900, L=3600)\n",
    "halo= Halo()\n",
    "\n",
    "df0=simulate_full_pop(-1, 10,50_000, all_keys, nsample=1e6)\n",
    "df1=simulate_full_pop(-0.5, 10,50_000, all_keys, nsample=1e6)\n",
    "df2=simulate_full_pop(0, 10,50_000, all_keys, nsample=1e6)"
   ]
  },
  {
   "cell_type": "code",
   "execution_count": 15,
   "id": "fd3fe072",
   "metadata": {},
   "outputs": [],
   "source": [
    "sptgrid=np.arange(15, 40)\n",
    "maglimits_roman={'WFI_J129': [10, 26.2]}\n",
    "maglimits_jwst={'NIRISS_F115W': [10, 27]}\n",
    "maglimits_euclid={'NIRISS_F115W': [10, 27]}\n",
    "maglimits_lss={''}"
   ]
  },
  {
   "cell_type": "code",
   "execution_count": 18,
   "id": "b4b2dada",
   "metadata": {},
   "outputs": [],
   "source": [
    "def compute_numbers(df0, cuts):\n",
    "    query=''\n",
    "    for k in cuts.keys():\n",
    "        query += k+'<='+str(cuts[k][1])\n",
    "    \n",
    "    print (query)\n",
    "    df= df0.query(query).reset_index(drop=True)\n",
    "    ns= compute_vols_and_numbers(df, disk, tdisk, halo, sptgrid,coords, cuts)\n",
    "    return ns"
   ]
  },
  {
   "cell_type": "code",
   "execution_count": 20,
   "id": "6fcdb0e4",
   "metadata": {},
   "outputs": [
    {
     "name": "stdout",
     "output_type": "stream",
     "text": [
      "WFI_J129<=26.2\n"
     ]
    },
    {
     "name": "stderr",
     "output_type": "stream",
     "text": [
      "100%|███████████████████████████████████████████| 25/25 [00:10<00:00,  2.28it/s]\n"
     ]
    },
    {
     "name": "stdout",
     "output_type": "stream",
     "text": [
      "WFI_J129<=26.2\n"
     ]
    },
    {
     "name": "stderr",
     "output_type": "stream",
     "text": [
      "100%|███████████████████████████████████████████| 25/25 [00:11<00:00,  2.12it/s]\n"
     ]
    },
    {
     "name": "stdout",
     "output_type": "stream",
     "text": [
      "WFI_J129<=26.2\n"
     ]
    },
    {
     "name": "stderr",
     "output_type": "stream",
     "text": [
      "100%|███████████████████████████████████████████| 25/25 [00:11<00:00,  2.13it/s]\n"
     ]
    }
   ],
   "source": [
    "ns_roman0= compute_numbers(df0, maglimits_roman)\n",
    "ns_roman1=compute_numbers(df1, maglimits_roman)\n",
    "ns_roman2=compute_numbers(df2, maglimits_roman)"
   ]
  },
  {
   "cell_type": "code",
   "execution_count": 21,
   "id": "28e3e580",
   "metadata": {},
   "outputs": [
    {
     "name": "stdout",
     "output_type": "stream",
     "text": [
      "NIRISS_F115W<=27\n"
     ]
    },
    {
     "name": "stderr",
     "output_type": "stream",
     "text": [
      "100%|███████████████████████████████████████████| 25/25 [00:11<00:00,  2.19it/s]\n"
     ]
    },
    {
     "name": "stdout",
     "output_type": "stream",
     "text": [
      "NIRISS_F115W<=27\n"
     ]
    },
    {
     "name": "stderr",
     "output_type": "stream",
     "text": [
      "100%|███████████████████████████████████████████| 25/25 [00:12<00:00,  2.03it/s]\n"
     ]
    },
    {
     "name": "stdout",
     "output_type": "stream",
     "text": [
      "NIRISS_F115W<=27\n"
     ]
    },
    {
     "name": "stderr",
     "output_type": "stream",
     "text": [
      "100%|███████████████████████████████████████████| 25/25 [00:13<00:00,  1.88it/s]\n"
     ]
    }
   ],
   "source": [
    "ns_jwst0= compute_numbers(df0, maglimits_jwst)\n",
    "ns_jwst1=compute_numbers(df1, maglimits_jwst)\n",
    "ns_jwst2=compute_numbers(df2, maglimits_jwst)"
   ]
  },
  {
   "cell_type": "code",
   "execution_count": 22,
   "id": "a3d72954",
   "metadata": {},
   "outputs": [
    {
     "name": "stdout",
     "output_type": "stream",
     "text": [
      "NIRISS_F115W<=27\n"
     ]
    },
    {
     "name": "stderr",
     "output_type": "stream",
     "text": [
      "100%|███████████████████████████████████████████| 25/25 [00:11<00:00,  2.19it/s]\n"
     ]
    },
    {
     "name": "stdout",
     "output_type": "stream",
     "text": [
      "NIRISS_F115W<=27\n"
     ]
    },
    {
     "name": "stderr",
     "output_type": "stream",
     "text": [
      "100%|███████████████████████████████████████████| 25/25 [00:12<00:00,  2.01it/s]\n"
     ]
    },
    {
     "name": "stdout",
     "output_type": "stream",
     "text": [
      "NIRISS_F115W<=27\n"
     ]
    },
    {
     "name": "stderr",
     "output_type": "stream",
     "text": [
      "100%|███████████████████████████████████████████| 25/25 [00:12<00:00,  1.93it/s]\n"
     ]
    }
   ],
   "source": [
    "ns_euc0= compute_numbers(df0, maglimits_euclid)\n",
    "ns_euc1=compute_numbers(df1, maglimits_euclid)\n",
    "ns_euc2=compute_numbers(df2, maglimits_euclid)"
   ]
  },
  {
   "cell_type": "code",
   "execution_count": 83,
   "id": "9c742a95",
   "metadata": {},
   "outputs": [],
   "source": [
    "AREA_JWST=124*(4*(u.arcmin**2)).to(u.radian**2)\n",
    "AREA_ROMAN=(2_000*(u.degree**2)).to(u.radian**2)"
   ]
  },
  {
   "cell_type": "code",
   "execution_count": 51,
   "id": "42db5c89",
   "metadata": {},
   "outputs": [
    {
     "data": {
      "text/latex": [
       "$0.13777778 \\; \\mathrm{deg^{2}}$"
      ],
      "text/plain": [
       "<Quantity 0.13777778 deg2>"
      ]
     },
     "execution_count": 51,
     "metadata": {},
     "output_type": "execute_result"
    }
   ],
   "source": []
  },
  {
   "cell_type": "code",
   "execution_count": 60,
   "id": "cc8b2b01",
   "metadata": {},
   "outputs": [
    {
     "data": {
      "text/plain": [
       "<matplotlib.legend.Legend at 0x7fafcb75b520>"
      ]
     },
     "execution_count": 60,
     "metadata": {},
     "output_type": "execute_result"
    },
    {
     "data": {
      "image/png": "[encoded data removed]",
      "text/plain": [
       "<Figure size 560x560 with 1 Axes>"
      ]
     },
     "metadata": {},
     "output_type": "display_data"
    }
   ],
   "source": [
    "fig, ax=plt.subplots(figsize=(7, 7),sharey=True)\n",
    "\n",
    "ax.step(ns_roman1[0].index, ns_roman1[0].thin*ns_roman1[1].thin*AREA_ROMAN,\\\n",
    "        color='#FFFFFF',  linestyle='-', label='Thin Disk', linewidth=3)\n",
    "\n",
    "ax.step(ns_roman1[0].index, 0.12*ns_roman1[0].thick*ns_roman1[1].thick*AREA_ROMAN,\\\n",
    "         color='#FFFFFF',  linestyle='dashed', label='Thick Disk',  linewidth=3)\n",
    "\n",
    "ax.step(ns_roman1[0].index, (1/400)*ns_roman1[0].halo*ns_roman1[1].halo*AREA_ROMAN,\\\n",
    "           color='#FFFFFF', linestyle='dotted', label='Halo',  linewidth=3)\n",
    "\n",
    "ax.set(yscale='log', ylabel=r'Number Counts', xlabel='Spectral Type', \\\n",
    "       xticks=[17, 20, 30, 40], xticklabels=['M7', 'L0', 'T0', 'Y0'])\n",
    "\n",
    "ax.minorticks_on()\n",
    "\n",
    "ax.legend(fontsize=12)"
   ]
  },
  {
   "cell_type": "code",
   "execution_count": 84,
   "id": "0a6629d1",
   "metadata": {},
   "outputs": [
    {
     "data": {
      "image/png": "[encoded data removed]",
      "text/plain": [
       "<Figure size 480x560 with 1 Axes>"
      ]
     },
     "metadata": {},
     "output_type": "display_data"
    }
   ],
   "source": [
    "fig, ax=plt.subplots(figsize=(6, 7),sharey=True)\n",
    "\n",
    "ax.step(ns_jwst1[0].index, ns_jwst1[0].thin*ns_roman1[1].thin*AREA_JWST,\\\n",
    "        color='#7FDBFF',  linestyle='-', label='Thin Disk', linewidth=3)\n",
    "\n",
    "ax.step(ns_jwst1[0].index, 0.12*ns_jwst1[0].thick*ns_jwst1[1].thick*AREA_JWST,\\\n",
    "         color='#01FF70',  linestyle='dashed', label='Thick Disk',  linewidth=3)\n",
    "\n",
    "ax.step(ns_jwst1[0].index, (1/400)*ns_jwst1[0].halo*ns_jwst1[1].halo*AREA_JWST,\\\n",
    "           color='#FF851B', linestyle='dotted', label='Halo',  linewidth=3)\n",
    "\n",
    "ax.set(yscale='log', ylabel=r'Number Counts', xlabel='Spectral Type', \\\n",
    "       xticks=[17, 20, 30, 40], xticklabels=['M7', 'L0', 'T0', 'Y0'])\n",
    "\n",
    "ax.minorticks_on()\n",
    "\n",
    "ax.legend(fontsize=12)\n",
    "plt.savefig('/users/caganze/jwst_preds.pdf')"
   ]
  },
  {
   "cell_type": "code",
   "execution_count": 86,
   "id": "a7adaa5e",
   "metadata": {},
   "outputs": [
    {
     "data": {
      "text/plain": [
       "1221.9572934901257"
      ]
     },
     "execution_count": 86,
     "metadata": {},
     "output_type": "execute_result"
    }
   ],
   "source": [
    "np.nansum(ns_jwst1[0].halo*ns_roman1[1].halo*AREA_JWST.value)/400"
   ]
  },
  {
   "cell_type": "code",
   "execution_count": 76,
   "id": "156176e9",
   "metadata": {},
   "outputs": [
    {
     "data": {
      "text/plain": [
       "15    1559.453652\n",
       "16    1517.504581\n",
       "17     739.125016\n",
       "18     378.540238\n",
       "19     184.655784\n",
       "20     124.376319\n",
       "21     114.778626\n",
       "22     111.907580\n",
       "23      42.790905\n",
       "24      32.354041\n",
       "25      18.563183\n",
       "26      10.915552\n",
       "27       9.129257\n",
       "28       2.616158\n",
       "29      13.405404\n",
       "30       2.767309\n",
       "31       4.342429\n",
       "32       1.606650\n",
       "33       1.120881\n",
       "34       1.725634\n",
       "35       2.166369\n",
       "36       4.858526\n",
       "37       5.366596\n",
       "38       3.674931\n",
       "39       0.083556\n",
       "Name: halo, dtype: float64"
      ]
     },
     "execution_count": 76,
     "metadata": {},
     "output_type": "execute_result"
    }
   ],
   "source": [
    "ns_jwst1[0].halo*ns_roman1[1].halo*AREA_JWST.value"
   ]
  },
  {
   "cell_type": "code",
   "execution_count": 74,
   "id": "c1f1dded",
   "metadata": {},
   "outputs": [
    {
     "data": {
      "text/plain": [
       "73.904"
      ]
     },
     "execution_count": 74,
     "metadata": {},
     "output_type": "execute_result"
    }
   ],
   "source": [
    "0.149*124*4"
   ]
  },
  {
   "cell_type": "code",
   "execution_count": 88,
   "id": "ac08eff0",
   "metadata": {},
   "outputs": [
    {
     "data": {
      "text/latex": [
       "$496 \\; \\mathrm{arcmin^{2}}$"
      ],
      "text/plain": [
       "<Quantity 496. arcmin2>"
      ]
     },
     "execution_count": 88,
     "metadata": {},
     "output_type": "execute_result"
    }
   ],
   "source": [
    "124*(4*(u.arcmin**2))"
   ]
  },
  {
   "cell_type": "code",
   "execution_count": null,
   "id": "e00d3dc5",
   "metadata": {},
   "outputs": [],
   "source": [
    "0.14"
   ]
  }
 ],
 "metadata": {
  "kernelspec": {
   "display_name": "Python 3 (ipykernel)",
   "language": "python",
   "name": "python3"
  },
  "language_info": {
   "codemirror_mode": {
    "name": "ipython",
    "version": 3
   },
   "file_extension": ".py",
   "mimetype": "text/x-python",
   "name": "python",
   "nbconvert_exporter": "python",
   "pygments_lexer": "ipython3",
   "version": "3.9.7"
  }
 },
 "nbformat": 4,
 "nbformat_minor": 5
}
