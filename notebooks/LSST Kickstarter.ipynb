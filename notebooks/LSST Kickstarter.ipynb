{
 "cells": [
  {
   "cell_type": "code",
   "execution_count": 3,
   "id": "0ae90cfb",
   "metadata": {},
   "outputs": [],
   "source": [
    "#test the model class on JSWT simulations \n",
    "import numpy as np\n",
    "import pandas as pd\n",
    "#import splat\n",
    "#import popsims\n",
    "from astropy.coordinates import SkyCoord, Galactic\n",
    "#from popsims.galaxy import Pointing, volume_calc, create_pop\n",
    "import matplotlib.pyplot as plt\n",
    "import seaborn as sns\n",
    "import scipy\n",
    "#sns.set_style(\"darkgrid\", {\"axes.facecolor\": \".95\"})\n",
    "\n",
    "#plt.style.use('fivethirtyeight')\n",
    "#plt.style.use('dark_background')\n",
    "\n",
    "from  matplotlib.colors import Normalize\n",
    "import astropy.units as u\n",
    "import popsims\n",
    "import matplotlib\n",
    "from tqdm import tqdm\n",
    "from tqdm import tqdm\n",
    "import matplotlib as mpl \n",
    "mpl.rcParams['axes.labelsize'] = 20\n",
    "mpl.rcParams['xtick.labelsize'] =20\n",
    "mpl.rcParams['ytick.labelsize'] = 20\n",
    "mpl.rcParams['legend.fontsize'] = 20\n",
    "mpl.rcParams['figure.titlesize'] = 20\n",
    "\n",
    "from popsims.simulator import Population#,simulate_population\n",
    "from popsims.galaxy import Disk, Halo\n",
    "from popsims.relations import polynomial_relation\n",
    "#from popsims.backgrounds import simulate_lsst_background_stars, read_isochrones"
   ]
  },
  {
   "cell_type": "code",
   "execution_count": null,
   "id": "6491349b",
   "metadata": {},
   "outputs": [],
   "source": [
    "popsims.simulator.POLYNOMIALS['absmags_spt']['subdwarfs']"
   ]
  },
  {
   "cell_type": "code",
   "execution_count": null,
   "id": "a6545e92",
   "metadata": {},
   "outputs": [],
   "source": [
    "#bhjk"
   ]
  },
  {
   "cell_type": "code",
   "execution_count": null,
   "id": "5d0f8ed9",
   "metadata": {},
   "outputs": [],
   "source": [
    "#LOAD DP0 data\n",
    "dp0_data=pd.read_csv('/Volumes/lacie/popsimsdata/cone_search.csv')"
   ]
  },
  {
   "cell_type": "code",
   "execution_count": null,
   "id": "cf41ee59",
   "metadata": {},
   "outputs": [],
   "source": [
    "#randoom 1,000 poinitings\n",
    "dp0_data_rand= dp0_data.sample(n=1000)\n",
    "footprint=SkyCoord(ra=dp0_data_rand.ra*u.deg, dec=dp0_data_rand.dec*u.deg)"
   ]
  },
  {
   "cell_type": "code",
   "execution_count": null,
   "id": "923a084a",
   "metadata": {},
   "outputs": [],
   "source": [
    "fig, ax=plt.subplots()\n",
    "ax.scatter(dp0_data.ra, dp0_data.dec, s=.1, alpha=0.02)\n",
    "ax.scatter(footprint.ra, footprint.dec, s=10, c='k')"
   ]
  },
  {
   "cell_type": "code",
   "execution_count": null,
   "id": "1b5f4588",
   "metadata": {},
   "outputs": [],
   "source": [
    "#simulate a disk population\n",
    "mag_keys=['LSST_R', 'LSST_I', 'LSST_Z' ]"
   ]
  },
  {
   "cell_type": "code",
   "execution_count": null,
   "id": "7513199e",
   "metadata": {},
   "outputs": [],
   "source": [
    "mag_keys"
   ]
  },
  {
   "cell_type": "code",
   "execution_count": null,
   "id": "d0f2e744",
   "metadata": {},
   "outputs": [],
   "source": [
    "bckg=pd.concat([simulate_lsst_background_stars(1e2, imf='kroupa', mass_range=(0.1, 1), \\\n",
    "                                               met_range=(0.0, 0.5)) for i in tqdm(range(0, 10))])"
   ]
  },
  {
   "cell_type": "code",
   "execution_count": null,
   "id": "6c5b713b",
   "metadata": {},
   "outputs": [],
   "source": [
    "#bckg"
   ]
  },
  {
   "cell_type": "code",
   "execution_count": null,
   "id": "534315e9",
   "metadata": {},
   "outputs": [],
   "source": [
    "disk= Disk()\n",
    "samples_tot= simulate_population(disk, footprint, 0.1, 15000, poptype='dwarfs', mag_keys=mag_keys, \\\n",
    "                             galtype='thin_disk', nsample=5e4, get_from='spt')"
   ]
  },
  {
   "cell_type": "code",
   "execution_count": null,
   "id": "f596c166",
   "metadata": {},
   "outputs": [],
   "source": [
    "mag_keys"
   ]
  },
  {
   "cell_type": "code",
   "execution_count": null,
   "id": "66f4bec3",
   "metadata": {},
   "outputs": [],
   "source": [
    "#thick disk\n",
    "disk= Disk(H=300, L=3600)\n",
    "samples_thick_tot= simulate_population(disk, footprint, 0.1, 15000, poptype='subdwarfs', \\\n",
    "                                   galtype='thick_disk' , mag_keys=mag_keys, evolmodel='burrows1997',\\\n",
    "                                   age_range=[8, 13], nsample=5e4, get_from='spt')"
   ]
  },
  {
   "cell_type": "code",
   "execution_count": null,
   "id": "095b46b8",
   "metadata": {},
   "outputs": [],
   "source": []
  },
  {
   "cell_type": "code",
   "execution_count": null,
   "id": "3170126d",
   "metadata": {},
   "outputs": [],
   "source": [
    "#### thick disk\n",
    "halo=Halo()\n",
    "samples_halo_tot= simulate_population(halo, footprint, 0.1, 15000, poptype='subdwarfs', galtype='halo', \\\n",
    "                                   age_range=[10, 14], mag_keys=mag_keys,  evolmodel='burrows1997',\n",
    "                                  nsample=5e4, get_from='spt')"
   ]
  },
  {
   "cell_type": "code",
   "execution_count": null,
   "id": "112e908f",
   "metadata": {},
   "outputs": [],
   "source": []
  },
  {
   "cell_type": "code",
   "execution_count": null,
   "id": "f6740025",
   "metadata": {},
   "outputs": [],
   "source": [
    "# u : 23.9,  26.1\n",
    "#g : 25.0,  27.4\n",
    "#r : 24.7, 27.5\n",
    "#i : 24.0 , 26.8\n",
    "#z : 23.3,  26.1\n",
    "#y : 22.1, 24.9\n",
    "mag_limits_single=dict(zip(mag_keys, [25.0, 24.7, 24.0, 23.3, 22.1]))\n",
    "mag_limits_10yr=dict(zip(mag_keys, [27.4, 27.5, 26.8, 26.1, 24.9]))\n",
    "mag_limits= mag_limits_single"
   ]
  },
  {
   "cell_type": "code",
   "execution_count": null,
   "id": "3934a539",
   "metadata": {},
   "outputs": [],
   "source": [
    "for k in [ 'LSST_R', 'LSST_I', 'LSST_Z']:\n",
    "    print (k, mag_limits[k])\n",
    "    samples= samples_tot[np.logical_and(samples_tot[k]<mag_limits[k], samples_tot[k] >1) ].reset_index(drop=True)\n",
    "    samples_thick= samples_thick_tot[np.logical_and(samples_thick_tot[k]<mag_limits[k], samples_thick_tot[k]>1)].reset_index(drop=True)\n",
    "    samples_halo= samples_halo_tot[np.logical_and(samples_halo_tot[k]<mag_limits[k], samples_halo_tot[k]>1) ].reset_index(drop=True)\n",
    "    bckg= bckg[np.logical_and(bckg[k]<mag_limits[k], bckg[k] >10)].reset_index(drop=True)"
   ]
  },
  {
   "cell_type": "code",
   "execution_count": null,
   "id": "0e25f667",
   "metadata": {},
   "outputs": [],
   "source": [
    "for s in [samples, samples_thick, samples_halo, bckg]:\n",
    "    #s['g-r']=s.abs_LSST_G-s.abs_LSST_R\n",
    "    s['i-z']=s.abs_LSST_I-s.abs_LSST_Z\n",
    "    s['r-i']=s.abs_LSST_R-s.abs_LSST_I\n",
    "    #s['z-y']=s.abs_LSST_Z-s.abs_LSST_Y\n",
    "    #s['g-i']=s.abs_LSST_G-s.abs_LSST_I\n",
    "    s['r-z']=s.abs_LSST_R-s.abs_LSST_Z\n",
    "    "
   ]
  },
  {
   "cell_type": "code",
   "execution_count": null,
   "id": "fbd2621e",
   "metadata": {},
   "outputs": [],
   "source": [
    "#bckg= bckg[np.logical_and(bckg['i-z']>0, bckg['r-i']>0)]"
   ]
  },
  {
   "cell_type": "code",
   "execution_count": null,
   "id": "cc47bac9",
   "metadata": {},
   "outputs": [],
   "source": [
    "fig, ax=plt.subplots()\n",
    "\n",
    "\n",
    "ax.scatter(dp0_data.mag_i-dp0_data.mag_z, dp0_data.mag_r-dp0_data.mag_i, color='k', label='DP0 Data', s=.1)\n",
    "ax.scatter(bckg['i-z'], bckg['r-i'], color='grey', label='Simulated bkgd', s=1)\n",
    "\n",
    "ax.scatter(samples['i-z'], samples['r-i'], s=1, marker=',', \\\n",
    "           edgecolor='#0074D9',  facecolor='none', alpha=0.2, label='Thin Disk')\n",
    "ax.scatter(samples_thick['i-z'], samples_thick['r-i'], alpha=0.2, s=10,\\\n",
    "           edgecolor='#FF851B', facecolor='none', marker='*', label='Thick Disk')\n",
    "#ax.scatter(samples_halo['i-z'], samples_halo['r-i'],  s=10,\\\n",
    "#           edgecolor='#B10DC9',  facecolor='none', alpha=0.2, marker='*', label='Halo')\n",
    "\n",
    "ax.axvline(0.3, linestyle='--', color='k')\n",
    "ax.axhline(0.2, linestyle='--', color='k')\n",
    "\n",
    "ax.minorticks_on()\n",
    "ax.legend(fontsize=16, markerscale=3)\n",
    "\n",
    "ax.set(xlim=[-2, 4.], ylim=[-2, 4.0], xlabel='i-z', ylabel='r-i')\n",
    "\n",
    "plt.savefig('../figures/lsst_dp0_simulations_ri_iz.jpeg')"
   ]
  },
  {
   "cell_type": "code",
   "execution_count": null,
   "id": "c85a53b8",
   "metadata": {},
   "outputs": [],
   "source": [
    "fig, ax=plt.subplots()\n",
    "\n",
    "ax.scatter(dp0_data.mag_r-dp0_data.mag_z, dp0_data.mag_r-dp0_data.mag_z, color='k', label='LSST DP0', s=.1)\n",
    "#ax.scatter(bckg['r-i'], bckg['g-r'], color='grey', label='Simulated bkgd', s=10)\n",
    "\n",
    "ax.scatter(samples['r-z'][samples.spt<20], samples['r-z'][samples.spt<20],  s=10, marker=',', alpha=0.5, color='#0074D9',  label='Thin Disk')\n",
    "#ax.scatter(samples_thick['r-z'], samples_thick['g-r'], s=10, marker='*', color='#FF851B',  label='Thick Disk')\n",
    "#ax.scatter(samples_halo['r-z'], samples_halo['g-r'],  s=10, marker='*', color='#B10DC9', label='Halo')\n",
    "\n",
    "ax.axvline(0.3, linestyle='--', color='k')\n",
    "ax.axhline(0.2, linestyle='--', color='k')\n",
    "\n",
    "ax.minorticks_on()\n",
    "legend=ax.legend(fontsize=16, markerscale=6)\n",
    "\n",
    "ax.set( xlabel='r-z', ylabel='g-r', xlim=[-5, 5], ylim=[-5, 5.])\n",
    "\n",
    "plt.savefig('../figures/lsst_dp0_simulations_rz_gr.jpeg')"
   ]
  },
  {
   "cell_type": "code",
   "execution_count": null,
   "id": "669c65cf",
   "metadata": {},
   "outputs": [],
   "source": [
    "#adsfvd"
   ]
  },
  {
   "cell_type": "code",
   "execution_count": null,
   "id": "e4ea88d4",
   "metadata": {},
   "outputs": [],
   "source": [
    "fig, ax=plt.subplots()\n",
    "\n",
    "#ax.scatter(dp0_data.mag_r-dp0_data.mag_z, dp0_data.mag_g-dp0_data.mag_r, color='k', label='DP0 Data', s=.1)\n",
    "ax.scatter(bckg.abs_LSST_R-bckg.abs_LSST_Z, bckg.abs_LSST_R, color='k', label='Simulated bkgd', s=1)\n",
    "\n",
    "ax.scatter(samples['r-z'], samples.abs_LSST_R,  s=1, marker=',', alpha=0.5, color='#0074D9',  label='Dwarfs')\n",
    "ax.scatter(samples_thick['r-z'], samples_thick.abs_LSST_R, s=1, marker='*', color='#FF851B',  label='Subdwarfs')\n",
    "#ax.scatter(samples_halo['r-z'], samples_halo.abs_LSST_R, s=10, marker='*', color='#B10DC9', label='Halo')\n",
    "\n",
    "#ax.axvline(0.3, linestyle='--', color='k')\n",
    "#ax.axhline(0.2, linestyle='--', color='k')\n",
    "\n",
    "ax.minorticks_on()\n",
    "legend=ax.legend(fontsize=16, markerscale=3)\n",
    "\n",
    "ax.set( xlabel='r-z', ylabel=r'M$_r$', xlim=[0.5, 6.], ylim=[10, 21])\n",
    "ax.invert_yaxis()\n"
   ]
  },
  {
   "cell_type": "code",
   "execution_count": null,
   "id": "e66b4b13",
   "metadata": {},
   "outputs": [],
   "source": [
    "bckg.columns"
   ]
  },
  {
   "cell_type": "code",
   "execution_count": null,
   "id": "3338de39",
   "metadata": {},
   "outputs": [],
   "source": [
    "fig, ax=plt.subplots()\n",
    "\n",
    "#ax.scatter(dp0_data.mag_r-dp0_data.mag_z, dp0_data.mag_g-dp0_data.mag_r, color='k', label='DP0 Data', s=.1)\n",
    "#ax.scatter(bckg['r-z'], bckg['g-r'], color='grey', label='Simulated bkgd', s=1)\n",
    "\n",
    "ax.scatter(samples['r-z'], samples.spt,  s=1, marker=',', alpha=0.5, color='#0074D9',  label='Dwarfs')\n",
    "ax.scatter(samples_thick['r-z'], samples_thick.spt ,s=10, marker='*', color='#FF851B',  label='Subdwarfs')\n",
    "#ax.scatter(samples_halo['r-z'], samples_halo.abs_LSST_R, s=10, marker='*', color='#B10DC9', label='Halo')\n",
    "\n",
    "#ax.axvline(0.3, linestyle='--', color='k')\n",
    "#ax.axhline(0.2, linestyle='--', color='k')\n",
    "\n",
    "ax.minorticks_on()\n",
    "legend=ax.legend(fontsize=16, markerscale=3)\n",
    "\n",
    "ax.set( xlabel='r-z', ylabel=r'Spectral Type', xlim=[0.5, 6.], ylim=[10, 40])\n"
   ]
  },
  {
   "cell_type": "code",
   "execution_count": null,
   "id": "1eddb320",
   "metadata": {},
   "outputs": [],
   "source": [
    "def compute_vols_and_numbers(df, sptgrid, footprint, maglimits):\n",
    "    counts={}\n",
    "    vols={}\n",
    "    dists={}\n",
    "    \n",
    "    disk= Disk()\n",
    "    tdisk=  Disk(H=900, L=3600)\n",
    "    halo= Halo()\n",
    "    \n",
    "    \n",
    "    for spt in tqdm(sptgrid):\n",
    "        \n",
    "        dmins=[]\n",
    "        dmaxs=[]\n",
    "        \n",
    "        dmins_sd=[]\n",
    "        dmaxs_sd=[]\n",
    "        \n",
    "        for k in maglimits.keys():\n",
    "            mag_cut= maglimits[k]\n",
    "            absmag= np.poly1d(popsims.simulator.POLYNOMIALS['absmags_spt']['dwarfs'][k]['fit'])(spt)\n",
    "            absmag_sd= np.poly1d(popsims.simulator.POLYNOMIALS['absmags_spt']['subdwarfs'][k]['fit'])(spt)\n",
    "        \n",
    "            mag_cut= maglimits[k]\n",
    "            \n",
    "            dmin=10.**(-(absmag-14)/5. + 1.)\n",
    "            dmax=10.**(-(absmag-mag_cut)/5. + 1.)\n",
    "            \n",
    "            dmin_sd=10.**(-(absmag_sd-14)/5. + 1.)\n",
    "            dmax_sd=10.**(-(absmag_sd-mag_cut)/5. + 1.)\n",
    "            \n",
    "            \n",
    "            \n",
    "            dmins.append(dmin)\n",
    "            dmaxs.append(dmax)\n",
    "            \n",
    "            dmins_sd.append(dmin)\n",
    "            dmaxs_sd.append(dmax)\n",
    "            \n",
    "        dmin=np.nanmedian(dmins)\n",
    "        dmax=np.nanmedian(dmaxs)\n",
    "        \n",
    "        dmin_sd=np.nanmedian(dmins_sd)\n",
    "        dmax_sd=np.nanmedian(dmaxs_sd)\n",
    "        \n",
    "        #print (spt, dmin, dmax)\n",
    "        \n",
    "        scale=[df.scale.mean(), df.scale_unc.mean(), df.scale_times_model.mean()]\n",
    "        \n",
    "        sn= len(df.query('population == \"thin disk\"'))\n",
    "        snt= len(df.query('population == \"thick disk\"'))\n",
    "        snh= len(df.query('population == \"halo\"'))\n",
    "      \n",
    "        sn_c= len(df.query('population == \"thin disk\" and spt >= {} and spt < {}'.format(spt, spt+0.9)))\n",
    "        snt_c= len(df.query('population == \"thick disk\" and spt >= {} and spt < {}'.format(spt, spt+0.9)))\n",
    "        snh_c= len(df.query('population == \"halo\" and spt >= {} and spt < {}'.format(spt, spt+0.9)))\n",
    "        \n",
    "        \n",
    "        volumes={'thin': 0., 'thick':0., 'halo': 0.}\n",
    "        \n",
    "        cnts={'thin':  sn_c*np.divide(scale[-1], sn),\n",
    "             'thick': snt_c*np.divide(scale[-1], snt),\\\n",
    "             'halo':  snh_c*np.divide(scale[-1], snh)}\n",
    "\n",
    "        for s in  footprint:\n",
    "            l=s.galactic.l.radian\n",
    "            b=s.galactic.b.radian\n",
    "            volumes['thin'] += disk.volume(l, b, dmin, dmax)/len(footprint)\n",
    "            volumes['thick'] += tdisk.volume(l, b, dmin_sd, dmax_sd)/len(footprint)\n",
    "            volumes['halo'] += halo.volume(l, b, dmin_sd, dmax_sd)/len(footprint)\n",
    "            \n",
    "        vols.update({spt: volumes})\n",
    "        counts.update({spt: cnts})\n",
    "        dists.update({spt: dmax})\n",
    "        \n",
    "        \n",
    "    return pd.DataFrame.from_records(vols).T.replace(np.inf, np.nan),\\\n",
    "    pd.DataFrame.from_records(counts).T.replace(np.inf, np.nan),\\\n",
    "    dists\n"
   ]
  },
  {
   "cell_type": "code",
   "execution_count": null,
   "id": "1d3a4968",
   "metadata": {},
   "outputs": [],
   "source": [
    "samples_tot['population']='thin disk'\n",
    "samples_thick_tot['population']='thick disk'\n",
    "samples_halo_tot['population']='halo'"
   ]
  },
  {
   "cell_type": "code",
   "execution_count": null,
   "id": "91e82c8f",
   "metadata": {},
   "outputs": [],
   "source": [
    "mag_limits=mag_limits_single\n",
    "for k in ['LSST_R', 'LSST_I', 'LSST_Z']:\n",
    "    samples= samples_tot[np.logical_and(samples_tot[k]<mag_limits[k], samples_tot[k] >1) ].reset_index(drop=True)\n",
    "    samples_thick= samples_thick_tot[np.logical_and(samples_thick_tot[k]<mag_limits[k], samples_thick_tot[k]>1)].reset_index(drop=True)\n",
    "    samples_halo= samples_halo_tot[np.logical_and(samples_halo_tot[k]<mag_limits[k], samples_halo_tot[k]>1) ].reset_index(drop=True)\n",
    "samples['population']='thin disk'\n",
    "samples_thick['population']='thick disk'\n",
    "samples_halo['population']='halo'\n",
    "df= pd.concat([samples, samples_thick, samples_halo])\n",
    "sptgrid=np.arange(15, 40)\n",
    "\n",
    "#Add astrometric cut\n",
    "#addd astrometric cut\n",
    "astro_cut=(df.mu_alpha_cosdec**2+df.mu_delta**2)**0.5 >10\n",
    "ns=compute_vols_and_numbers(df, sptgrid, footprint, mag_limits)\n",
    "ns_astro=compute_vols_and_numbers(df[astro_cut], sptgrid, footprint, mag_limits)\n",
    "\n",
    "mag_limits=mag_limits_10yr\n",
    "for k in ['LSST_R', 'LSST_I', 'LSST_Z']:\n",
    "    samples= samples_tot[np.logical_and(samples_tot[k]<mag_limits[k], samples_tot[k] >1) ].reset_index(drop=True)\n",
    "    samples_thick= samples_thick_tot[np.logical_and(samples_thick_tot[k]<mag_limits[k], samples_thick_tot[k]>1)].reset_index(drop=True)\n",
    "    samples_halo= samples_halo_tot[np.logical_and(samples_halo_tot[k]<mag_limits[k], samples_halo_tot[k]>1) ].reset_index(drop=True)\n",
    "samples['population']='thin disk'\n",
    "samples_thick['population']='thick disk'\n",
    "samples_halo['population']='halo'\n",
    "df= pd.concat([samples, samples_thick, samples_halo])\n",
    "sptgrid=np.arange(15, 40)\n",
    "ns_10yr=compute_vols_and_numbers(df, sptgrid, footprint, mag_limits)\n",
    "astro_cut=(df.mu_alpha_cosdec**2+df.mu_delta**2)**0.5 >10\n",
    "ns_10yr_astro=compute_vols_and_numbers(df[astro_cut], sptgrid, footprint, mag_limits)\n"
   ]
  },
  {
   "cell_type": "code",
   "execution_count": 4,
   "id": "b302b3a6",
   "metadata": {},
   "outputs": [],
   "source": [
    "AREA=(18_000*(u.degree**2).to(u.radian**2)*(u.radian**2))"
   ]
  },
  {
   "cell_type": "code",
   "execution_count": null,
   "id": "35644cf1",
   "metadata": {},
   "outputs": [],
   "source": [
    "def tick_function(locs):\n",
    "    return [x*18_1000 for x in locs]"
   ]
  },
  {
   "cell_type": "code",
   "execution_count": null,
   "id": "d23d6eb2",
   "metadata": {},
   "outputs": [],
   "source": [
    "fig, ax=plt.subplots(figsize=(17.5, 7), ncols=2, sharey=True)\n",
    "\n",
    "ax[0].step(ns[0].index, ns[0].thin*ns[1].thin*AREA,\\\n",
    "        color='#0074D9',  linestyle='-', label='Thin Disk', linewidth=3)\n",
    "ax[0].step(ns[0].index, 0.12*ns[0].thick*ns[1].thick*AREA,\\\n",
    "         color='#0074D9',  linestyle='dashed', label='Thick Disk',  linewidth=3)\n",
    "ax[0].step(ns[0].index, (1/400)*ns[0].thick*ns[1].halo*AREA,\\\n",
    "           color='#0074D9', linestyle='dotted', label='Halo',  linewidth=3)\n",
    "ax[0].set(yscale='log', ylabel=r'Surface Density (deg$^{-2}$)', xlabel='Spectral Type', title='5-Sigma Depth')\n",
    "ax[0].legend(fontsize=12)\n",
    "\n",
    "ax[1].step(ns_10yr[0].index, ns_10yr[0].thin*ns_10yr[1].thin*AREA,\\\n",
    "        color='#0074D9',  linestyle='-', label='Thin Disk', linewidth=3)\n",
    "ax[1].step(ns_10yr[0].index, 0.12*ns_10yr[0].thick*ns_10yr[1].thick*AREA,\\\n",
    "         color='#0074D9',  linestyle='dashed', label='Thick Disk', linewidth=3)\n",
    "ax[1].step(ns_10yr[0].index, (1/400)*ns_10yr[0].thick*ns_10yr[1].halo*AREA,\\\n",
    "           color='#0074D9', linestyle='dotted', label='Halo', linewidth=3)\n",
    "ax[1].set(yscale='log', ylabel=r'Surface Density (deg$^{-2}$)', xlabel='Spectral Type', title='10 yr Depth')\n",
    "\n",
    "\n",
    "#ax[0].step(ns_astro[0].index, ns_astro[0].thin*ns_astro[1].thin*AREA,\\\n",
    "#        color='#FF851B',  linestyle='-', label='Thin Disk + Astrometric Detection', linewidth=3)\n",
    "#ax[0].step(ns[0].index, 0.12*ns_astro[0].thick*ns_astro[1].thick*AREA,\\\n",
    "#         color='#FF851B',  linestyle='dashed', label='Thick Disk + Astrometric Detection',  linewidth=3)\n",
    "#ax[0].step(ns[0].index, (1/400)*ns_astro[0].thick*ns_astro[1].halo*AREA,\\\n",
    "#           color='#FF851B', linestyle='dotted', label='Halo + Astrometric Detection',  linewidth=3)\n",
    "\n",
    "ax[0].set(yscale='log', ylabel=r'Surface Density (deg$^{-2}$)', xlabel='Spectral Type', title='Single Exposure')\n",
    "#ax[0].legend(fontsize=12)\n",
    "\n",
    "#ax[1].step(ns_10yr[0].index, ns_10yr_astro[0].thin*ns_10yr_astro[1].thin*AREA,\\\n",
    "#        color='#FF851B',  linestyle='-', label='Thin Disk + Astrometric Detection', linewidth=3)\n",
    "#ax[1].step(ns_10yr[0].index, 0.12*ns_10yr_astro[0].thick*ns_10yr_astro[1].thick*AREA,\\\n",
    "#         color='#FF851B',  linestyle='dashed', label='Thick Disk + Astrometric Detection', linewidth=3)\n",
    "#ax[1].step(ns_10yr[0].index, (1/400)*ns_10yr_astro[0].thick*ns_10yr_astro[1].halo*AREA,\\\n",
    "#           color='#FF851B', linestyle='dotted', label='Halo + Astrometric Detection', linewidth=3)\n",
    "#ax[1].set(yscale='log', ylabel=r'Surface Density (deg$^{-2}$)', xlabel='Spectral Type', title='10 yr Depth')\n",
    "\n",
    "for a in ax :\n",
    "    ax2 = a.twinx()\n",
    "    #ax2.set_yticks(new_tick_locations)\n",
    "    ax2.set_yticklabels([\"{:.0e}\".format(x) for x in new_tick_locations*18_0000])\n",
    "    #ax2.tick_params(colors='#0074D9', which='both') \n",
    "    ax2.set_ylabel('Number Counts')\n",
    "    #ax2.grid()\n",
    "\n",
    "\n",
    "ax[1].legend(fontsize=12)\n",
    "ax[1].yaxis.set_tick_params(labelbottom=True)\n",
    "plt.tight_layout()\n",
    "ax[0].set(xticks=[ 15,20, 25, 30, 35, 39], xticklabels=['M5', 'L0', 'L5', 'T0', 'T5', 'T9'])\n",
    "ax[1].set(xticks=[15,20, 25, 30, 35, 39], xticklabels=['M5', 'L0', 'L5', 'T0', 'T5', 'T9'])\n",
    "ax[0].minorticks_on()\n",
    "ax[-1].minorticks_on()\n",
    "plt.savefig('../figures/number_counts_lsst.jpeg')"
   ]
  },
  {
   "cell_type": "code",
   "execution_count": null,
   "id": "eb8cd06f",
   "metadata": {},
   "outputs": [],
   "source": [
    "mask=np.logical_and(ns_10yr[0].index>=20, ns_10yr[0].index <30)\n",
    "print ('L dwarfs with detectable motion')\n",
    "np.nansum((ns_10yr_astro[0].thin*ns_10yr_astro[1].thin*AREA)[mask])"
   ]
  },
  {
   "cell_type": "code",
   "execution_count": null,
   "id": "731c6ef2",
   "metadata": {},
   "outputs": [],
   "source": [
    "mask=np.logical_and(ns_10yr[0].index>=30, ns_10yr[0].index <=40)\n",
    "print ('L dwarfs with detectable motion')\n",
    "np.nansum((ns_10yr_astro[0].thin*ns_10yr_astro[1].thin*AREA)[mask])"
   ]
  },
  {
   "cell_type": "code",
   "execution_count": null,
   "id": "8c48f46a",
   "metadata": {},
   "outputs": [],
   "source": [
    "bckg.age.min()"
   ]
  },
  {
   "cell_type": "code",
   "execution_count": null,
   "id": "c8081234",
   "metadata": {},
   "outputs": [],
   "source": [
    "import astropy.units as u\n",
    "((32*u.arcmin)**2).to(u.deg**2)"
   ]
  },
  {
   "cell_type": "code",
   "execution_count": null,
   "id": "0471a871",
   "metadata": {},
   "outputs": [],
   "source": []
  },
  {
   "cell_type": "code",
   "execution_count": null,
   "id": "fe1cbb5e",
   "metadata": {},
   "outputs": [],
   "source": []
  }
 ],
 "metadata": {
  "kernelspec": {
   "display_name": "Python 3 (ipykernel)",
   "language": "python",
   "name": "python3"
  },
  "language_info": {
   "codemirror_mode": {
    "name": "ipython",
    "version": 3
   },
   "file_extension": ".py",
   "mimetype": "text/x-python",
   "name": "python",
   "nbconvert_exporter": "python",
   "pygments_lexer": "ipython3",
   "version": "3.9.13"
  }
 },
 "nbformat": 4,
 "nbformat_minor": 5
}
