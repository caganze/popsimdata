{
 "cells": [
  {
   "cell_type": "code",
   "execution_count": 1,
   "id": "4572b7ed",
   "metadata": {},
   "outputs": [],
   "source": [
    "#test the model class on JSWT simulations \n",
    "import numpy as np\n",
    "import pandas as pd\n",
    "#import splat\n",
    "#import popsims\n",
    "from astropy.coordinates import SkyCoord, Galactic\n",
    "#from popsims.galaxy import Pointing, volume_calc, create_pop\n",
    "import matplotlib.pyplot as plt\n",
    "import seaborn as sns\n",
    "import scipy\n",
    "#sns.set_style(\"darkgrid\", {\"axes.facecolor\": \".95\"})\n",
    "\n",
    "#plt.style.use('fivethirtyeight')\n",
    "#plt.style.use('dark_background')\n",
    "\n",
    "from  matplotlib.colors import Normalize\n",
    "import astropy.units as u\n",
    "import popsims\n",
    "import matplotlib\n",
    "from tqdm import tqdm\n",
    "from tqdm import tqdm\n",
    "import matplotlib as mpl \n",
    "mpl.rcParams['axes.labelsize'] = 20\n",
    "mpl.rcParams['xtick.labelsize'] =20\n",
    "mpl.rcParams['ytick.labelsize'] = 20\n",
    "mpl.rcParams['legend.fontsize'] = 20\n",
    "mpl.rcParams['figure.titlesize'] = 20\n",
    "\n",
    "from popsims.simulator import Population, pop_mags_from_type, get_velocities\n",
    "from popsims.galaxy import Disk"
   ]
  },
  {
   "cell_type": "code",
   "execution_count": 2,
   "id": "0c392c89",
   "metadata": {},
   "outputs": [],
   "source": [
    "ls= np.random.uniform(-180, 180, 1000)\n",
    "bs= np.random.uniform(-90, 90, 1000)\n",
    "s= SkyCoord(l=ls*u.degree, b=bs*u.degree, frame='galactic')"
   ]
  },
  {
   "cell_type": "code",
   "execution_count": 3,
   "id": "11d4ace5",
   "metadata": {},
   "outputs": [],
   "source": [
    "disk= Disk()\n",
    "pop=Population(age_range=[0.01, 8])"
   ]
  },
  {
   "cell_type": "code",
   "execution_count": 4,
   "id": "fa0d5277",
   "metadata": {},
   "outputs": [
    {
     "name": "stdout",
     "output_type": "stream",
     "text": [
      "/users/caganze/research/popsims/popsims/tools.py:463: RuntimeWarning: Mean of empty slice\n",
      "  res=np.nanmean(res, axis=0)\n",
      "\n",
      "/users/caganze/research/popsims/popsims/tools.py:467: RuntimeWarning: Mean of empty slice\n",
      "  return np.nanmean(res, axis=0), np.nanstd(res, axis=0)\n",
      "\n",
      "/Users/caganze/opt/anaconda3/lib/python3.9/site-packages/numpy/lib/nanfunctions.py:1664: RuntimeWarning: Degrees of freedom <= 0 for slice.\n",
      "  var = nanvar(a, axis=axis, dtype=dtype, out=out, ddof=ddof,\n",
      "\n"
     ]
    }
   ],
   "source": [
    "#draw samples and assign them distances from a random direction\n",
    "samples= pop.simulate(1e5)"
   ]
  },
  {
   "cell_type": "code",
   "execution_count": 5,
   "id": "cf921175",
   "metadata": {},
   "outputs": [
    {
     "name": "stderr",
     "output_type": "stream",
     "text": [
      "100%|███████████████████████████████████████| 1000/1000 [01:50<00:00,  9.02it/s]\n"
     ]
    }
   ],
   "source": [
    "#draw distances\n",
    "ds= [disk.sample_distances(sx.l.radian, sx.b.radian, 0.1, 1000, len(samples), dsteps=1000) for sx in tqdm(s)]"
   ]
  },
  {
   "cell_type": "code",
   "execution_count": 6,
   "id": "620c550a",
   "metadata": {},
   "outputs": [],
   "source": [
    "samples['distance']=np.random.choice(np.array(ds).flatten(), len(samples))"
   ]
  },
  {
   "cell_type": "code",
   "execution_count": 7,
   "id": "8a802bde",
   "metadata": {},
   "outputs": [],
   "source": [
    "#add magnitudes\n",
    "mags= pop_mags_from_type(samples.spt.values, d=samples['distance'], keys=['NIRISS_F115W'], object_type='dwarfs', reference=None)\n",
    "for c in mags.columns:\n",
    "    samples[c]= mags[c]"
   ]
  },
  {
   "cell_type": "code",
   "execution_count": 8,
   "id": "bf9ca5e4",
   "metadata": {},
   "outputs": [],
   "source": [
    "#add kinematics \n",
    "vels= get_velocities(samples.age.values, population='thin_disk')\n",
    "for c in vels.columns:\n",
    "    samples[c]= vels[c]"
   ]
  },
  {
   "cell_type": "code",
   "execution_count": null,
   "id": "677055e4",
   "metadata": {},
   "outputs": [],
   "source": []
  }
 ],
 "metadata": {
  "kernelspec": {
   "display_name": "Python 3 (ipykernel)",
   "language": "python",
   "name": "python3"
  },
  "language_info": {
   "codemirror_mode": {
    "name": "ipython",
    "version": 3
   },
   "file_extension": ".py",
   "mimetype": "text/x-python",
   "name": "python",
   "nbconvert_exporter": "python",
   "pygments_lexer": "ipython3",
   "version": "3.9.13"
  }
 },
 "nbformat": 4,
 "nbformat_minor": 5
}
