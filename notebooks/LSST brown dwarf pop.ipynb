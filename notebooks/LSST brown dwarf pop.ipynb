{
 "cells": [
  {
   "cell_type": "code",
   "execution_count": 1,
   "id": "7b52037a",
   "metadata": {},
   "outputs": [],
   "source": [
    "#imports \n",
    "import numpy as np\n",
    "import pandas as pd\n",
    "import matplotlib.pyplot as plt\n",
    "import seaborn as sns\n",
    "%matplotlib inline\n",
    "\n",
    "import popsims\n",
    "from popsims.simulator import Population, pop_mags\n",
    "from popsims.galaxy import Disk, Halo\n",
    "from popsims.plot_style import  plot_style\n",
    "from astropy.coordinates import SkyCoord\n",
    "import astropy.units as u\n",
    "from tqdm import tqdm\n",
    "\n",
    "plot_style()\n",
    "#plt.style.use('dark_background')\n",
    "\n",
    "\n",
    "import warnings\n",
    "warnings.filterwarnings(\"ignore\")"
   ]
  },
  {
   "cell_type": "code",
   "execution_count": 2,
   "id": "38c99a61",
   "metadata": {},
   "outputs": [],
   "source": [
    "def compute_vols_and_numbers(df, gmodel, sptgrid, footprint, maglimits):\n",
    "    from popsims.abs_mag_relations import POLYNOMIALS\n",
    "    counts={}\n",
    "    vols={}\n",
    "    dists={}\n",
    "\n",
    "    for spt in sptgrid:\n",
    "        \n",
    "        dmins=[]\n",
    "        dmaxs=[]\n",
    "        \n",
    "        dmins_sd=[]\n",
    "        dmaxs_sd=[]\n",
    "        \n",
    "        for k in maglimits.keys():\n",
    "            mag_cut= maglimits[k]\n",
    "            absmag= np.poly1d(POLYNOMIALS['absmags_spt']['dwarfs'][k]['fit'])(spt)\n",
    "            \n",
    "            #absmag_sd= np.poly1d(POLYNOMIALS['absmags_spt']['subdwarfs'][k]['fit'])(spt)\n",
    "        \n",
    "            mag_cut= maglimits[k]\n",
    "            \n",
    "            dmin=10.**(-(absmag-mag_cut[0])/5. + 1.)\n",
    "            dmax=10.**(-(absmag-mag_cut[1])/5. + 1.)\n",
    "            \n",
    "            #dmin_sd=10.**(-(absmag_sd-14)/5. + 1.)\n",
    "            #dmax_sd=10.**(-(absmag_sd-mag_cut)/5. + 1.)\n",
    "        \n",
    "            \n",
    "            dmins.append(dmin)\n",
    "            dmaxs.append(dmax)\n",
    "            \n",
    "            #dmins_sd.append(dmin)\n",
    "            #dmaxs_sd.append(dmax)\n",
    "            \n",
    "        dmin=np.nanmedian(dmins)\n",
    "        dmax=np.nanmedian(dmaxs)\n",
    "        \n",
    "        #dmin_sd=np.nanmedian(dmins_sd)\n",
    "        #dmax_sd=np.nanmedian(dmaxs_sd)\n",
    "        \n",
    "        #print (spt, dmin, dmax)\n",
    "        \n",
    "        scale=[df.scale.mean(), df.scale_unc.mean(), df.scale_times_model.mean()]\n",
    "        \n",
    "        sn= len(df)\n",
    "        #sn= len(df.query('population == \"thin disk\"'))\n",
    "        #snt= len(df.query('population == \"thick disk\"'))\n",
    "        #snh= len(df.query('population == \"halo\"'))\n",
    "      \n",
    "        sn_c= len(df.query('spt < {}'.format(spt, spt+0.9)))\n",
    "        #snt_c= len(df.query('population == \"thick disk\" and spt >= {} and spt < {}'.format(spt, spt+0.9)))\n",
    "        #snh_c= len(df.query('population == \"halo\" and spt >= {} and spt < {}'.format(spt, spt+0.9)))\n",
    "        \n",
    "        \n",
    "        volumes={'volume': 0.0}\n",
    "        \n",
    "        cnts={'number':  sn_c*np.divide(scale[-1], sn)}\n",
    "        for s in  footprint:\n",
    "            l=s.galactic.l.radian\n",
    "            b=s.galactic.b.radian\n",
    "            volumes['volume'] += gmodel.volume(l, b, dmin, dmax)/len(footprint)\n",
    "            #volumes['thick'] += tdisk.volume(l, b, dmin, dmax)/len(footprint)\n",
    "            #volumes['halo'] += halo.volume(l, b, dmin, dmax)/len(footprint)\n",
    "            \n",
    "        vols.update({spt: volumes})\n",
    "        counts.update({spt: cnts})\n",
    "        dists.update({spt: dmax})\n",
    "        \n",
    "        \n",
    "    return pd.DataFrame.from_records(vols).T.replace(np.inf, np.nan),\\\n",
    "    pd.DataFrame.from_records(counts).T.replace(np.inf, np.nan),\\\n",
    "    dists\n"
   ]
  },
  {
   "cell_type": "code",
   "execution_count": 3,
   "id": "94255890",
   "metadata": {},
   "outputs": [],
   "source": [
    "footprint = SkyCoord(l=np.random.uniform(-np.pi, np.pi, 10)*u.rad, \n",
    "                     b= np.random.uniform(-np.pi/2, np.pi/2, 10)*u.rad, frame='galactic' )"
   ]
  },
  {
   "cell_type": "code",
   "execution_count": 6,
   "id": "eec5c653",
   "metadata": {},
   "outputs": [],
   "source": [
    "#kirkpatrick\n",
    "p_disk=Population(evolmodel= 'burrows1997',\n",
    "              imf_power=-0.6,\n",
    "              binary_fraction=0.2,\n",
    "              age_range=[0.01, 8],\n",
    "              mass_range=[0.01, .1],\n",
    "             nsample=1e5)\n",
    "    \n",
    "p_disk.simulate()\n",
    "disk= Disk()\n",
    "p_disk.add_distances(disk, footprint.l.radian,footprint.b.radian, 0.1,  50_000, dsteps=5000)"
   ]
  },
  {
   "cell_type": "code",
   "execution_count": null,
   "id": "578f16fe",
   "metadata": {},
   "outputs": [],
   "source": [
    "#kirkpatrick\n",
    "p_tdisk=Population(evolmodel= 'burrows1997',\n",
    "              imf_power=-0.6,\n",
    "              binary_fraction=0.2,\n",
    "              age_range=[0.01, 8],\n",
    "              mass_range=[0.01, .1],\n",
    "             nsample=1e6)\n",
    "    \n",
    "p_tdisk.simulate()\n",
    "disk= Disk(L=3600, H=3600)\n",
    "p_tdisk.add_distances(disk, footprint.l.radian,footprint.b.radian, 0.1,  50_000, dsteps=5000)"
   ]
  },
  {
   "cell_type": "code",
   "execution_count": null,
   "id": "11e4363e",
   "metadata": {},
   "outputs": [],
   "source": [
    "#kirkpatrick\n",
    "p1=Population(evolmodel= 'burrows1997',\n",
    "              imf_power=-0.6,\n",
    "              binary_fraction=0.2,\n",
    "              age_range=[8, 14],\n",
    "              mass_range=[0.01, .1],\n",
    "             nsample=1e6)\n",
    "    \n",
    "p1.simulate()\n",
    "p1.add_distances(Halo(), footprint.l.radian,footprint.b.radian, 0.1,  50_000, dsteps=5000)\n",
    "\n",
    "#add magnitudes from pre-defined filters or pre-define polynomial cofficients\n",
    "p1.add_magnitudes([ 'LSST_R', 'LSST_I', 'LSST_Z'], get_from='spt',object_type='subdwarfs')"
   ]
  },
  {
   "cell_type": "code",
   "execution_count": null,
   "id": "e641216e",
   "metadata": {},
   "outputs": [],
   "source": [
    "#NIRISS_F115W"
   ]
  },
  {
   "cell_type": "code",
   "execution_count": null,
   "id": "cd2f5951",
   "metadata": {},
   "outputs": [],
   "source": [
    "#kirkpatrick\n",
    "p2=Population(evolmodel= 'burrows1997',\n",
    "              imf_power=-2.5,\n",
    "              binary_fraction=0.2,\n",
    "              age_range=[8, 14],\n",
    "              mass_range=[0.01, .1],\n",
    "             nsample=1e6)\n",
    "    \n",
    "p2.simulate()\n",
    "p2.add_distances(Halo(),footprint.l.radian,footprint.b.radian, 0.1, 50_000, dsteps=5000)\n",
    "\n",
    "#add magnitudes from pre-defined filters or pre-define polynomial cofficients\n",
    "p2.add_magnitudes([ 'LSST_R', 'LSST_I', 'LSST_Z'], get_from='spt', object_type='subdwarfs')"
   ]
  },
  {
   "cell_type": "code",
   "execution_count": null,
   "id": "810e38bb",
   "metadata": {},
   "outputs": [],
   "source": [
    "#kirkpatrick\n",
    "p3=Population(evolmodel= 'burrows1997',\n",
    "              imf_power=2.5,\n",
    "              binary_fraction=0.2,\n",
    "              age_range=[8, 14],\n",
    "              mass_range=[0.01, .1],\n",
    "             nsample=1e6)\n",
    "    \n",
    "p3.simulate()\n",
    "p3.add_distances(Halo(),  footprint.l.radian,footprint.b.radian, 0.1,  50_000, dsteps=5000)\n",
    "\n",
    "#add magnitudes from pre-defined filters or pre-define polynomial cofficients\n",
    "p3.add_magnitudes(['LSST_G', 'LSST_R', 'LSST_I', 'LSST_Z',  'NIRISS_F115W'], get_from='spt')"
   ]
  },
  {
   "cell_type": "code",
   "execution_count": null,
   "id": "2edfc7f4",
   "metadata": {},
   "outputs": [],
   "source": [
    "cols=['mass', 'age', 'temperature', 'luminosity', 'is_binary', 'spt', \\\n",
    "      'prim_spt', 'sec_spt', 'pri_mass', 'sec_mass', 'prim_luminosity',\\\n",
    "      'sec_luminosity', 'scale', 'scale_unc', 'scale_times_model', 'l', 'b', \\\n",
    "      'distance',  'abs_LSST_R', 'abs_LSST_I', 'abs_LSST_Z', 'LSST_R', 'LSST_I', 'LSST_Z']\n",
    "\n",
    "maglimits={'LSST_Z': [10, 26.1],  'LSST_R':[10, 27.5], 'LSST_I': [10, 26.8]}\n",
    "maglimits1hr= {'LSST_Z': [10, 23.3], 'LSST_R':[10, 24.0], 'LSST_I': [10, 24.7]}\n",
    "sptgrid=np.arange(15, 40)"
   ]
  },
  {
   "cell_type": "code",
   "execution_count": null,
   "id": "0521ca5c",
   "metadata": {},
   "outputs": [],
   "source": [
    "df1=p1.to_dataframe(cols)\n",
    "df2=p2.to_dataframe(cols)\n",
    "df3=p3.to_dataframe(cols)"
   ]
  },
  {
   "cell_type": "code",
   "execution_count": null,
   "id": "904ec5f5",
   "metadata": {},
   "outputs": [],
   "source": [
    "AREA=(18_000*u.degree**2).to(u.radian**2)"
   ]
  },
  {
   "cell_type": "code",
   "execution_count": null,
   "id": "2136452e",
   "metadata": {},
   "outputs": [],
   "source": [
    "n1=  compute_vols_and_numbers(df1, Halo(), sptgrid, footprint, maglimits)\n",
    "n2=  compute_vols_and_numbers(df2, Halo(), sptgrid, footprint, maglimits)\n",
    "n3=  compute_vols_and_numbers(df3, Halo(), sptgrid, footprint, maglimits)"
   ]
  },
  {
   "cell_type": "code",
   "execution_count": null,
   "id": "d95d6062",
   "metadata": {},
   "outputs": [],
   "source": [
    "n1_1hr=  compute_vols_and_numbers(df1, Halo(), sptgrid, footprint, maglimits1hr)\n",
    "n2_1hr=  compute_vols_and_numbers(df2, Halo(), sptgrid, footprint, maglimits1hr)\n",
    "n3_1hr=  compute_vols_and_numbers(df3, Halo(), sptgrid, footprint, maglimits1hr)"
   ]
  },
  {
   "cell_type": "code",
   "execution_count": null,
   "id": "9643d37b",
   "metadata": {},
   "outputs": [],
   "source": [
    "#kirkpatrick\n",
    "p1_thin=Population(evolmodel= 'burrows1997',\n",
    "              imf_power=-0.6,\n",
    "              binary_fraction=0.2,\n",
    "              age_range=[0.1, 8],\n",
    "              mass_range=[0.01, .1],\n",
    "             nsample=1e6)\n",
    "\n",
    "#kirkpatrick\n",
    "p1_thick=Population(evolmodel= 'burrows1997',\n",
    "              imf_power=-0.6,\n",
    "              binary_fraction=0.2,\n",
    "              age_range=[8, 14],\n",
    "              mass_range=[0.01, .1],\n",
    "             nsample=1e6)\n",
    "\n",
    "p1_thin.simulate()\n",
    "p1_thick.simulate()\n",
    "\n"
   ]
  },
  {
   "cell_type": "code",
   "execution_count": null,
   "id": "fb72ec89",
   "metadata": {},
   "outputs": [],
   "source": [
    "p1_thin.add_distances(Disk(),  footprint.l.radian,footprint.b.radian, 0.1,  50_000, dsteps=5000)\n",
    "p1_thick.add_distances(Disk(L=2600, H=1000),  footprint.l.radian,footprint.b.radian, 0.1,  50_000, dsteps=5000)"
   ]
  },
  {
   "cell_type": "code",
   "execution_count": null,
   "id": "5974344f",
   "metadata": {},
   "outputs": [],
   "source": [
    "p1_thin.add_magnitudes(['LSST_G', 'LSST_R', 'LSST_I', 'LSST_Z',  'NIRISS_F115W'], get_from='spt')\n",
    "p1_thick.add_magnitudes(['LSST_R', 'LSST_I', 'LSST_Z'], get_from='spt',  object_type='subdwarfs')"
   ]
  },
  {
   "cell_type": "code",
   "execution_count": null,
   "id": "b23e6a15",
   "metadata": {},
   "outputs": [],
   "source": [
    "df1_thin=p1_thin.to_dataframe(cols)\n",
    "df1_thick=p1_thick.to_dataframe(cols)"
   ]
  },
  {
   "cell_type": "code",
   "execution_count": null,
   "id": "361fb2e7",
   "metadata": {},
   "outputs": [],
   "source": [
    "n1_thin=  compute_vols_and_numbers(df1_thin, Disk(), sptgrid, footprint, maglimits)\n",
    "n1_thick=  compute_vols_and_numbers(df1_thick, Disk(H=1000, L=3600), sptgrid, footprint, maglimits)"
   ]
  },
  {
   "cell_type": "code",
   "execution_count": null,
   "id": "15f26b9b",
   "metadata": {},
   "outputs": [],
   "source": [
    "fig, ax=plt.subplots(figsize=(7*0.7, 6*0.7))\n",
    "\n",
    "plt.step(sptgrid, 0.0025*n1[0].values.flatten()*(n1[1].values.flatten()*AREA.value),\\\n",
    "         label=r'Halo', color='#0074D9', linewidth=3)\n",
    "\n",
    "plt.step(sptgrid, n1_thin[0].values.flatten()*(n1_thin[1].values.flatten()*AREA.value),\\\n",
    "         label=r'Thin Disk', color='#FFFFFF', linewidth=3)\n",
    "\n",
    "plt.step(sptgrid, 0.12*n1_thick[0].values.flatten()*(n1_thick[1].values.flatten()*AREA.value),\\\n",
    "         label=r'Thick Disk', color='#FF851B', linewidth=3)\n",
    "\n",
    "ax.legend()\n",
    "ax.set(yscale='log', xlabel='Spectral Type', ylabel='Number of Sources',  xticks=[15, 20, 25, 30, 35, 40],\n",
    "       xticklabels=['M5', 'L0', 'L5', 'T0', 'T5', 'Y0'],  ylim=[1, 1e7])\n",
    "ax.minorticks_on()\n",
    "plt.savefig('../figures_lsst_counts.pdf', bbox_inches='tight')"
   ]
  },
  {
   "cell_type": "code",
   "execution_count": null,
   "id": "0c519e4b",
   "metadata": {},
   "outputs": [],
   "source": [
    "n1_1hr=  compute_vols_and_numbers(df1, Halo(), sptgrid, footprint, maglimits1hr)\n",
    "n1_thin_1hr=  compute_vols_and_numbers(df1_thin, Disk(), sptgrid, footprint, maglimits1hr)\n",
    "n1_thick_1hr=  compute_vols_and_numbers(df1_thick, Disk(H=1000, L=3600), sptgrid, footprint,maglimits1hr)"
   ]
  },
  {
   "cell_type": "code",
   "execution_count": null,
   "id": "76f368a5",
   "metadata": {},
   "outputs": [],
   "source": [
    "fig, ax=plt.subplots(figsize=(7*0.7, 6*0.7))\n",
    "\n",
    "plt.step(sptgrid, 0.0025*n1_1hr[0].values.flatten()*(n1_1hr[1].values.flatten()*AREA.value),\\\n",
    "         label=r'Halo', color='#0074D9', linewidth=3)\n",
    "\n",
    "plt.step(sptgrid, n1_thin_1hr[0].values.flatten()*(n1_thin_1hr[1].values.flatten()*AREA.value),\\\n",
    "         label=r'Thin Disk', color='#FFFFFF', linewidth=3)\n",
    "\n",
    "plt.step(sptgrid, 0.12*n1_thick_1hr[0].values.flatten()*(n1_thick_1hr[1].values.flatten()*AREA.value),\\\n",
    "         label=r'Thick Disk', color='#FF851B', linewidth=3)\n",
    "\n",
    "ax.legend()\n",
    "ax.set(yscale='log', xlabel='Spectral Type', ylabel='Number of Sources',  xticks=[15, 20, 25, 30, 35, 40],\n",
    "       xticklabels=['M5', 'L0', 'L5', 'T0', 'T5', 'Y0'], ylim=[1, 1e7])\n",
    "ax.minorticks_on()\n",
    "plt.savefig('../figures_lsst_counts_1hr.pdf', bbox_inches='tight')"
   ]
  },
  {
   "cell_type": "code",
   "execution_count": null,
   "id": "bf07b0c2",
   "metadata": {},
   "outputs": [],
   "source": [
    "dp0_data=pd.read_csv('/Volumes/lacie/popsimsdata/cone_search.csv')\n"
   ]
  },
  {
   "cell_type": "code",
   "execution_count": null,
   "id": "0b147401",
   "metadata": {},
   "outputs": [],
   "source": [
    "\n"
   ]
  },
  {
   "cell_type": "code",
   "execution_count": null,
   "id": "9df0f0fe",
   "metadata": {},
   "outputs": [],
   "source": [
    "fig, ax=plt.subplots(figsize=(10, 6))\n",
    "\n",
    "\n",
    "\n",
    "\n",
    "for x, l in zip([df1_thin, df1_thick], ['Thin Disk', 'Thick Disk']):\n",
    "    x['r-i']=x.LSST_R-x.LSST_I\n",
    "    x['i-z']=x.LSST_I-x.LSST_Z\n",
    "    \n",
    "    for k in maglimits.keys():\n",
    "            mag_cut= maglimits[k]\n",
    "            x= (x[x[k]< mag_cut[-1]]).reset_index(drop=True)\n",
    "            \n",
    "    ax.scatter(x['i-z'], x['r-i'], label=l, s=.1)\n",
    "\n",
    "\n",
    "ax.scatter(dp0_data.mag_i-dp0_data.mag_z, dp0_data.mag_r-dp0_data.mag_i,  label='DP0 Data', s=.1, c='k')\n",
    "\n",
    "\n",
    "ax.set(xlabel='i-z', ylabel='r-i', xlim=[-0.5, 3])\n",
    "ax.legend(markerscale=20)\n",
    "ax.minorticks_on()\n",
    "plt.savefig('../figures_lsst_colors.jpeg', bbox_inches='tight')"
   ]
  },
  {
   "cell_type": "code",
   "execution_count": null,
   "id": "dcd067ba",
   "metadata": {},
   "outputs": [],
   "source": []
  },
  {
   "cell_type": "code",
   "execution_count": null,
   "id": "a1590a60",
   "metadata": {},
   "outputs": [],
   "source": [
    "#hack to get get g-r\n",
    "from popsims.abs_mag_relations import POLYNOMIALS\n",
    "po= POLYNOMIALS['colors_{}'.format('spt')]['subdwarfs']\n",
    "\n",
    "po_g=POLYNOMIALS['absmags_{}'.format('spt')]['dwarfs']"
   ]
  },
  {
   "cell_type": "code",
   "execution_count": null,
   "id": "501813ae",
   "metadata": {},
   "outputs": [],
   "source": [
    "def get_values(x, pol, k):\n",
    "    fit=np.poly1d(pol[k]['fit'])\n",
    "    rng=pol[k]['range']\n",
    "    mag_key=pol[k]['y']\n",
    "    offset=pol[k]['x0']\n",
    "    #put constraints on spt range\n",
    "    mask= np.logical_and(x >rng[0], x <=rng[-1])\n",
    "    abs_mag=np.random.normal(fit(x-offset),0.1)\n",
    "    masked_abs_mag= np.ma.masked_array(data=abs_mag, mask=~mask)\n",
    "    return masked_abs_mag.filled(np.nan)"
   ]
  },
  {
   "cell_type": "code",
   "execution_count": null,
   "id": "ec2cb16c",
   "metadata": {},
   "outputs": [],
   "source": [
    "gs= get_values(df1_thin.spt.values.astype(float), po_g, 'LSST_G')"
   ]
  },
  {
   "cell_type": "code",
   "execution_count": null,
   "id": "da378e5e",
   "metadata": {},
   "outputs": [],
   "source": [
    "fig, ax=plt.subplots()\n",
    "ax.scatter(df1_thin.spt.values.astype(float), gs)"
   ]
  },
  {
   "cell_type": "code",
   "execution_count": null,
   "id": "e6c767d8",
   "metadata": {},
   "outputs": [],
   "source": [
    "df1_thin['g-r']=gs-df1_thin.abs_LSST_R.values"
   ]
  },
  {
   "cell_type": "code",
   "execution_count": null,
   "id": "2a7b030f",
   "metadata": {},
   "outputs": [],
   "source": [
    "gr= get_values(df1_thick.spt.values.astype(float), po, 'LSST_GandLSST_R')"
   ]
  },
  {
   "cell_type": "code",
   "execution_count": null,
   "id": "f96532a7",
   "metadata": {},
   "outputs": [],
   "source": [
    "df1_thick['g-r']= gr"
   ]
  },
  {
   "cell_type": "code",
   "execution_count": null,
   "id": "f848f6df",
   "metadata": {},
   "outputs": [],
   "source": [
    "fig, ax=plt.subplots(figsize=(10, 6))\n",
    "\n",
    "\n",
    "ax.scatter(dp0_data.mag_r-dp0_data.mag_z, dp0_data.mag_g-dp0_data.mag_r,  label='DP0 Data', s=.1, color='k')\n",
    "\n",
    "for x, l in zip([df1_thin, df1_thick], ['Thin Disk', 'Thick Disk']):\n",
    "    x['r-i']=x.LSST_R-x.LSST_I\n",
    "    x['i-z']=x.LSST_I-x.LSST_Z\n",
    "    x['r-z']=x.LSST_R-x.LSST_Z\n",
    "    for k in maglimits.keys():\n",
    "            mag_cut= maglimits[k]\n",
    "            x= (x[x[k]< mag_cut[-1]]).reset_index(drop=True)\n",
    "            \n",
    "    ax.scatter(x['r-z'], x['g-r'], label=l, s=.1)\n",
    "\n",
    "\n",
    "\n",
    "\n",
    "\n",
    "\n",
    "ax.set(xlabel='r-z', ylabel='g-r', ylim=[-0.5, 4], xlim=[-0.5, 6])\n",
    "ax.legend(markerscale=20)\n",
    "ax.minorticks_on()\n",
    "plt.savefig('../figures_lsst_colors_gr.jpeg', bbox_inches='tight', facecolor='white')"
   ]
  },
  {
   "cell_type": "code",
   "execution_count": null,
   "id": "48dd58a7",
   "metadata": {},
   "outputs": [],
   "source": [
    "dp0_data['i-z']=dp0_data.mag_i-dp0_data.mag_z\n",
    "dp0_data['r-i']=dp0_data.mag_r-dp0_data.mag_i\n",
    "dp0_data['g-r']=dp0_data.mag_g-dp0_data.mag_r\n",
    "dp0_data['r-z']=dp0_data.mag_r-dp0_data.mag_z"
   ]
  },
  {
   "cell_type": "code",
   "execution_count": null,
   "id": "36c708d7",
   "metadata": {},
   "outputs": [],
   "source": [
    "for k in maglimits.keys():\n",
    "    mag_cut= maglimits[k]\n",
    "    df1_thin= (df1_thin[df1_thin[k]< mag_cut[-1]]).reset_index(drop=True)\n",
    "    df1_thick= (df1_thick[df1_thick[k]< mag_cut[-1]]).reset_index(drop=True)"
   ]
  },
  {
   "cell_type": "code",
   "execution_count": null,
   "id": "7731ca1a",
   "metadata": {},
   "outputs": [],
   "source": [
    "#create machine learning data\n",
    "data=(pd.concat([df1_thin, df1_thick, dp0_data])[['r-i', 'i-z', 'g-r', 'r-z']]).dropna().values"
   ]
  },
  {
   "cell_type": "code",
   "execution_count": null,
   "id": "7b962045",
   "metadata": {},
   "outputs": [],
   "source": [
    "data.shape"
   ]
  },
  {
   "cell_type": "code",
   "execution_count": null,
   "id": "107d4238",
   "metadata": {},
   "outputs": [],
   "source": [
    "data.shape"
   ]
  },
  {
   "cell_type": "code",
   "execution_count": null,
   "id": "89db4bbb",
   "metadata": {},
   "outputs": [],
   "source": [
    "import hdbscan\n",
    "from sklearn.datasets import make_blobs\n",
    "\n",
    "#data, _ = make_blobs(1000)\n",
    "\n",
    "clusterer = hdbscan.HDBSCAN(min_cluster_size=3)\n",
    "cluster_labels = clusterer.fit_predict(data)"
   ]
  },
  {
   "cell_type": "code",
   "execution_count": null,
   "id": "53b66dfa",
   "metadata": {},
   "outputs": [],
   "source": [
    "\n",
    "fig, ax=plt.subplots()\n",
    "plt.scatter(data.T[0], data.T[1], s=.1, c=cluster_labels, cmap='cividis')\n"
   ]
  },
  {
   "cell_type": "code",
   "execution_count": null,
   "id": "313adbdc",
   "metadata": {},
   "outputs": [],
   "source": [
    "=bo,y"
   ]
  },
  {
   "cell_type": "code",
   "execution_count": null,
   "id": "13d3b177",
   "metadata": {},
   "outputs": [],
   "source": []
  },
  {
   "cell_type": "code",
   "execution_count": null,
   "id": "28c9af6e",
   "metadata": {},
   "outputs": [],
   "source": [
    "fig, ax=plt.subplots(figsize=(6*0.7, 8*0.7))\n",
    "plt.step(sptgrid, 0.0025*n1[1].values.flatten()*(n1[1].values.flatten()*AREA.value),\\\n",
    "         label=r'$dn/dm \\propto m^{-0.6} $', color='#0074D9', linewidth=3)\n",
    "plt.step(sptgrid, 0.0025*n2[1].values.flatten()*(n2[1].values.flatten()*AREA.value), \\\n",
    "         label=r'$dn/dm \\propto m^{-2.5} $', color='#FF851B', linestyle='-', linewidth=3)\n",
    "plt.step(sptgrid, 0.0025*n3[1].values.flatten()*(n3[1].values.flatten()*AREA.value), \\\n",
    "         label=r'$dn/dm \\propto m^{2.5} $', color='#111111', linestyle='-', linewidth=3)\n",
    "\n",
    "#plt.step(sptgrid, 0.0025*n1_1hr[0].values.flatten()*n1_1hr[1].values.flatten()*AREA.value,\\\n",
    "#         label=r'$dn/dm \\propto m^{-0.6} $', color='#0074D9', linestyle=':', linewidth=3)\n",
    "#plt.step(sptgrid, 0.0025*n2_1hr[0].values.flatten()*n2_1hr[1].values.flatten()*AREA.value, \\\n",
    "#         label=r'$dn/dm \\propto m^{-2.5} $', color='#FF851B', linestyle=':', linewidth=3)\n",
    "#plt.step(sptgrid, 0.0025*n3_1hr[0].values.flatten()*n3_1hr[1].values.flatten()*AREA.value, \\\n",
    "#         label=r'$dn/dm \\propto m^{2.5} $', color='#111111', linestyle=':', linewidth=3)\n",
    "\n",
    "plt.legend()\n",
    "ax.set(yscale='log', xlabel='Spectral Type', ylabel='Space Density of Halo Stars',  xticks=[15, 20, 25, 30, 35, 40],\n",
    "       xticklabels=['M5', 'L0', 'L5', 'T0', 'T5', 'Y0'])\n",
    "ax.minorticks_on()\n",
    "plt.savefig('../figures_lsst_imfs.pdf', bbox_inches='tight')"
   ]
  },
  {
   "cell_type": "code",
   "execution_count": null,
   "id": "8888d4df",
   "metadata": {},
   "outputs": [],
   "source": [
    "maglimits_jwst={'NIRISS_F115W': [10, 29.]}\n",
    "\n",
    "n1_jw=  compute_vols_and_numbers(df1, Halo(), sptgrid, footprint, maglimits_jwst)\n",
    "n2_jw=  compute_vols_and_numbers(df2, Halo(), sptgrid, footprint, maglimits_jwst)\n",
    "n3_jw=  compute_vols_and_numbers(df3, Halo(), sptgrid, footprint, maglimits_jwst)"
   ]
  },
  {
   "cell_type": "code",
   "execution_count": null,
   "id": "e8b22eca",
   "metadata": {},
   "outputs": [],
   "source": [
    "AREA_JWST=(200*u.arcmin**2).to(u.radian**2)"
   ]
  },
  {
   "cell_type": "code",
   "execution_count": null,
   "id": "de3e368e",
   "metadata": {},
   "outputs": [],
   "source": [
    "def cum_numbers(sptgrid, n, area):\n",
    "    n=0.0025*n[0].values.flatten()*n[1].values.flatten()*area.value  \n",
    "    return np.cumsum(n)"
   ]
  },
  {
   "cell_type": "code",
   "execution_count": null,
   "id": "62b731d6",
   "metadata": {},
   "outputs": [],
   "source": [
    "cum_numbers(sptgrid, n1_jw, AREA_JWST)"
   ]
  },
  {
   "cell_type": "code",
   "execution_count": null,
   "id": "309f5a63",
   "metadata": {},
   "outputs": [],
   "source": [
    "fig, ax=plt.subplots(figsize=(6*0.7, 8*0.7))\n",
    "\n",
    "n=cum_numbers(sptgrid, n1_jw, AREA_JWST)\n",
    "plt.step(sptgrid, n ,\\\n",
    "         label=r'$dn/dm \\propto m^{-0.6} $', color='#0074D9', linewidth=3)\n",
    "plt.fill_between(sptgrid, n-np.sqrt(n), n+np.sqrt(n),  color='#0074D9', step=\"pre\", alpha=0.4)\n",
    "\n",
    "n2=cum_numbers(sptgrid, n2_jw, AREA_JWST)\n",
    "plt.step(sptgrid, n2,\\\n",
    "         label=r'$dn/dm \\propto m^{-2.5} $', color='#FF851B', linestyle='-', linewidth=3)\n",
    "plt.fill_between(sptgrid, n2-np.sqrt(n2), n2+np.sqrt(n2), color='#FF851B', step=\"pre\", alpha=0.4)\n",
    "\n",
    "\n",
    "n3=cum_numbers(sptgrid, n3_jw, AREA_JWST)\n",
    "plt.step(sptgrid, cum_numbers(sptgrid, n3_jw, AREA_JWST),\\\n",
    "         label=r'$dn/dm \\propto m^{2.5} $', color='#111111', linestyle='-', linewidth=3)\n",
    "plt.fill_between(sptgrid, n3-np.sqrt(n3), n3+np.sqrt(n3), color='#111111', step=\"pre\", alpha=0.4)\n",
    "\n",
    "\n",
    "plt.legend()\n",
    "ax.minorticks_on()\n",
    "\n",
    "ax.set(yscale='log', xlabel='Spectral Type', ylabel='Cumulative Number of Halo Stars',  xticks=[15, 20, 25, 30, 35, 40],\n",
    "       xticklabels=['M5', 'L0', 'L5', 'T0', 'T5', 'Y0'])\n",
    "ax.minorticks_on()\n",
    "plt.savefig('../figures_jwst_imfs.pdf', bbox_inches='tight')"
   ]
  },
  {
   "cell_type": "code",
   "execution_count": null,
   "id": "8a01f9b6",
   "metadata": {},
   "outputs": [],
   "source": []
  }
 ],
 "metadata": {
  "kernelspec": {
   "display_name": "Python 3 (ipykernel)",
   "language": "python",
   "name": "python3"
  },
  "language_info": {
   "codemirror_mode": {
    "name": "ipython",
    "version": 3
   },
   "file_extension": ".py",
   "mimetype": "text/x-python",
   "name": "python",
   "nbconvert_exporter": "python",
   "pygments_lexer": "ipython3",
   "version": "3.9.13"
  }
 },
 "nbformat": 4,
 "nbformat_minor": 5
}
