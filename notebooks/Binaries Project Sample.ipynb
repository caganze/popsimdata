{
 "cells": [
  {
   "cell_type": "code",
   "execution_count": 1,
   "id": "68615e84",
   "metadata": {},
   "outputs": [
    {
     "name": "stdout",
     "output_type": "stream",
     "text": [
      "\n",
      "\n",
      "Welcome to the Spex Prism Library Analysis Toolkit (SPLAT)!\n",
      "If you make use of any features of this toolkit for your research, please remember to cite the SPLAT paper:\n",
      "\n",
      "Burgasser et al. (2017, Astro. Soc. India Conf. Series 14, p. 7); Bibcode: 2017ASInC..14....7B\n",
      "\n",
      "If you make use of any spectra or models in this toolkit, please remember to cite the original source.\n",
      "Please report any errors are feature requests to our github page, https://github.com/aburgasser/splat/\n",
      "\n",
      "\n"
     ]
    }
   ],
   "source": [
    "import pandas as pd\n",
    "import numpy as np\n",
    "import matplotlib.pyplot as plt\n",
    "import splat\n",
    "%matplotlib inline\n"
   ]
  },
  {
   "cell_type": "code",
   "execution_count": 2,
   "id": "13a3b3e3",
   "metadata": {},
   "outputs": [],
   "source": [
    "splat.initializeStandards()"
   ]
  },
  {
   "cell_type": "code",
   "execution_count": 3,
   "id": "5d9205ef",
   "metadata": {},
   "outputs": [],
   "source": [
    "#short names for visually confirmed ugly spectra \n",
    "FORBIDDEN_LIST=['J0148+1202',  'J0331+4130', 'J0338-4409', 'J0343+3155',\n",
    "' J0344+3204', '0344+3200', 'J0344+3156', 'J0344+3203',\n",
    "'J0345+3205','J0419+2712', 'J0435+2254','J0438+2519',\n",
    "'J0448-4432', 'J0448-4432', 'J0501-3341', 'J0512-2949',\n",
    "'J0610-2151','J0621+6558','J0624-1045', 'J0628-0959',\n",
    "'J0815+1041','J0822+1700', 'J0935+0019','J0950+0540',\n",
    "'J1004+5023','J1050-2940','J1132-3018','J1132-3018',\n",
    "'J1132-3018','J1132-3018','J1132-3018','J1132-3018',\n",
    "'J1132-3018','J1132-3018', 'J1132-3018','J1132-3018',\n",
    "'J1138-1314','J1209-3041','J1211-2821','J1224-2744',\n",
    "'J1257-0204','J1303+2351','J1312+0051','J1317-1427',\n",
    "'J1325-2128', 'J1420-1752', 'J1423+0116','J1629+1415',\n",
    "'J1642-2355','J1642-2355','J1659+3515','J1726-1158',\n",
    "'J1729+4352','J1829+5032','J1839-3744','J1924+5506',\n",
    "'J1932+0133', 'J1932-3921', 'J1945-4149', 'J2001-3805',\n",
    "'J2024-3422', 'J2028+6925', 'J2034+6727','J2151-3349',\n",
    "'J2012+6726', 'J2043-1551', 'J2238+4353', 'J2302-0935',\n",
    "'J0345+3205', 'J0412+1044', 'J0422+0810', 'J0439-2353',\n",
    "'J0441+2130', 'J0729-3954', 'J0755+1138', 'J0919+5135',\n",
    "'J1132-3018', 'J1423+0116', 'J1707-0538', 'J1726-1158',\n",
    "'J1740+1317', 'J0248+2445', 'J0307+2904', 'J0330+3505',\n",
    "'J0343+3203', 'J0343+3202','J0344+3208', 'J0344+3203',\n",
    "'J0344+3201', 'J1620-2446', 'J0345+3205', 'J30345+3206', \n",
    "'J1659+2055','J0107-1314', 'J1039+3256', 'J1059+5659',\n",
    "'J1202+5345', 'J1318+3626', 'J1619-2832', 'J1707-0558',\n",
    "'J1813+5101', 'J2002-0521', 'J2300+0200']"
   ]
  },
  {
   "cell_type": "code",
   "execution_count": 4,
   "id": "c717f181",
   "metadata": {},
   "outputs": [],
   "source": [
    "def plot_sp_sp(sp, a, shortname, spex_type):\n",
    "    #plot a spectrum\n",
    "    std=splat.STDS_DWARF_SPEX[spex_type]\n",
    "    \n",
    "    chi, sc=splat.compareSpectra( sp, std)\n",
    "    std.scale(sc)\n",
    "    \n",
    "    a.plot(sp.wave, sp.flux, c='k', linewidth=4, label=shortname)\n",
    "    a.plot(std.wave, std.flux, c='#7FDBFF', linewidth=2, label='{} STD'.format(spex_type))\n",
    "    \n",
    "    xlim=[0.7, 2.5]\n",
    "    mask= np.logical_and(std.wave.value>xlim[0], std.wave.value<xlim[1])\n",
    "    ylim= [std.flux[mask].value.min(), std.flux.value[mask].max()]\n",
    "    a.set(xlabel='Wave (micron)', ylabel=' Flux', xlim=xlim, ylim=ylim)\n",
    "    \n",
    "    a.legend()\n",
    "    \n",
    "def get_spectrum(filename):\n",
    "    try:\n",
    "        return splat.getSpectrum(filename=filename)[0]\n",
    "    except:\n",
    "        return \n",
    "    \n",
    "def get_shortname(des):\n",
    "    if '+' in des:\n",
    "        c=des.split('+')\n",
    "        return c[0][:5]+'+'+c[1][:4]\n",
    "    if '-' in des:\n",
    "        c=des.split('-')\n",
    "        return c[0][:5]+'-'+c[1][:4]"
   ]
  },
  {
   "cell_type": "code",
   "execution_count": 5,
   "id": "52f2966f",
   "metadata": {
    "scrolled": false
   },
   "outputs": [],
   "source": [
    "%%capture\n",
    "db= splat.searchLibrary(vlm=True)\n",
    "spectra= db.DATA_FILE.apply(get_spectrum)"
   ]
  },
  {
   "cell_type": "code",
   "execution_count": 6,
   "id": "9b016307",
   "metadata": {},
   "outputs": [],
   "source": [
    "db['SHORTNAME']=db.DESIGNATION.apply(get_shortname)"
   ]
  },
  {
   "cell_type": "code",
   "execution_count": 7,
   "id": "70bbab57",
   "metadata": {},
   "outputs": [],
   "source": [
    "#ADD A KEY WORK FOR OBJECTS THAT PASSED VISUAL INSPECTION\n",
    "db['PASSED_INSPECTION']=[x not in FORBIDDEN_LIST for x in db.SHORTNAME ]"
   ]
  },
  {
   "cell_type": "code",
   "execution_count": 8,
   "id": "379d0e7a",
   "metadata": {},
   "outputs": [],
   "source": [
    "db['SPECTRA']= spectra"
   ]
  },
  {
   "cell_type": "code",
   "execution_count": 9,
   "id": "c1c9fc78",
   "metadata": {},
   "outputs": [],
   "source": [
    "#db"
   ]
  },
  {
   "cell_type": "code",
   "execution_count": 10,
   "id": "6ed569a4",
   "metadata": {},
   "outputs": [],
   "source": [
    "db=(db[~db.SPEX_TYPE.isna()]).reset_index(drop=True)"
   ]
  },
  {
   "cell_type": "code",
   "execution_count": 11,
   "id": "7bdca0d7",
   "metadata": {},
   "outputs": [],
   "source": [
    "#fig, ax=plt.subplots()\n",
    "#plot_sp_sp(db.iloc[0].SPECTRA, ax, \\\n",
    "#           db.iloc[0].SHORTNAME, db.iloc[0].SPEX_TYPE)"
   ]
  },
  {
   "cell_type": "code",
   "execution_count": 12,
   "id": "6dddf6e4",
   "metadata": {},
   "outputs": [],
   "source": [
    "from matplotlib.backends.backend_pdf import PdfPages"
   ]
  },
  {
   "cell_type": "code",
   "execution_count": 13,
   "id": "893181da",
   "metadata": {},
   "outputs": [],
   "source": [
    "#'L0.0:'[:4]\n",
    "#s[:4]"
   ]
  },
  {
   "cell_type": "code",
   "execution_count": 17,
   "id": "0415c514",
   "metadata": {},
   "outputs": [],
   "source": [
    "#plot everything in a pdf\n",
    "def plot_everything(df, filename):\n",
    "    with PdfPages('/users/caganze/'+filename) as pdf:\n",
    "\n",
    "        for g in np.array_split(df, int(len(df)/4)):\n",
    "            \n",
    "\n",
    "            fig, ax=plt.subplots(ncols=2, nrows=2)\n",
    "            \n",
    "            plot_sp_sp(g.SPECTRA.iloc[0], ax[0][0], g.SHORTNAME.iloc[0],  g.SPEX_TYPE.iloc[0][:4] )\n",
    "            plot_sp_sp(g.SPECTRA.iloc[1], ax[0][1],  g.SHORTNAME.iloc[1], g.SPEX_TYPE.iloc[1][:4] )\n",
    "            plot_sp_sp(g.SPECTRA.iloc[2], ax[1][0],  g.SHORTNAME.iloc[2], g.SPEX_TYPE.iloc[2][:4] )\n",
    "            plot_sp_sp(g.SPECTRA.iloc[3], ax[1][1],  g.SHORTNAME.iloc[3], g.SPEX_TYPE.iloc[3][:4] )\n",
    "            \n",
    "            plt.tight_layout()\n",
    "            pdf.savefig() \n",
    "            plt.close()\n",
    "            \n"
   ]
  },
  {
   "cell_type": "code",
   "execution_count": 15,
   "id": "dfa29d33",
   "metadata": {},
   "outputs": [],
   "source": [
    "plot_everything(db[db.PASSED_INSPECTION].reset_index(drop=True), filename='vlm_splat_spectra.pdf')\n",
    "plot_everything(db[~db.PASSED_INSPECTION].reset_index(drop=True), filename='rejected_spectra.pdf')"
   ]
  },
  {
   "cell_type": "code",
   "execution_count": 16,
   "id": "46f93901",
   "metadata": {},
   "outputs": [],
   "source": [
    "#scale to the appropriate flux using Dupuy relations\n",
    "#interpolate on wavegrid (0.9-2.4 micron),\n",
    "#compute photometric spectro-photometric magnitudes in MKO J and H\n",
    "#measure J-SNR 1.1-1.3 micron\n",
    "#"
   ]
  }
 ],
 "metadata": {
  "kernelspec": {
   "display_name": "Python 3 (ipykernel)",
   "language": "python",
   "name": "python3"
  },
  "language_info": {
   "codemirror_mode": {
    "name": "ipython",
    "version": 3
   },
   "file_extension": ".py",
   "mimetype": "text/x-python",
   "name": "python",
   "nbconvert_exporter": "python",
   "pygments_lexer": "ipython3",
   "version": "3.9.13"
  }
 },
 "nbformat": 4,
 "nbformat_minor": 5
}
