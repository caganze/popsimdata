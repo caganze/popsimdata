{
 "cells": [
  {
   "cell_type": "code",
   "execution_count": 44,
   "id": "6a9582bd",
   "metadata": {},
   "outputs": [],
   "source": [
    "import pandas as pd\n",
    "import numpy as np\n",
    "\n",
    "import popsims\n",
    "from popsims.galaxy import Disk\n",
    "from astropy.coordinates import SkyCoord\n",
    "import astropy.units as u\n",
    "\n",
    "import warnings\n",
    "\n",
    "warnings.filterwarnings(\"ignore\")\n",
    "\n",
    "from popsims.galaxy import Disk, Halo, Uniform\n",
    "from popsims.plot_style import  plot_style\n",
    "import splat.empirical as spe\n",
    "\n",
    "plot_style()\n",
    "import matplotlib.pyplot as plt"
   ]
  },
  {
   "cell_type": "code",
   "execution_count": 22,
   "id": "399b796d",
   "metadata": {},
   "outputs": [],
   "source": [
    "#draw masses from a power-law IMF and uniform ages\n",
    "#obtain temperatures from Baraffe et al.2003 relations\n",
    "p=popsims.Population(evolmodel_name='burrows1997', #evolutionary model\n",
    "              imf_power= -0.6, #power-law imf\n",
    "              binary_fraction=0.01, #binary fraction \n",
    "              age_range=[0.01, 14], #age range in Gyr\n",
    "              mass_range=[0.01, 1], #mass range in solar masses\n",
    "             nsample=1e4)   \n",
    "p.simulate()"
   ]
  },
  {
   "cell_type": "code",
   "execution_count": 27,
   "id": "1db2418e",
   "metadata": {},
   "outputs": [],
   "source": [
    "gmodel=Uniform()"
   ]
  },
  {
   "cell_type": "code",
   "execution_count": 28,
   "id": "d00fd35b",
   "metadata": {},
   "outputs": [],
   "source": [
    "ra, dec= popsims.random_angles(10) #draw randm points"
   ]
  },
  {
   "cell_type": "code",
   "execution_count": 29,
   "id": "9cebeb83",
   "metadata": {},
   "outputs": [],
   "source": [
    "p.add_distances(gmodel, ra, dec, 0, 30, dsteps=5000) #dsteps number of steps in trapezoidal integration"
   ]
  },
  {
   "cell_type": "code",
   "execution_count": null,
   "id": "b0c992b7",
   "metadata": {},
   "outputs": [],
   "source": [
    "fig, ax=plt.subplots()\n",
    "_= plt.hist(p.mass, bins=100)"
   ]
  },
  {
   "cell_type": "code",
   "execution_count": 30,
   "id": "4a6156cc",
   "metadata": {},
   "outputs": [
    {
     "data": {
      "text/html": [
       "<div>\n",
       "<style scoped>\n",
       "    .dataframe tbody tr th:only-of-type {\n",
       "        vertical-align: middle;\n",
       "    }\n",
       "\n",
       "    .dataframe tbody tr th {\n",
       "        vertical-align: top;\n",
       "    }\n",
       "\n",
       "    .dataframe thead th {\n",
       "        text-align: right;\n",
       "    }\n",
       "</style>\n",
       "<table border=\"1\" class=\"dataframe\">\n",
       "  <thead>\n",
       "    <tr style=\"text-align: right;\">\n",
       "      <th></th>\n",
       "      <th>mass</th>\n",
       "      <th>age</th>\n",
       "      <th>distance</th>\n",
       "    </tr>\n",
       "  </thead>\n",
       "  <tbody>\n",
       "    <tr>\n",
       "      <th>0</th>\n",
       "      <td>0.978649</td>\n",
       "      <td>12.928666</td>\n",
       "      <td>28.660982</td>\n",
       "    </tr>\n",
       "    <tr>\n",
       "      <th>1</th>\n",
       "      <td>0.026092</td>\n",
       "      <td>4.242202</td>\n",
       "      <td>21.875724</td>\n",
       "    </tr>\n",
       "    <tr>\n",
       "      <th>2</th>\n",
       "      <td>0.011792</td>\n",
       "      <td>13.493661</td>\n",
       "      <td>29.322849</td>\n",
       "    </tr>\n",
       "    <tr>\n",
       "      <th>3</th>\n",
       "      <td>0.018056</td>\n",
       "      <td>7.195364</td>\n",
       "      <td>27.907662</td>\n",
       "    </tr>\n",
       "    <tr>\n",
       "      <th>4</th>\n",
       "      <td>0.012617</td>\n",
       "      <td>12.295136</td>\n",
       "      <td>22.466222</td>\n",
       "    </tr>\n",
       "    <tr>\n",
       "      <th>...</th>\n",
       "      <td>...</td>\n",
       "      <td>...</td>\n",
       "      <td>...</td>\n",
       "    </tr>\n",
       "    <tr>\n",
       "      <th>9995</th>\n",
       "      <td>0.297035</td>\n",
       "      <td>6.083633</td>\n",
       "      <td>26.662033</td>\n",
       "    </tr>\n",
       "    <tr>\n",
       "      <th>9996</th>\n",
       "      <td>0.061016</td>\n",
       "      <td>3.485888</td>\n",
       "      <td>20.195732</td>\n",
       "    </tr>\n",
       "    <tr>\n",
       "      <th>9997</th>\n",
       "      <td>0.812774</td>\n",
       "      <td>10.123757</td>\n",
       "      <td>25.666586</td>\n",
       "    </tr>\n",
       "    <tr>\n",
       "      <th>9998</th>\n",
       "      <td>0.514281</td>\n",
       "      <td>1.873277</td>\n",
       "      <td>18.858812</td>\n",
       "    </tr>\n",
       "    <tr>\n",
       "      <th>9999</th>\n",
       "      <td>0.704314</td>\n",
       "      <td>4.997208</td>\n",
       "      <td>26.459902</td>\n",
       "    </tr>\n",
       "  </tbody>\n",
       "</table>\n",
       "<p>10000 rows × 3 columns</p>\n",
       "</div>"
      ],
      "text/plain": [
       "          mass        age   distance\n",
       "0     0.978649  12.928666  28.660982\n",
       "1     0.026092   4.242202  21.875724\n",
       "2     0.011792  13.493661  29.322849\n",
       "3     0.018056   7.195364  27.907662\n",
       "4     0.012617  12.295136  22.466222\n",
       "...        ...        ...        ...\n",
       "9995  0.297035   6.083633  26.662033\n",
       "9996  0.061016   3.485888  20.195732\n",
       "9997  0.812774  10.123757  25.666586\n",
       "9998  0.514281   1.873277  18.858812\n",
       "9999  0.704314   4.997208  26.459902\n",
       "\n",
       "[10000 rows x 3 columns]"
      ]
     },
     "execution_count": 30,
     "metadata": {},
     "output_type": "execute_result"
    }
   ],
   "source": [
    "p.to_dataframe(['mass', 'age', 'distance'])"
   ]
  },
  {
   "cell_type": "code",
   "execution_count": 31,
   "id": "6910bbec",
   "metadata": {},
   "outputs": [],
   "source": [
    "p.scale_to_local_lf() #scale to Kikpatrick et al. LF"
   ]
  },
  {
   "cell_type": "code",
   "execution_count": 37,
   "id": "8094e045",
   "metadata": {},
   "outputs": [
    {
     "data": {
      "text/plain": [
       "dict_keys(['imfpower', 'binaryfraction', 'binaryq', 'evolmodel_name', 'metallicity', 'agerange', 'massrange', 'nsample', 'evol_model', 'temperature', 'luminosity', 'mass', 'age', 'is_binary', 'spt', 'prim_spt', 'sec_spt', 'pri_mass', 'sec_mass', 'prim_luminosity', 'sec_luminosity', 'distance', 'scale', 'scale_unc', 'scale_times_model'])"
      ]
     },
     "execution_count": 37,
     "metadata": {},
     "output_type": "execute_result"
    }
   ],
   "source": [
    "p.__dict__.keys() #list all the properties "
   ]
  },
  {
   "cell_type": "code",
   "execution_count": 41,
   "id": "d7d32839",
   "metadata": {},
   "outputs": [],
   "source": [
    "#sorry I only have like LSST magnitude relations included\\\n",
    "#but you can use splat to get magnitude relations\n",
    "cols=['temperature', 'luminosity', 'mass', 'age', 'is_binary', 'spt', 'prim_spt', 'sec_spt']\n",
    "df= p.to_dataframe(cols)"
   ]
  },
  {
   "cell_type": "code",
   "execution_count": 49,
   "id": "5a30c6bb",
   "metadata": {},
   "outputs": [],
   "source": [
    "mags=[spe.typeToMag(x, 'MKO_J')[0] for x in df.spt.values]"
   ]
  },
  {
   "cell_type": "code",
   "execution_count": null,
   "id": "f17e61be",
   "metadata": {},
   "outputs": [],
   "source": [
    "#you can compute expcted number counts\n"
   ]
  }
 ],
 "metadata": {
  "kernelspec": {
   "display_name": "Python 3 (ipykernel)",
   "language": "python",
   "name": "python3"
  },
  "language_info": {
   "codemirror_mode": {
    "name": "ipython",
    "version": 3
   },
   "file_extension": ".py",
   "mimetype": "text/x-python",
   "name": "python",
   "nbconvert_exporter": "python",
   "pygments_lexer": "ipython3",
   "version": "3.9.13"
  }
 },
 "nbformat": 4,
 "nbformat_minor": 5
}
